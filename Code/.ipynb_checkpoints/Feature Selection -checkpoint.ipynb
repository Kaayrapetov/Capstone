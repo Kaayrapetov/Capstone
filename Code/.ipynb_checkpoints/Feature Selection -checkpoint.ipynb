{
 "cells": [
  {
   "cell_type": "code",
   "execution_count": 6,
   "id": "b9d1793f",
   "metadata": {},
   "outputs": [],
   "source": [
    "import pandas as pd\n",
    "import numpy as np\n",
    "import matplotlib.pyplot as plt\n",
    "import seaborn as sns\n",
    "from sklearn.preprocessing import LabelEncoder\n",
    "from sklearn import preprocessing\n",
    "from sklearn.feature_selection import SelectKBest, chi2\n",
    "from sklearn.feature_selection import SelectFromModel\n",
    "from sklearn.ensemble import RandomForestClassifier as rf\n",
    "from sklearn.preprocessing import StandardScaler\n",
    "from sklearn.metrics import accuracy_score, roc_auc_score, classification_report, plot_confusion_matrix, plot_roc_curve\n",
    "from sklearn.linear_model import LogisticRegression\n",
    "from sklearn.naive_bayes import GaussianNB\n",
    "from sklearn.neighbors import KNeighborsClassifier\n",
    "from sklearn.tree import DecisionTreeClassifier\n",
    "from sklearn.tree import DecisionTreeClassifier\n",
    "from sklearn.neural_network import MLPClassifier\n",
    "from sklearn.ensemble import RandomForestClassifier\n",
    "import xgboost as xgb\n",
    "from sklearn.ensemble import AdaBoostClassifier\n",
    "from mlxtend.classifier import EnsembleVoteClassifier\n",
    "from mlxtend.plotting import plot_decision_regions\n",
    "import matplotlib.gridspec as gridspec\n",
    "import itertools\n",
    "import statsmodels.api as sm\n",
    "import time\n",
    "import warnings\n",
    "warnings.filterwarnings(\"ignore\")"
   ]
  },
  {
   "cell_type": "code",
   "execution_count": 2,
   "id": "f4408ba5",
   "metadata": {},
   "outputs": [],
   "source": [
    "import itertools\n",
    "from sklearn import model_selection\n",
    "from collections import Counter\n",
    "from sklearn.datasets import make_classification\n",
    "from imblearn.over_sampling import RandomOverSampler"
   ]
  },
  {
   "cell_type": "code",
   "execution_count": 3,
   "id": "d0d96f01",
   "metadata": {},
   "outputs": [],
   "source": [
    "df =  pd.read_csv('../Data/df_clean.csv')"
   ]
  },
  {
   "cell_type": "code",
   "execution_count": 4,
   "id": "b6440d0f",
   "metadata": {},
   "outputs": [],
   "source": [
    "train = pd.read_csv(\"../Data/df_train_fashion.csv\")\n",
    "test = pd.read_csv(\"../Data/df_valid_fashion.csv\")"
   ]
  },
  {
   "cell_type": "code",
   "execution_count": 7,
   "id": "b37d9c84",
   "metadata": {},
   "outputs": [],
   "source": [
    "# For Train set\n",
    "lencoders = {}\n",
    "for col in train.select_dtypes(include=['object']).columns:\n",
    "    lencoders[col] = LabelEncoder()\n",
    "    train[col] = lencoders[col].fit_transform(train[col])"
   ]
  },
  {
   "cell_type": "code",
   "execution_count": 8,
   "id": "3d8660dd",
   "metadata": {},
   "outputs": [],
   "source": [
    "# For Test Set\n",
    "lencoders_t = {}\n",
    "for col in test.select_dtypes(include=['object']).columns:\n",
    "    lencoders_t[col] = LabelEncoder()\n",
    "    test[col] = lencoders_t[col].fit_transform(test[col])"
   ]
  },
  {
   "cell_type": "markdown",
   "id": "fb5d5ec9",
   "metadata": {},
   "source": [
    "### Select top ten features using the Chi Square "
   ]
  },
  {
   "cell_type": "code",
   "execution_count": 10,
   "id": "bbd521cd",
   "metadata": {},
   "outputs": [],
   "source": [
    "r_scaler = preprocessing.MinMaxScaler()\n",
    "r_scaler.fit(train)\n",
    "modified_data = pd.DataFrame(r_scaler.transform(train), columns=train.columns)\n"
   ]
  },
  {
   "cell_type": "code",
   "execution_count": 47,
   "id": "a5722bbe",
   "metadata": {},
   "outputs": [
    {
     "name": "stdout",
     "output_type": "stream",
     "text": [
      "Feature 1 is Label\n",
      "Feature 2 is Size\n",
      "Feature 3 is Overall_fit\n",
      "Feature 4 is Age\n",
      "Feature 5 is Weight\n",
      "Feature 6 is Date\n",
      "Feature 7 is Rent_price\n",
      "Feature 8 is Number_of_reviews\n",
      "Feature 9 is Neckline\n",
      "Feature 10 is Dress_Style\n"
     ]
    }
   ],
   "source": [
    "X = modified_data.loc[:,modified_data.columns!='Rating']\n",
    "y = modified_data[['Rating']]\n",
    "selector = SelectKBest(chi2, k=10)\n",
    "selector.fit(X, y)\n",
    "X_new = selector.transform(X)\n",
    "\n",
    "i = 1\n",
    "for feature in list(X.columns[selector.get_support(indices=True)]):\n",
    "    print(f\"Feature {i} is {feature}\")\n",
    "    i = i+1\n"
   ]
  },
  {
   "cell_type": "markdown",
   "id": "7021218b",
   "metadata": {},
   "source": [
    "### Select top ten features using ADA Boost "
   ]
  },
  {
   "cell_type": "code",
   "execution_count": 52,
   "id": "22d1d69c",
   "metadata": {},
   "outputs": [],
   "source": [
    "features = ['Label', 'Size', 'Overall_fit', 'Rented_for', 'Size_usually_worn',\n",
    "            'Height', 'Age',\"Weight\", 'Bust_size', 'Body_type',  'Date',\n",
    "            'Rent_price', 'Number_of_reviews', 'Sleeves', 'Neckline', 'Dress_Style','BMI']\n",
    "target = ['Rating']"
   ]
  },
  {
   "cell_type": "code",
   "execution_count": 53,
   "id": "61317ca6",
   "metadata": {},
   "outputs": [
    {
     "name": "stdout",
     "output_type": "stream",
     "text": [
      "Feature 1 is Size\n",
      "Feature 2 is Overall_fit\n",
      "Feature 3 is Number_of_reviews\n",
      "Feature 4 is Rented_for\n",
      "Feature 5 is Dress_Style\n",
      "Feature 6 is Label\n",
      "Feature 7 is Neckline\n",
      "Feature 8 is Age\n",
      "Feature 9 is Sleeves\n",
      "Feature 10 is BMI\n"
     ]
    }
   ],
   "source": [
    "for i in range(10):\n",
    "    X_train = train[features]\n",
    "    y_train = train[target]\n",
    "    from sklearn.ensemble import AdaBoostClassifier\n",
    "    model = AdaBoostClassifier(n_estimators=1)\n",
    "    model.fit(X_train,y_train)\n",
    "    important_feature = X_train.columns[model.feature_importances_.argmax()]\n",
    "    print(f\"Feature {i + 1} is {important_feature}\")\n",
    "    features.remove(important_feature)"
   ]
  },
  {
   "cell_type": "code",
   "execution_count": 57,
   "id": "2d0939fb",
   "metadata": {},
   "outputs": [],
   "source": [
    "features = [\"Label\",\"Size\",\"Overall_fit\",\"Age\",\n",
    "            \"Weight\",\"Date\",\"Rent_price\",\"Number_of_reviews\",\n",
    "            \"Neckline\",\"Size\",\"Overall_fit\",\"Number_of_reviews\",\"Rented_for\",\n",
    "           \"Dress_Style\",\"Label\",\"Neckline\",\"Age\",\"Sleeves\",\"BMI\"]"
   ]
  },
  {
   "cell_type": "code",
   "execution_count": 58,
   "id": "9307666c",
   "metadata": {},
   "outputs": [],
   "source": [
    "features_important = list(set(features))"
   ]
  },
  {
   "cell_type": "code",
   "execution_count": 59,
   "id": "dbaf67a9",
   "metadata": {},
   "outputs": [
    {
     "data": {
      "text/plain": [
       "['Age',\n",
       " 'Weight',\n",
       " 'Overall_fit',\n",
       " 'Sleeves',\n",
       " 'Label',\n",
       " 'Size',\n",
       " 'BMI',\n",
       " 'Dress_Style',\n",
       " 'Number_of_reviews',\n",
       " 'Rent_price',\n",
       " 'Rented_for',\n",
       " 'Neckline',\n",
       " 'Date']"
      ]
     },
     "execution_count": 59,
     "metadata": {},
     "output_type": "execute_result"
    }
   ],
   "source": [
    "features_important"
   ]
  },
  {
   "cell_type": "code",
   "execution_count": null,
   "id": "36ef5567",
   "metadata": {},
   "outputs": [],
   "source": []
  }
 ],
 "metadata": {
  "kernelspec": {
   "display_name": "Python 3 (ipykernel)",
   "language": "python",
   "name": "python3"
  },
  "language_info": {
   "codemirror_mode": {
    "name": "ipython",
    "version": 3
   },
   "file_extension": ".py",
   "mimetype": "text/x-python",
   "name": "python",
   "nbconvert_exporter": "python",
   "pygments_lexer": "ipython3",
   "version": "3.9.11"
  }
 },
 "nbformat": 4,
 "nbformat_minor": 5
}
