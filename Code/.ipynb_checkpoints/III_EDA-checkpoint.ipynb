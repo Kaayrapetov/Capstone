{
 "cells": [
  {
   "cell_type": "markdown",
   "id": "6a9ec22e",
   "metadata": {},
   "source": [
    "\n",
    "# Predicting Customer Satisfaction on Rent the Runway\n",
    "\n",
    "##  III. EDA\n",
    "### Katrin Ayrapetov\n",
    "\n",
    "\n",
    "<font style=\"font-size: 2rem; color: blue\">\n",
    "\n",
    "\n",
    " \n",
    "</font>"
   ]
  },
  {
   "cell_type": "code",
   "execution_count": 1,
   "id": "ab0fae52",
   "metadata": {},
   "outputs": [],
   "source": [
    "#Import the necessary libraries. \n",
    "import pandas as pd\n",
    "import matplotlib.pyplot as plt\n",
    "import numpy as np\n",
    "import re\n",
    "pd.set_option(\"display.max_columns\",None)\n",
    "pd.set_option(\"display.max_rows\",None)\n",
    "import matplotlib.pyplot as plt\n",
    "import seaborn as sns"
   ]
  },
  {
   "cell_type": "code",
   "execution_count": 2,
   "id": "3899b98e",
   "metadata": {},
   "outputs": [],
   "source": [
    "df =  pd.read_csv('../Data/df_clean.csv')"
   ]
  },
  {
   "cell_type": "code",
   "execution_count": 3,
   "id": "e4a0a993",
   "metadata": {},
   "outputs": [
    {
     "data": {
      "text/html": [
       "<div>\n",
       "<style scoped>\n",
       "    .dataframe tbody tr th:only-of-type {\n",
       "        vertical-align: middle;\n",
       "    }\n",
       "\n",
       "    .dataframe tbody tr th {\n",
       "        vertical-align: top;\n",
       "    }\n",
       "\n",
       "    .dataframe thead th {\n",
       "        text-align: right;\n",
       "    }\n",
       "</style>\n",
       "<table border=\"1\" class=\"dataframe\">\n",
       "  <thead>\n",
       "    <tr style=\"text-align: right;\">\n",
       "      <th></th>\n",
       "      <th>Type_of_Customer</th>\n",
       "      <th>Size</th>\n",
       "      <th>Overall_fit</th>\n",
       "      <th>Rented_for</th>\n",
       "      <th>Size_usually_worn</th>\n",
       "      <th>Height</th>\n",
       "      <th>Age</th>\n",
       "      <th>Bust_size</th>\n",
       "      <th>Body_type</th>\n",
       "      <th>Weight</th>\n",
       "      <th>Rating</th>\n",
       "      <th>Date</th>\n",
       "      <th>Brand</th>\n",
       "      <th>Retail_price</th>\n",
       "      <th>Rent_price</th>\n",
       "      <th>Number_of_reviews</th>\n",
       "      <th>BMI</th>\n",
       "      <th>Sleeves</th>\n",
       "      <th>Neckline</th>\n",
       "      <th>Dress_Style</th>\n",
       "    </tr>\n",
       "  </thead>\n",
       "  <tbody>\n",
       "    <tr>\n",
       "      <th>0</th>\n",
       "      <td>TOP CONTRIBUTOR</td>\n",
       "      <td>S</td>\n",
       "      <td>Overall fit: True to Size</td>\n",
       "      <td>Vacation</td>\n",
       "      <td>8</td>\n",
       "      <td>66</td>\n",
       "      <td>31</td>\n",
       "      <td>34C</td>\n",
       "      <td>athletic</td>\n",
       "      <td>142</td>\n",
       "      <td>5</td>\n",
       "      <td>spring</td>\n",
       "      <td>Tory Burch</td>\n",
       "      <td>478</td>\n",
       "      <td>70</td>\n",
       "      <td>33</td>\n",
       "      <td>22.916896</td>\n",
       "      <td>sleeveless</td>\n",
       "      <td>square_neckline</td>\n",
       "      <td>hourglass</td>\n",
       "    </tr>\n",
       "    <tr>\n",
       "      <th>1</th>\n",
       "      <td>TOP CONTRIBUTOR</td>\n",
       "      <td>M</td>\n",
       "      <td>Overall fit: Large</td>\n",
       "      <td>Wedding</td>\n",
       "      <td>6</td>\n",
       "      <td>67</td>\n",
       "      <td>33</td>\n",
       "      <td>36C</td>\n",
       "      <td>hourglass</td>\n",
       "      <td>150</td>\n",
       "      <td>5</td>\n",
       "      <td>spring</td>\n",
       "      <td>Tory Burch</td>\n",
       "      <td>478</td>\n",
       "      <td>70</td>\n",
       "      <td>33</td>\n",
       "      <td>23.490755</td>\n",
       "      <td>sleeveless</td>\n",
       "      <td>square_neckline</td>\n",
       "      <td>hourglass</td>\n",
       "    </tr>\n",
       "    <tr>\n",
       "      <th>2</th>\n",
       "      <td>TOP CONTRIBUTOR</td>\n",
       "      <td>S</td>\n",
       "      <td>Overall fit: Large</td>\n",
       "      <td>Everyday</td>\n",
       "      <td>6</td>\n",
       "      <td>66</td>\n",
       "      <td>27</td>\n",
       "      <td>34B</td>\n",
       "      <td>pear</td>\n",
       "      <td>140</td>\n",
       "      <td>5</td>\n",
       "      <td>spring</td>\n",
       "      <td>Tory Burch</td>\n",
       "      <td>478</td>\n",
       "      <td>70</td>\n",
       "      <td>33</td>\n",
       "      <td>22.594123</td>\n",
       "      <td>sleeveless</td>\n",
       "      <td>square_neckline</td>\n",
       "      <td>hourglass</td>\n",
       "    </tr>\n",
       "    <tr>\n",
       "      <th>3</th>\n",
       "      <td>TOP CONTRIBUTOR</td>\n",
       "      <td>L</td>\n",
       "      <td>Overall fit: True to Size</td>\n",
       "      <td>unknown</td>\n",
       "      <td>12</td>\n",
       "      <td>66</td>\n",
       "      <td>42</td>\n",
       "      <td>36B</td>\n",
       "      <td>pear</td>\n",
       "      <td>181</td>\n",
       "      <td>5</td>\n",
       "      <td>spring</td>\n",
       "      <td>Tory Burch</td>\n",
       "      <td>478</td>\n",
       "      <td>70</td>\n",
       "      <td>33</td>\n",
       "      <td>29.210973</td>\n",
       "      <td>sleeveless</td>\n",
       "      <td>square_neckline</td>\n",
       "      <td>hourglass</td>\n",
       "    </tr>\n",
       "    <tr>\n",
       "      <th>4</th>\n",
       "      <td>TOP CONTRIBUTOR</td>\n",
       "      <td>L</td>\n",
       "      <td>Overall fit: True to Size</td>\n",
       "      <td>Everyday</td>\n",
       "      <td>12</td>\n",
       "      <td>70</td>\n",
       "      <td>48</td>\n",
       "      <td>34D</td>\n",
       "      <td>pear</td>\n",
       "      <td>165</td>\n",
       "      <td>5</td>\n",
       "      <td>spring</td>\n",
       "      <td>Tory Burch</td>\n",
       "      <td>478</td>\n",
       "      <td>70</td>\n",
       "      <td>33</td>\n",
       "      <td>23.672449</td>\n",
       "      <td>sleeveless</td>\n",
       "      <td>square_neckline</td>\n",
       "      <td>hourglass</td>\n",
       "    </tr>\n",
       "  </tbody>\n",
       "</table>\n",
       "</div>"
      ],
      "text/plain": [
       "  Type_of_Customer Size                Overall_fit Rented_for  \\\n",
       "0  TOP CONTRIBUTOR    S  Overall fit: True to Size   Vacation   \n",
       "1  TOP CONTRIBUTOR    M         Overall fit: Large    Wedding   \n",
       "2  TOP CONTRIBUTOR    S         Overall fit: Large   Everyday   \n",
       "3  TOP CONTRIBUTOR    L  Overall fit: True to Size    unknown   \n",
       "4  TOP CONTRIBUTOR    L  Overall fit: True to Size   Everyday   \n",
       "\n",
       "  Size_usually_worn  Height  Age Bust_size  Body_type  Weight  Rating    Date  \\\n",
       "0                 8      66   31       34C   athletic     142       5  spring   \n",
       "1                 6      67   33       36C  hourglass     150       5  spring   \n",
       "2                 6      66   27       34B       pear     140       5  spring   \n",
       "3                12      66   42       36B       pear     181       5  spring   \n",
       "4                12      70   48       34D       pear     165       5  spring   \n",
       "\n",
       "        Brand  Retail_price  Rent_price  Number_of_reviews        BMI  \\\n",
       "0  Tory Burch           478          70                 33  22.916896   \n",
       "1  Tory Burch           478          70                 33  23.490755   \n",
       "2  Tory Burch           478          70                 33  22.594123   \n",
       "3  Tory Burch           478          70                 33  29.210973   \n",
       "4  Tory Burch           478          70                 33  23.672449   \n",
       "\n",
       "      Sleeves         Neckline Dress_Style  \n",
       "0  sleeveless  square_neckline   hourglass  \n",
       "1  sleeveless  square_neckline   hourglass  \n",
       "2  sleeveless  square_neckline   hourglass  \n",
       "3  sleeveless  square_neckline   hourglass  \n",
       "4  sleeveless  square_neckline   hourglass  "
      ]
     },
     "execution_count": 3,
     "metadata": {},
     "output_type": "execute_result"
    }
   ],
   "source": [
    "df.head()"
   ]
  },
  {
   "cell_type": "code",
   "execution_count": 4,
   "id": "2e2773df",
   "metadata": {},
   "outputs": [],
   "source": [
    "def create_percentile_table(column):\n",
    "    data =  {'Percentile': [\"min\",'10th', '20th', '30th', '40th',\"50th\",\"60th\",\"70th\",\"80th\",\"90th\",\"max\"], \n",
    "          column: [df[column].min(),df[column].quantile(0.1), df[column].quantile(0.2), df[column].quantile(0.3), df[column].quantile(0.4),df[column].quantile(0.5),df[column].quantile(0.6),df[column].quantile(0.7),df[column].quantile(0.8),df[column].quantile(0.9),df[column].max()]} \n",
    "    percentile_table = pd.DataFrame(data)\n",
    "    percentile_table.set_index('Percentile')\n",
    "    return percentile_table"
   ]
  },
  {
   "cell_type": "code",
   "execution_count": 5,
   "id": "27cc27e0",
   "metadata": {},
   "outputs": [
    {
     "data": {
      "text/plain": [
       "508"
      ]
     },
     "execution_count": 5,
     "metadata": {},
     "output_type": "execute_result"
    }
   ],
   "source": [
    "# How many brands are there total on the website? There are 519 different Brands. \n",
    "len(list(df.Brand.unique()))\n"
   ]
  },
  {
   "cell_type": "code",
   "execution_count": 7,
   "id": "00cdb80a",
   "metadata": {},
   "outputs": [
    {
     "data": {
      "text/html": [
       "<div>\n",
       "<style scoped>\n",
       "    .dataframe tbody tr th:only-of-type {\n",
       "        vertical-align: middle;\n",
       "    }\n",
       "\n",
       "    .dataframe tbody tr th {\n",
       "        vertical-align: top;\n",
       "    }\n",
       "\n",
       "    .dataframe thead th {\n",
       "        text-align: right;\n",
       "    }\n",
       "</style>\n",
       "<table border=\"1\" class=\"dataframe\">\n",
       "  <thead>\n",
       "    <tr style=\"text-align: right;\">\n",
       "      <th></th>\n",
       "      <th>Height</th>\n",
       "      <th>Age</th>\n",
       "      <th>Weight</th>\n",
       "      <th>Rating</th>\n",
       "      <th>Retail_price</th>\n",
       "      <th>Rent_price</th>\n",
       "      <th>Number_of_reviews</th>\n",
       "      <th>BMI</th>\n",
       "    </tr>\n",
       "  </thead>\n",
       "  <tbody>\n",
       "    <tr>\n",
       "      <th>count</th>\n",
       "      <td>156433.000000</td>\n",
       "      <td>156433.000000</td>\n",
       "      <td>156433.000000</td>\n",
       "      <td>156433.000000</td>\n",
       "      <td>156433.000000</td>\n",
       "      <td>156433.000000</td>\n",
       "      <td>156433.000000</td>\n",
       "      <td>156433.000000</td>\n",
       "    </tr>\n",
       "    <tr>\n",
       "      <th>mean</th>\n",
       "      <td>65.279794</td>\n",
       "      <td>37.696976</td>\n",
       "      <td>143.354618</td>\n",
       "      <td>4.333370</td>\n",
       "      <td>422.481088</td>\n",
       "      <td>60.342671</td>\n",
       "      <td>86.838276</td>\n",
       "      <td>23.650411</td>\n",
       "    </tr>\n",
       "    <tr>\n",
       "      <th>std</th>\n",
       "      <td>2.680930</td>\n",
       "      <td>9.169267</td>\n",
       "      <td>25.158986</td>\n",
       "      <td>1.008437</td>\n",
       "      <td>274.172210</td>\n",
       "      <td>38.791480</td>\n",
       "      <td>123.796784</td>\n",
       "      <td>3.932000</td>\n",
       "    </tr>\n",
       "    <tr>\n",
       "      <th>min</th>\n",
       "      <td>53.000000</td>\n",
       "      <td>0.000000</td>\n",
       "      <td>80.000000</td>\n",
       "      <td>1.000000</td>\n",
       "      <td>43.000000</td>\n",
       "      <td>30.000000</td>\n",
       "      <td>0.000000</td>\n",
       "      <td>12.528403</td>\n",
       "    </tr>\n",
       "    <tr>\n",
       "      <th>25%</th>\n",
       "      <td>63.000000</td>\n",
       "      <td>31.000000</td>\n",
       "      <td>125.000000</td>\n",
       "      <td>4.000000</td>\n",
       "      <td>245.000000</td>\n",
       "      <td>30.000000</td>\n",
       "      <td>36.000000</td>\n",
       "      <td>20.980257</td>\n",
       "    </tr>\n",
       "    <tr>\n",
       "      <th>50%</th>\n",
       "      <td>65.000000</td>\n",
       "      <td>36.000000</td>\n",
       "      <td>140.000000</td>\n",
       "      <td>5.000000</td>\n",
       "      <td>375.000000</td>\n",
       "      <td>50.000000</td>\n",
       "      <td>57.000000</td>\n",
       "      <td>22.826904</td>\n",
       "    </tr>\n",
       "    <tr>\n",
       "      <th>75%</th>\n",
       "      <td>67.000000</td>\n",
       "      <td>43.000000</td>\n",
       "      <td>155.000000</td>\n",
       "      <td>5.000000</td>\n",
       "      <td>498.000000</td>\n",
       "      <td>73.000000</td>\n",
       "      <td>95.000000</td>\n",
       "      <td>25.526621</td>\n",
       "    </tr>\n",
       "    <tr>\n",
       "      <th>max</th>\n",
       "      <td>78.000000</td>\n",
       "      <td>80.000000</td>\n",
       "      <td>298.000000</td>\n",
       "      <td>5.000000</td>\n",
       "      <td>3595.000000</td>\n",
       "      <td>525.000000</td>\n",
       "      <td>3489.000000</td>\n",
       "      <td>58.421053</td>\n",
       "    </tr>\n",
       "  </tbody>\n",
       "</table>\n",
       "</div>"
      ],
      "text/plain": [
       "              Height            Age         Weight         Rating  \\\n",
       "count  156433.000000  156433.000000  156433.000000  156433.000000   \n",
       "mean       65.279794      37.696976     143.354618       4.333370   \n",
       "std         2.680930       9.169267      25.158986       1.008437   \n",
       "min        53.000000       0.000000      80.000000       1.000000   \n",
       "25%        63.000000      31.000000     125.000000       4.000000   \n",
       "50%        65.000000      36.000000     140.000000       5.000000   \n",
       "75%        67.000000      43.000000     155.000000       5.000000   \n",
       "max        78.000000      80.000000     298.000000       5.000000   \n",
       "\n",
       "        Retail_price     Rent_price  Number_of_reviews            BMI  \n",
       "count  156433.000000  156433.000000      156433.000000  156433.000000  \n",
       "mean      422.481088      60.342671          86.838276      23.650411  \n",
       "std       274.172210      38.791480         123.796784       3.932000  \n",
       "min        43.000000      30.000000           0.000000      12.528403  \n",
       "25%       245.000000      30.000000          36.000000      20.980257  \n",
       "50%       375.000000      50.000000          57.000000      22.826904  \n",
       "75%       498.000000      73.000000          95.000000      25.526621  \n",
       "max      3595.000000     525.000000        3489.000000      58.421053  "
      ]
     },
     "execution_count": 7,
     "metadata": {},
     "output_type": "execute_result"
    }
   ],
   "source": [
    "#What are the summary statistics for the numeric features. \n",
    "df.describe()"
   ]
  },
  {
   "cell_type": "code",
   "execution_count": 9,
   "id": "aedd1d97",
   "metadata": {},
   "outputs": [
    {
     "data": {
      "image/png": "[encoded data removed]",
      "text/plain": [
       "<Figure size 432x432 with 1 Axes>"
      ]
     },
     "metadata": {
      "needs_background": "light"
     },
     "output_type": "display_data"
    }
   ],
   "source": [
    "#what is the distribution of the rented price of the garments?\n",
    "plt.figure(figsize=(6,6));\n",
    "sns.histplot(data=df, x=\"Rent_price\",bins=30).set(title='Rent Prices of Dresses');"
   ]
  },
  {
   "cell_type": "code",
   "execution_count": 10,
   "id": "19a3b7a0",
   "metadata": {},
   "outputs": [
    {
     "data": {
      "text/plain": [
       "60.34267066411819"
      ]
     },
     "execution_count": 10,
     "metadata": {},
     "output_type": "execute_result"
    }
   ],
   "source": [
    "#The average rent price of the garment is $60. \n",
    "df.Rent_price.mean()"
   ]
  },
  {
   "cell_type": "code",
   "execution_count": 11,
   "id": "1532a1b3",
   "metadata": {},
   "outputs": [
    {
     "data": {
      "text/html": [
       "<div>\n",
       "<style scoped>\n",
       "    .dataframe tbody tr th:only-of-type {\n",
       "        vertical-align: middle;\n",
       "    }\n",
       "\n",
       "    .dataframe tbody tr th {\n",
       "        vertical-align: top;\n",
       "    }\n",
       "\n",
       "    .dataframe thead th {\n",
       "        text-align: right;\n",
       "    }\n",
       "</style>\n",
       "<table border=\"1\" class=\"dataframe\">\n",
       "  <thead>\n",
       "    <tr style=\"text-align: right;\">\n",
       "      <th></th>\n",
       "      <th>Percentile</th>\n",
       "      <th>Rent_price</th>\n",
       "    </tr>\n",
       "  </thead>\n",
       "  <tbody>\n",
       "    <tr>\n",
       "      <th>0</th>\n",
       "      <td>min</td>\n",
       "      <td>30.0</td>\n",
       "    </tr>\n",
       "    <tr>\n",
       "      <th>1</th>\n",
       "      <td>10th</td>\n",
       "      <td>30.0</td>\n",
       "    </tr>\n",
       "    <tr>\n",
       "      <th>2</th>\n",
       "      <td>20th</td>\n",
       "      <td>30.0</td>\n",
       "    </tr>\n",
       "    <tr>\n",
       "      <th>3</th>\n",
       "      <td>30th</td>\n",
       "      <td>35.0</td>\n",
       "    </tr>\n",
       "    <tr>\n",
       "      <th>4</th>\n",
       "      <td>40th</td>\n",
       "      <td>41.0</td>\n",
       "    </tr>\n",
       "    <tr>\n",
       "      <th>5</th>\n",
       "      <td>50th</td>\n",
       "      <td>50.0</td>\n",
       "    </tr>\n",
       "    <tr>\n",
       "      <th>6</th>\n",
       "      <td>60th</td>\n",
       "      <td>60.0</td>\n",
       "    </tr>\n",
       "    <tr>\n",
       "      <th>7</th>\n",
       "      <td>70th</td>\n",
       "      <td>69.0</td>\n",
       "    </tr>\n",
       "    <tr>\n",
       "      <th>8</th>\n",
       "      <td>80th</td>\n",
       "      <td>80.0</td>\n",
       "    </tr>\n",
       "    <tr>\n",
       "      <th>9</th>\n",
       "      <td>90th</td>\n",
       "      <td>100.0</td>\n",
       "    </tr>\n",
       "    <tr>\n",
       "      <th>10</th>\n",
       "      <td>max</td>\n",
       "      <td>525.0</td>\n",
       "    </tr>\n",
       "  </tbody>\n",
       "</table>\n",
       "</div>"
      ],
      "text/plain": [
       "   Percentile  Rent_price\n",
       "0         min        30.0\n",
       "1        10th        30.0\n",
       "2        20th        30.0\n",
       "3        30th        35.0\n",
       "4        40th        41.0\n",
       "5        50th        50.0\n",
       "6        60th        60.0\n",
       "7        70th        69.0\n",
       "8        80th        80.0\n",
       "9        90th       100.0\n",
       "10        max       525.0"
      ]
     },
     "execution_count": 11,
     "metadata": {},
     "output_type": "execute_result"
    }
   ],
   "source": [
    "#The median rent price of the garment is $50 and 90% of the garment costing $100.00 or less to rent. \n",
    "percentile_table_rent_prices = create_percentile_table('Rent_price')\n",
    "percentile_table_rent_prices "
   ]
  },
  {
   "cell_type": "code",
   "execution_count": 12,
   "id": "84b025ea",
   "metadata": {},
   "outputs": [
    {
     "data": {
      "image/png": "[encoded data removed]",
      "text/plain": [
       "<Figure size 432x432 with 1 Axes>"
      ]
     },
     "metadata": {
      "needs_background": "light"
     },
     "output_type": "display_data"
    }
   ],
   "source": [
    "#What is Age distribution of the customers? \n",
    "plt.figure(figsize=(6,6));\n",
    "sns.histplot(data=df, x=\"Age\",bins=30).set(title='Ages of Customers');"
   ]
  },
  {
   "cell_type": "code",
   "execution_count": 13,
   "id": "52897939",
   "metadata": {},
   "outputs": [
    {
     "data": {
      "text/plain": [
       "37.69697570205775"
      ]
     },
     "execution_count": 13,
     "metadata": {},
     "output_type": "execute_result"
    }
   ],
   "source": [
    "#The average age of the customer is 37 years old. \n",
    "df.Age.mean() "
   ]
  },
  {
   "cell_type": "code",
   "execution_count": 14,
   "id": "60a85ae5",
   "metadata": {},
   "outputs": [
    {
     "data": {
      "text/html": [
       "<div>\n",
       "<style scoped>\n",
       "    .dataframe tbody tr th:only-of-type {\n",
       "        vertical-align: middle;\n",
       "    }\n",
       "\n",
       "    .dataframe tbody tr th {\n",
       "        vertical-align: top;\n",
       "    }\n",
       "\n",
       "    .dataframe thead th {\n",
       "        text-align: right;\n",
       "    }\n",
       "</style>\n",
       "<table border=\"1\" class=\"dataframe\">\n",
       "  <thead>\n",
       "    <tr style=\"text-align: right;\">\n",
       "      <th></th>\n",
       "      <th>Percentile</th>\n",
       "      <th>Age</th>\n",
       "    </tr>\n",
       "  </thead>\n",
       "  <tbody>\n",
       "    <tr>\n",
       "      <th>0</th>\n",
       "      <td>min</td>\n",
       "      <td>0.0</td>\n",
       "    </tr>\n",
       "    <tr>\n",
       "      <th>1</th>\n",
       "      <td>10th</td>\n",
       "      <td>28.0</td>\n",
       "    </tr>\n",
       "    <tr>\n",
       "      <th>2</th>\n",
       "      <td>20th</td>\n",
       "      <td>30.0</td>\n",
       "    </tr>\n",
       "    <tr>\n",
       "      <th>3</th>\n",
       "      <td>30th</td>\n",
       "      <td>32.0</td>\n",
       "    </tr>\n",
       "    <tr>\n",
       "      <th>4</th>\n",
       "      <td>40th</td>\n",
       "      <td>34.0</td>\n",
       "    </tr>\n",
       "    <tr>\n",
       "      <th>5</th>\n",
       "      <td>50th</td>\n",
       "      <td>36.0</td>\n",
       "    </tr>\n",
       "    <tr>\n",
       "      <th>6</th>\n",
       "      <td>60th</td>\n",
       "      <td>39.0</td>\n",
       "    </tr>\n",
       "    <tr>\n",
       "      <th>7</th>\n",
       "      <td>70th</td>\n",
       "      <td>41.0</td>\n",
       "    </tr>\n",
       "    <tr>\n",
       "      <th>8</th>\n",
       "      <td>80th</td>\n",
       "      <td>45.0</td>\n",
       "    </tr>\n",
       "    <tr>\n",
       "      <th>9</th>\n",
       "      <td>90th</td>\n",
       "      <td>51.0</td>\n",
       "    </tr>\n",
       "    <tr>\n",
       "      <th>10</th>\n",
       "      <td>max</td>\n",
       "      <td>80.0</td>\n",
       "    </tr>\n",
       "  </tbody>\n",
       "</table>\n",
       "</div>"
      ],
      "text/plain": [
       "   Percentile   Age\n",
       "0         min   0.0\n",
       "1        10th  28.0\n",
       "2        20th  30.0\n",
       "3        30th  32.0\n",
       "4        40th  34.0\n",
       "5        50th  36.0\n",
       "6        60th  39.0\n",
       "7        70th  41.0\n",
       "8        80th  45.0\n",
       "9        90th  51.0\n",
       "10        max  80.0"
      ]
     },
     "execution_count": 14,
     "metadata": {},
     "output_type": "execute_result"
    }
   ],
   "source": [
    "#The median age of the customer is 36 years old and 90% of the customers are 51 years old or younger. \n",
    "percentile_table_Age = create_percentile_table('Age')\n",
    "percentile_table_Age"
   ]
  },
  {
   "cell_type": "code",
   "execution_count": 15,
   "id": "fc3a2d3d",
   "metadata": {},
   "outputs": [
    {
     "data": {
      "image/png": "[encoded data removed]",
      "text/plain": [
       "<Figure size 432x432 with 1 Axes>"
      ]
     },
     "metadata": {
      "needs_background": "light"
     },
     "output_type": "display_data"
    }
   ],
   "source": [
    "#What is Height distribution of the customers? \n",
    "plt.figure(figsize=(6,6));\n",
    "sns.histplot(data=df, x=\"Height\",bins=20).set(title='Heights of Customers (in inches)');"
   ]
  },
  {
   "cell_type": "code",
   "execution_count": 16,
   "id": "71bbc593",
   "metadata": {},
   "outputs": [
    {
     "data": {
      "text/html": [
       "<div>\n",
       "<style scoped>\n",
       "    .dataframe tbody tr th:only-of-type {\n",
       "        vertical-align: middle;\n",
       "    }\n",
       "\n",
       "    .dataframe tbody tr th {\n",
       "        vertical-align: top;\n",
       "    }\n",
       "\n",
       "    .dataframe thead th {\n",
       "        text-align: right;\n",
       "    }\n",
       "</style>\n",
       "<table border=\"1\" class=\"dataframe\">\n",
       "  <thead>\n",
       "    <tr style=\"text-align: right;\">\n",
       "      <th></th>\n",
       "      <th>Percentile</th>\n",
       "      <th>Height</th>\n",
       "    </tr>\n",
       "  </thead>\n",
       "  <tbody>\n",
       "    <tr>\n",
       "      <th>0</th>\n",
       "      <td>min</td>\n",
       "      <td>53.0</td>\n",
       "    </tr>\n",
       "    <tr>\n",
       "      <th>1</th>\n",
       "      <td>10th</td>\n",
       "      <td>62.0</td>\n",
       "    </tr>\n",
       "    <tr>\n",
       "      <th>2</th>\n",
       "      <td>20th</td>\n",
       "      <td>63.0</td>\n",
       "    </tr>\n",
       "    <tr>\n",
       "      <th>3</th>\n",
       "      <td>30th</td>\n",
       "      <td>64.0</td>\n",
       "    </tr>\n",
       "    <tr>\n",
       "      <th>4</th>\n",
       "      <td>40th</td>\n",
       "      <td>64.0</td>\n",
       "    </tr>\n",
       "    <tr>\n",
       "      <th>5</th>\n",
       "      <td>50th</td>\n",
       "      <td>65.0</td>\n",
       "    </tr>\n",
       "    <tr>\n",
       "      <th>6</th>\n",
       "      <td>60th</td>\n",
       "      <td>66.0</td>\n",
       "    </tr>\n",
       "    <tr>\n",
       "      <th>7</th>\n",
       "      <td>70th</td>\n",
       "      <td>67.0</td>\n",
       "    </tr>\n",
       "    <tr>\n",
       "      <th>8</th>\n",
       "      <td>80th</td>\n",
       "      <td>68.0</td>\n",
       "    </tr>\n",
       "    <tr>\n",
       "      <th>9</th>\n",
       "      <td>90th</td>\n",
       "      <td>69.0</td>\n",
       "    </tr>\n",
       "    <tr>\n",
       "      <th>10</th>\n",
       "      <td>max</td>\n",
       "      <td>78.0</td>\n",
       "    </tr>\n",
       "  </tbody>\n",
       "</table>\n",
       "</div>"
      ],
      "text/plain": [
       "   Percentile  Height\n",
       "0         min    53.0\n",
       "1        10th    62.0\n",
       "2        20th    63.0\n",
       "3        30th    64.0\n",
       "4        40th    64.0\n",
       "5        50th    65.0\n",
       "6        60th    66.0\n",
       "7        70th    67.0\n",
       "8        80th    68.0\n",
       "9        90th    69.0\n",
       "10        max    78.0"
      ]
     },
     "execution_count": 16,
     "metadata": {},
     "output_type": "execute_result"
    }
   ],
   "source": [
    "#The median height of the customer is 5 feet and 4 inches.  \n",
    "percentile_table_Height = create_percentile_table('Height')\n",
    "percentile_table_Height"
   ]
  },
  {
   "cell_type": "code",
   "execution_count": 17,
   "id": "3a9ca22f",
   "metadata": {},
   "outputs": [
    {
     "data": {
      "image/png": "[encoded data removed]",
      "text/plain": [
       "<Figure size 432x432 with 1 Axes>"
      ]
     },
     "metadata": {
      "needs_background": "light"
     },
     "output_type": "display_data"
    }
   ],
   "source": [
    "#What is Weight distribution of the customers? \n",
    "\n",
    "plt.figure(figsize=(6,6));\n",
    "sns.histplot(data=df, x=\"Weight\",bins=20).set(title='Weights of Customers (in pounds)');"
   ]
  },
  {
   "cell_type": "code",
   "execution_count": 19,
   "id": "78f4aad6",
   "metadata": {},
   "outputs": [
    {
     "name": "stdout",
     "output_type": "stream",
     "text": [
      "143.3546182710809\n"
     ]
    },
    {
     "data": {
      "text/plain": [
       "140.0"
      ]
     },
     "execution_count": 19,
     "metadata": {},
     "output_type": "execute_result"
    }
   ],
   "source": [
    "#The average weight of the customer is 143 pounds. The median weight of the customer is 140.00 pounds. \n",
    "print(df.Weight.mean())\n",
    "df.Weight.quantile(0.5)"
   ]
  },
  {
   "cell_type": "code",
   "execution_count": 20,
   "id": "a2751da4",
   "metadata": {},
   "outputs": [
    {
     "data": {
      "image/png": "[encoded data removed]",
      "text/plain": [
       "<Figure size 432x288 with 1 Axes>"
      ]
     },
     "metadata": {},
     "output_type": "display_data"
    }
   ],
   "source": [
    "#What is the Body Type distribution of the customers? \n",
    "sns.set(style=\"whitegrid\")\n",
    "df.Body_type.value_counts().plot(kind=\"bar\");"
   ]
  },
  {
   "cell_type": "code",
   "execution_count": 21,
   "id": "b5909bdf",
   "metadata": {},
   "outputs": [
    {
     "data": {
      "image/png": "[encoded data removed]",
      "text/plain": [
       "<Figure size 432x288 with 1 Axes>"
      ]
     },
     "metadata": {},
     "output_type": "display_data"
    }
   ],
   "source": [
    "# What is the distribution of the events rented for ? \n",
    "#It looks like about 25% of the customers rent the clothes for work. \n",
    "df.Rented_for.value_counts(normalize=True).plot(kind=\"bar\");"
   ]
  },
  {
   "cell_type": "code",
   "execution_count": 22,
   "id": "58b95949",
   "metadata": {},
   "outputs": [
    {
     "data": {
      "image/png": "[encoded data removed]",
      "text/plain": [
       "<Figure size 432x288 with 1 Axes>"
      ]
     },
     "metadata": {},
     "output_type": "display_data"
    }
   ],
   "source": [
    "# What is the distribution for ratings for garments look like? \n",
    "#It looks like: \n",
    "# 5 - 60% , 4 - 23%, 3 - 10%, 2 - 4% , 1 - 3% \n",
    "df.Rating.value_counts(normalize=True).plot(kind=\"bar\");"
   ]
  },
  {
   "cell_type": "code",
   "execution_count": 27,
   "id": "02dbd084",
   "metadata": {},
   "outputs": [],
   "source": [
    "#Binarize the Predictor Variable: Satisfaction Rating \n",
    "# 1: Not Satisfied with Rental (Satisfaction Rating of 1,2,3) \n",
    "# 0: Satisfied with Rental (Satisfaction Rating 4,5)\n",
    "df['Rating'] = np.where(df['Rating'] <= 3, 1, 0)"
   ]
  },
  {
   "cell_type": "code",
   "execution_count": 28,
   "id": "a5f96b41",
   "metadata": {},
   "outputs": [
    {
     "data": {
      "image/png": "[encoded data removed]",
      "text/plain": [
       "<Figure size 432x288 with 1 Axes>"
      ]
     },
     "metadata": {},
     "output_type": "display_data"
    }
   ],
   "source": [
    "# 1: Not Satisfied with Rental (Satisfaction Rating of 1,2,3) - 16% \n",
    "# 0: Satisfied with Rental (Satisfaction Rating 4,5) - 83%\n",
    "\n",
    "df.Rating.value_counts(normalize=True).plot(kind=\"bar\");"
   ]
  },
  {
   "cell_type": "code",
   "execution_count": 29,
   "id": "413c9700",
   "metadata": {},
   "outputs": [
    {
     "name": "stderr",
     "output_type": "stream",
     "text": [
      "C:\\Users\\Katri\\anaconda3\\envs\\tf-gpu\\lib\\site-packages\\seaborn\\_decorators.py:36: FutureWarning: Pass the following variable as a keyword arg: x. From version 0.12, the only valid positional argument will be `data`, and passing other arguments without an explicit keyword will result in an error or misinterpretation.\n",
      "  warnings.warn(\n"
     ]
    },
    {
     "data": {
      "image/png": "[encoded data removed]",
      "text/plain": [
       "<Figure size 1125.72x360 with 1 Axes>"
      ]
     },
     "metadata": {},
     "output_type": "display_data"
    }
   ],
   "source": [
    "# Take a look at the Age distribution for satisifed and unsatisfied customers. \n",
    "# The Age distribution looks similar for both groups. \n",
    "with sns.axes_style('white'):\n",
    "    g = sns.catplot(\"Age\", data=df, aspect=3.0, kind='count', hue='Rating', order=range(5, 80))\n",
    "    g.set_ylabels('Age vs Passenger Satisfaction')"
   ]
  },
  {
   "cell_type": "code",
   "execution_count": 24,
   "id": "e7f1eceb",
   "metadata": {},
   "outputs": [
    {
     "name": "stderr",
     "output_type": "stream",
     "text": [
      "C:\\Users\\Katri\\AppData\\Local\\Temp\\ipykernel_20996\\2063919592.py:3: DeprecationWarning: `np.bool` is a deprecated alias for the builtin `bool`. To silence this warning, use `bool` by itself. Doing this will not modify any behavior and is safe. If you specifically wanted the numpy scalar type, use `np.bool_` here.\n",
      "Deprecated in NumPy 1.20; for more details and guidance: https://numpy.org/devdocs/release/1.20.0-notes.html#deprecations\n",
      "  mask = np.triu(np.ones_like(corr, dtype=np.bool))\n"
     ]
    },
    {
     "data": {
      "text/plain": [
       "<AxesSubplot:>"
      ]
     },
     "execution_count": 24,
     "metadata": {},
     "output_type": "execute_result"
    },
    {
     "data": {
      "image/png": "[encoded data removed]",
      "text/plain": [
       "<Figure size 1440x1440 with 2 Axes>"
      ]
     },
     "metadata": {},
     "output_type": "display_data"
    }
   ],
   "source": [
    "#Let's look at the correlation matrix among the numeric features. \n",
    "corr = df.corr()\n",
    "mask = np.triu(np.ones_like(corr, dtype=np.bool))\n",
    "f, ax = plt.subplots(figsize=(20, 20))\n",
    "cmap = sns.diverging_palette(240, 10, as_cmap=True)\n",
    "sns.heatmap(corr, mask=mask, cmap=cmap, vmax=None, center=0,square=True, annot=True, linewidths=.5, cbar_kws={\"shrink\": .9})\n",
    "\n",
    "# We can see that Retail price and rent price are very highly correlated. That is because \n",
    "#Rent price is probably a certain percentage of the Retail price.\n",
    "#Remove the Retail price column for the modeling process. \n",
    "\n",
    "#Also BMI and weight are related. Keep Weight variable. "
   ]
  },
  {
   "cell_type": "code",
   "execution_count": null,
   "id": "8baa2038",
   "metadata": {},
   "outputs": [],
   "source": []
  }
 ],
 "metadata": {
  "kernelspec": {
   "display_name": "Python 3 (ipykernel)",
   "language": "python",
   "name": "python3"
  },
  "language_info": {
   "codemirror_mode": {
    "name": "ipython",
    "version": 3
   },
   "file_extension": ".py",
   "mimetype": "text/x-python",
   "name": "python",
   "nbconvert_exporter": "python",
   "pygments_lexer": "ipython3",
   "version": "3.9.11"
  }
 },
 "nbformat": 4,
 "nbformat_minor": 5
}
