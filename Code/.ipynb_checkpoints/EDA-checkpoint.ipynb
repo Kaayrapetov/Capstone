{
 "cells": [
  {
   "cell_type": "markdown",
   "id": "6a9ec22e",
   "metadata": {},
   "source": [
    "<img src=\"https://m1.quebecormedia.com/emp/emp/bender8175858f-7dbd-4927-85c5-85557e800b98_ORIGINAL.jpg?impolicy=crop-resize&x=0&y=0&w=1000&h=745&width=925&height=925\" style=\"float: left; margin: 30px; height: 75px\">\n",
    "\n",
    "# Predicting Customer Satisfaction on Rent the Runway\n",
    "\n",
    "## II. EDA\n",
    "### Katrin Ayrapetov\n",
    "\n",
    "\n",
    "<font style=\"font-size: 2rem; color: blue\">\n",
    "\n",
    "\n",
    " \n",
    "</font>"
   ]
  },
  {
   "cell_type": "code",
   "execution_count": 1,
   "id": "ab0fae52",
   "metadata": {},
   "outputs": [],
   "source": [
    "#Import the necessary libraries. \n",
    "import pandas as pd\n",
    "import matplotlib.pyplot as plt\n",
    "import numpy as np\n",
    "import re\n",
    "pd.set_option(\"display.max_columns\",None)\n",
    "pd.set_option(\"display.max_rows\",None)\n",
    "import matplotlib.pyplot as plt\n",
    "import seaborn as sns"
   ]
  },
  {
   "cell_type": "code",
   "execution_count": 2,
   "id": "3899b98e",
   "metadata": {},
   "outputs": [],
   "source": [
    "df =  pd.read_csv('../Data/df_clean.csv')"
   ]
  },
  {
   "cell_type": "code",
   "execution_count": 3,
   "id": "e4a0a993",
   "metadata": {},
   "outputs": [
    {
     "data": {
      "text/html": [
       "<div>\n",
       "<style scoped>\n",
       "    .dataframe tbody tr th:only-of-type {\n",
       "        vertical-align: middle;\n",
       "    }\n",
       "\n",
       "    .dataframe tbody tr th {\n",
       "        vertical-align: top;\n",
       "    }\n",
       "\n",
       "    .dataframe thead th {\n",
       "        text-align: right;\n",
       "    }\n",
       "</style>\n",
       "<table border=\"1\" class=\"dataframe\">\n",
       "  <thead>\n",
       "    <tr style=\"text-align: right;\">\n",
       "      <th></th>\n",
       "      <th>Label</th>\n",
       "      <th>Size</th>\n",
       "      <th>Overall_fit</th>\n",
       "      <th>Rented_for</th>\n",
       "      <th>Size_usually_worn</th>\n",
       "      <th>Height</th>\n",
       "      <th>Age</th>\n",
       "      <th>Bust_size</th>\n",
       "      <th>Body_type</th>\n",
       "      <th>Weight</th>\n",
       "      <th>Rating</th>\n",
       "      <th>Date</th>\n",
       "      <th>Brand</th>\n",
       "      <th>Dress_Description</th>\n",
       "      <th>Retail_price</th>\n",
       "      <th>Rent_price</th>\n",
       "      <th>Product_details</th>\n",
       "      <th>Number_of_reviews</th>\n",
       "      <th>Details</th>\n",
       "      <th>Sleeves</th>\n",
       "      <th>Neckline</th>\n",
       "      <th>Dress_Style</th>\n",
       "      <th>BMI</th>\n",
       "    </tr>\n",
       "  </thead>\n",
       "  <tbody>\n",
       "    <tr>\n",
       "      <th>0</th>\n",
       "      <td>TOP CONTRIBUTOR</td>\n",
       "      <td>S</td>\n",
       "      <td>Overall fit: True to Size</td>\n",
       "      <td>Vacation</td>\n",
       "      <td>8</td>\n",
       "      <td>66</td>\n",
       "      <td>31</td>\n",
       "      <td>34C</td>\n",
       "      <td>athletic</td>\n",
       "      <td>142</td>\n",
       "      <td>5</td>\n",
       "      <td>spring</td>\n",
       "      <td>Tory Burch</td>\n",
       "      <td>Painted Roses Smocked Dress</td>\n",
       "      <td>478</td>\n",
       "      <td>70</td>\n",
       "      <td>hourglass. sleeveless. square neckline. 45\" fr...</td>\n",
       "      <td>33</td>\n",
       "      <td>['hourglass']</td>\n",
       "      <td>sleeveless</td>\n",
       "      <td>square_neckline</td>\n",
       "      <td>hourglass</td>\n",
       "      <td>22.916896</td>\n",
       "    </tr>\n",
       "    <tr>\n",
       "      <th>1</th>\n",
       "      <td>TOP CONTRIBUTOR</td>\n",
       "      <td>M</td>\n",
       "      <td>Overall fit: Large</td>\n",
       "      <td>Wedding</td>\n",
       "      <td>6</td>\n",
       "      <td>67</td>\n",
       "      <td>33</td>\n",
       "      <td>36C</td>\n",
       "      <td>hourglass</td>\n",
       "      <td>150</td>\n",
       "      <td>5</td>\n",
       "      <td>spring</td>\n",
       "      <td>Tory Burch</td>\n",
       "      <td>Painted Roses Smocked Dress</td>\n",
       "      <td>478</td>\n",
       "      <td>70</td>\n",
       "      <td>hourglass. sleeveless. square neckline. 45\" fr...</td>\n",
       "      <td>33</td>\n",
       "      <td>['hourglass']</td>\n",
       "      <td>sleeveless</td>\n",
       "      <td>square_neckline</td>\n",
       "      <td>hourglass</td>\n",
       "      <td>23.490755</td>\n",
       "    </tr>\n",
       "    <tr>\n",
       "      <th>2</th>\n",
       "      <td>TOP CONTRIBUTOR</td>\n",
       "      <td>S</td>\n",
       "      <td>Overall fit: Large</td>\n",
       "      <td>Everyday</td>\n",
       "      <td>6</td>\n",
       "      <td>66</td>\n",
       "      <td>27</td>\n",
       "      <td>34B</td>\n",
       "      <td>pear</td>\n",
       "      <td>140</td>\n",
       "      <td>5</td>\n",
       "      <td>spring</td>\n",
       "      <td>Tory Burch</td>\n",
       "      <td>Painted Roses Smocked Dress</td>\n",
       "      <td>478</td>\n",
       "      <td>70</td>\n",
       "      <td>hourglass. sleeveless. square neckline. 45\" fr...</td>\n",
       "      <td>33</td>\n",
       "      <td>['hourglass']</td>\n",
       "      <td>sleeveless</td>\n",
       "      <td>square_neckline</td>\n",
       "      <td>hourglass</td>\n",
       "      <td>22.594123</td>\n",
       "    </tr>\n",
       "    <tr>\n",
       "      <th>3</th>\n",
       "      <td>TOP CONTRIBUTOR</td>\n",
       "      <td>L</td>\n",
       "      <td>Overall fit: True to Size</td>\n",
       "      <td>unknown</td>\n",
       "      <td>12</td>\n",
       "      <td>66</td>\n",
       "      <td>42</td>\n",
       "      <td>36B</td>\n",
       "      <td>pear</td>\n",
       "      <td>181</td>\n",
       "      <td>5</td>\n",
       "      <td>spring</td>\n",
       "      <td>Tory Burch</td>\n",
       "      <td>Painted Roses Smocked Dress</td>\n",
       "      <td>478</td>\n",
       "      <td>70</td>\n",
       "      <td>hourglass. sleeveless. square neckline. 45\" fr...</td>\n",
       "      <td>33</td>\n",
       "      <td>['hourglass']</td>\n",
       "      <td>sleeveless</td>\n",
       "      <td>square_neckline</td>\n",
       "      <td>hourglass</td>\n",
       "      <td>29.210973</td>\n",
       "    </tr>\n",
       "    <tr>\n",
       "      <th>4</th>\n",
       "      <td>TOP CONTRIBUTOR</td>\n",
       "      <td>L</td>\n",
       "      <td>Overall fit: True to Size</td>\n",
       "      <td>Everyday</td>\n",
       "      <td>12</td>\n",
       "      <td>70</td>\n",
       "      <td>48</td>\n",
       "      <td>34D</td>\n",
       "      <td>pear</td>\n",
       "      <td>165</td>\n",
       "      <td>5</td>\n",
       "      <td>spring</td>\n",
       "      <td>Tory Burch</td>\n",
       "      <td>Painted Roses Smocked Dress</td>\n",
       "      <td>478</td>\n",
       "      <td>70</td>\n",
       "      <td>hourglass. sleeveless. square neckline. 45\" fr...</td>\n",
       "      <td>33</td>\n",
       "      <td>['hourglass']</td>\n",
       "      <td>sleeveless</td>\n",
       "      <td>square_neckline</td>\n",
       "      <td>hourglass</td>\n",
       "      <td>23.672449</td>\n",
       "    </tr>\n",
       "  </tbody>\n",
       "</table>\n",
       "</div>"
      ],
      "text/plain": [
       "             Label Size                Overall_fit Rented_for  \\\n",
       "0  TOP CONTRIBUTOR    S  Overall fit: True to Size   Vacation   \n",
       "1  TOP CONTRIBUTOR    M         Overall fit: Large    Wedding   \n",
       "2  TOP CONTRIBUTOR    S         Overall fit: Large   Everyday   \n",
       "3  TOP CONTRIBUTOR    L  Overall fit: True to Size    unknown   \n",
       "4  TOP CONTRIBUTOR    L  Overall fit: True to Size   Everyday   \n",
       "\n",
       "  Size_usually_worn  Height  Age Bust_size  Body_type  Weight  Rating    Date  \\\n",
       "0                 8      66   31       34C   athletic     142       5  spring   \n",
       "1                 6      67   33       36C  hourglass     150       5  spring   \n",
       "2                 6      66   27       34B       pear     140       5  spring   \n",
       "3                12      66   42       36B       pear     181       5  spring   \n",
       "4                12      70   48       34D       pear     165       5  spring   \n",
       "\n",
       "        Brand            Dress_Description  Retail_price  Rent_price  \\\n",
       "0  Tory Burch  Painted Roses Smocked Dress           478          70   \n",
       "1  Tory Burch  Painted Roses Smocked Dress           478          70   \n",
       "2  Tory Burch  Painted Roses Smocked Dress           478          70   \n",
       "3  Tory Burch  Painted Roses Smocked Dress           478          70   \n",
       "4  Tory Burch  Painted Roses Smocked Dress           478          70   \n",
       "\n",
       "                                     Product_details  Number_of_reviews  \\\n",
       "0  hourglass. sleeveless. square neckline. 45\" fr...                 33   \n",
       "1  hourglass. sleeveless. square neckline. 45\" fr...                 33   \n",
       "2  hourglass. sleeveless. square neckline. 45\" fr...                 33   \n",
       "3  hourglass. sleeveless. square neckline. 45\" fr...                 33   \n",
       "4  hourglass. sleeveless. square neckline. 45\" fr...                 33   \n",
       "\n",
       "         Details     Sleeves         Neckline Dress_Style        BMI  \n",
       "0  ['hourglass']  sleeveless  square_neckline   hourglass  22.916896  \n",
       "1  ['hourglass']  sleeveless  square_neckline   hourglass  23.490755  \n",
       "2  ['hourglass']  sleeveless  square_neckline   hourglass  22.594123  \n",
       "3  ['hourglass']  sleeveless  square_neckline   hourglass  29.210973  \n",
       "4  ['hourglass']  sleeveless  square_neckline   hourglass  23.672449  "
      ]
     },
     "execution_count": 3,
     "metadata": {},
     "output_type": "execute_result"
    }
   ],
   "source": [
    "df.head()"
   ]
  },
  {
   "cell_type": "code",
   "execution_count": 4,
   "id": "2e2773df",
   "metadata": {},
   "outputs": [],
   "source": [
    "def create_percentile_table(column):\n",
    "    data =  {'Percentile': [\"min\",'10th', '20th', '30th', '40th',\"50th\",\"60th\",\"70th\",\"80th\",\"90th\",\"max\"], \n",
    "          column: [df[column].min(),df[column].quantile(0.1), df[column].quantile(0.2), df[column].quantile(0.3), df[column].quantile(0.4),df[column].quantile(0.5),df[column].quantile(0.6),df[column].quantile(0.7),df[column].quantile(0.8),df[column].quantile(0.9),df[column].max()]} \n",
    "    percentile_table = pd.DataFrame(data)\n",
    "    percentile_table.set_index('Percentile')\n",
    "    return percentile_table"
   ]
  },
  {
   "cell_type": "code",
   "execution_count": 5,
   "id": "27cc27e0",
   "metadata": {},
   "outputs": [
    {
     "data": {
      "text/plain": [
       "519"
      ]
     },
     "execution_count": 5,
     "metadata": {},
     "output_type": "execute_result"
    }
   ],
   "source": [
    "# How many brands are there total on the website? There are 519 different Brands. \n",
    "len(list(df.Brand.unique()))\n"
   ]
  },
  {
   "cell_type": "code",
   "execution_count": 6,
   "id": "3f2f54f9",
   "metadata": {},
   "outputs": [
    {
     "data": {
      "text/plain": [
       "6685"
      ]
     },
     "execution_count": 6,
     "metadata": {},
     "output_type": "execute_result"
    }
   ],
   "source": [
    "# How many unique garments are there? There are 6,685 unique dresses. \n",
    "len(list(df.Dress_Description.unique()))"
   ]
  },
  {
   "cell_type": "code",
   "execution_count": null,
   "id": "681dd966",
   "metadata": {},
   "outputs": [],
   "source": []
  },
  {
   "cell_type": "code",
   "execution_count": 7,
   "id": "00cdb80a",
   "metadata": {},
   "outputs": [
    {
     "data": {
      "text/html": [
       "<div>\n",
       "<style scoped>\n",
       "    .dataframe tbody tr th:only-of-type {\n",
       "        vertical-align: middle;\n",
       "    }\n",
       "\n",
       "    .dataframe tbody tr th {\n",
       "        vertical-align: top;\n",
       "    }\n",
       "\n",
       "    .dataframe thead th {\n",
       "        text-align: right;\n",
       "    }\n",
       "</style>\n",
       "<table border=\"1\" class=\"dataframe\">\n",
       "  <thead>\n",
       "    <tr style=\"text-align: right;\">\n",
       "      <th></th>\n",
       "      <th>Height</th>\n",
       "      <th>Age</th>\n",
       "      <th>Weight</th>\n",
       "      <th>Rating</th>\n",
       "      <th>Retail_price</th>\n",
       "      <th>Rent_price</th>\n",
       "      <th>Number_of_reviews</th>\n",
       "      <th>BMI</th>\n",
       "    </tr>\n",
       "  </thead>\n",
       "  <tbody>\n",
       "    <tr>\n",
       "      <th>count</th>\n",
       "      <td>161329.000000</td>\n",
       "      <td>161329.000000</td>\n",
       "      <td>161329.000000</td>\n",
       "      <td>161329.000000</td>\n",
       "      <td>161329.000000</td>\n",
       "      <td>161329.000000</td>\n",
       "      <td>161329.000000</td>\n",
       "      <td>161329.000000</td>\n",
       "    </tr>\n",
       "    <tr>\n",
       "      <th>mean</th>\n",
       "      <td>65.276125</td>\n",
       "      <td>37.702112</td>\n",
       "      <td>143.381326</td>\n",
       "      <td>4.336263</td>\n",
       "      <td>424.690688</td>\n",
       "      <td>60.451239</td>\n",
       "      <td>90.175939</td>\n",
       "      <td>23.657577</td>\n",
       "    </tr>\n",
       "    <tr>\n",
       "      <th>std</th>\n",
       "      <td>2.681237</td>\n",
       "      <td>9.173667</td>\n",
       "      <td>25.215745</td>\n",
       "      <td>1.006066</td>\n",
       "      <td>274.556935</td>\n",
       "      <td>39.014852</td>\n",
       "      <td>138.919031</td>\n",
       "      <td>3.943556</td>\n",
       "    </tr>\n",
       "    <tr>\n",
       "      <th>min</th>\n",
       "      <td>53.000000</td>\n",
       "      <td>0.000000</td>\n",
       "      <td>80.000000</td>\n",
       "      <td>1.000000</td>\n",
       "      <td>43.000000</td>\n",
       "      <td>30.000000</td>\n",
       "      <td>0.000000</td>\n",
       "      <td>12.528403</td>\n",
       "    </tr>\n",
       "    <tr>\n",
       "      <th>25%</th>\n",
       "      <td>63.000000</td>\n",
       "      <td>31.000000</td>\n",
       "      <td>125.000000</td>\n",
       "      <td>4.000000</td>\n",
       "      <td>246.000000</td>\n",
       "      <td>30.000000</td>\n",
       "      <td>36.000000</td>\n",
       "      <td>20.980257</td>\n",
       "    </tr>\n",
       "    <tr>\n",
       "      <th>50%</th>\n",
       "      <td>65.000000</td>\n",
       "      <td>36.000000</td>\n",
       "      <td>140.000000</td>\n",
       "      <td>5.000000</td>\n",
       "      <td>375.000000</td>\n",
       "      <td>50.000000</td>\n",
       "      <td>57.000000</td>\n",
       "      <td>22.826904</td>\n",
       "    </tr>\n",
       "    <tr>\n",
       "      <th>75%</th>\n",
       "      <td>67.000000</td>\n",
       "      <td>43.000000</td>\n",
       "      <td>155.000000</td>\n",
       "      <td>5.000000</td>\n",
       "      <td>500.000000</td>\n",
       "      <td>73.000000</td>\n",
       "      <td>97.000000</td>\n",
       "      <td>25.526621</td>\n",
       "    </tr>\n",
       "    <tr>\n",
       "      <th>max</th>\n",
       "      <td>78.000000</td>\n",
       "      <td>80.000000</td>\n",
       "      <td>298.000000</td>\n",
       "      <td>5.000000</td>\n",
       "      <td>3595.000000</td>\n",
       "      <td>525.000000</td>\n",
       "      <td>3489.000000</td>\n",
       "      <td>58.421053</td>\n",
       "    </tr>\n",
       "  </tbody>\n",
       "</table>\n",
       "</div>"
      ],
      "text/plain": [
       "              Height            Age         Weight         Rating  \\\n",
       "count  161329.000000  161329.000000  161329.000000  161329.000000   \n",
       "mean       65.276125      37.702112     143.381326       4.336263   \n",
       "std         2.681237       9.173667      25.215745       1.006066   \n",
       "min        53.000000       0.000000      80.000000       1.000000   \n",
       "25%        63.000000      31.000000     125.000000       4.000000   \n",
       "50%        65.000000      36.000000     140.000000       5.000000   \n",
       "75%        67.000000      43.000000     155.000000       5.000000   \n",
       "max        78.000000      80.000000     298.000000       5.000000   \n",
       "\n",
       "        Retail_price     Rent_price  Number_of_reviews            BMI  \n",
       "count  161329.000000  161329.000000      161329.000000  161329.000000  \n",
       "mean      424.690688      60.451239          90.175939      23.657577  \n",
       "std       274.556935      39.014852         138.919031       3.943556  \n",
       "min        43.000000      30.000000           0.000000      12.528403  \n",
       "25%       246.000000      30.000000          36.000000      20.980257  \n",
       "50%       375.000000      50.000000          57.000000      22.826904  \n",
       "75%       500.000000      73.000000          97.000000      25.526621  \n",
       "max      3595.000000     525.000000        3489.000000      58.421053  "
      ]
     },
     "execution_count": 7,
     "metadata": {},
     "output_type": "execute_result"
    }
   ],
   "source": [
    "#What are the summary statistics for the numeric features. \n",
    "df.describe()"
   ]
  },
  {
   "cell_type": "code",
   "execution_count": 8,
   "id": "6174ed5f",
   "metadata": {},
   "outputs": [
    {
     "data": {
      "image/png": "[encoded data removed]",
      "text/plain": [
       "<Figure size 432x432 with 1 Axes>"
      ]
     },
     "metadata": {
      "needs_background": "light"
     },
     "output_type": "display_data"
    }
   ],
   "source": [
    "#What is the distribution of the retail price of the garments? \n",
    "\n",
    "plt.figure(figsize=(6,6));\n",
    "sns.histplot(data=df, x=\"Retail_price\",bins=50).set(title='Retail Prices of Dresses');"
   ]
  },
  {
   "cell_type": "code",
   "execution_count": 9,
   "id": "ca701a12",
   "metadata": {},
   "outputs": [
    {
     "data": {
      "text/plain": [
       "424.69068797302407"
      ]
     },
     "execution_count": 9,
     "metadata": {},
     "output_type": "execute_result"
    }
   ],
   "source": [
    "#The average retail price of the garment is $424. \n",
    "df.Retail_price.mean()"
   ]
  },
  {
   "cell_type": "code",
   "execution_count": 10,
   "id": "ccd39b66",
   "metadata": {},
   "outputs": [
    {
     "data": {
      "text/html": [
       "<div>\n",
       "<style scoped>\n",
       "    .dataframe tbody tr th:only-of-type {\n",
       "        vertical-align: middle;\n",
       "    }\n",
       "\n",
       "    .dataframe tbody tr th {\n",
       "        vertical-align: top;\n",
       "    }\n",
       "\n",
       "    .dataframe thead th {\n",
       "        text-align: right;\n",
       "    }\n",
       "</style>\n",
       "<table border=\"1\" class=\"dataframe\">\n",
       "  <thead>\n",
       "    <tr style=\"text-align: right;\">\n",
       "      <th></th>\n",
       "      <th>Percentile</th>\n",
       "      <th>Retail_price</th>\n",
       "    </tr>\n",
       "  </thead>\n",
       "  <tbody>\n",
       "    <tr>\n",
       "      <th>0</th>\n",
       "      <td>min</td>\n",
       "      <td>43.0</td>\n",
       "    </tr>\n",
       "    <tr>\n",
       "      <th>1</th>\n",
       "      <td>10th</td>\n",
       "      <td>159.0</td>\n",
       "    </tr>\n",
       "    <tr>\n",
       "      <th>2</th>\n",
       "      <td>20th</td>\n",
       "      <td>216.0</td>\n",
       "    </tr>\n",
       "    <tr>\n",
       "      <th>3</th>\n",
       "      <td>30th</td>\n",
       "      <td>275.0</td>\n",
       "    </tr>\n",
       "    <tr>\n",
       "      <th>4</th>\n",
       "      <td>40th</td>\n",
       "      <td>325.0</td>\n",
       "    </tr>\n",
       "    <tr>\n",
       "      <th>5</th>\n",
       "      <td>50th</td>\n",
       "      <td>375.0</td>\n",
       "    </tr>\n",
       "    <tr>\n",
       "      <th>6</th>\n",
       "      <td>60th</td>\n",
       "      <td>410.0</td>\n",
       "    </tr>\n",
       "    <tr>\n",
       "      <th>7</th>\n",
       "      <td>70th</td>\n",
       "      <td>495.0</td>\n",
       "    </tr>\n",
       "    <tr>\n",
       "      <th>8</th>\n",
       "      <td>80th</td>\n",
       "      <td>588.0</td>\n",
       "    </tr>\n",
       "    <tr>\n",
       "      <th>9</th>\n",
       "      <td>90th</td>\n",
       "      <td>713.0</td>\n",
       "    </tr>\n",
       "    <tr>\n",
       "      <th>10</th>\n",
       "      <td>max</td>\n",
       "      <td>3595.0</td>\n",
       "    </tr>\n",
       "  </tbody>\n",
       "</table>\n",
       "</div>"
      ],
      "text/plain": [
       "   Percentile  Retail_price\n",
       "0         min          43.0\n",
       "1        10th         159.0\n",
       "2        20th         216.0\n",
       "3        30th         275.0\n",
       "4        40th         325.0\n",
       "5        50th         375.0\n",
       "6        60th         410.0\n",
       "7        70th         495.0\n",
       "8        80th         588.0\n",
       "9        90th         713.0\n",
       "10        max        3595.0"
      ]
     },
     "execution_count": 10,
     "metadata": {},
     "output_type": "execute_result"
    }
   ],
   "source": [
    "#The median retail price of the garment is $375 and 90% of the garment cost $713.00 or less. \n",
    "percentile_table_retail_prices = create_percentile_table('Retail_price')\n",
    "percentile_table_retail_prices"
   ]
  },
  {
   "cell_type": "code",
   "execution_count": 11,
   "id": "aedd1d97",
   "metadata": {},
   "outputs": [
    {
     "data": {
      "image/png": "[encoded data removed]",
      "text/plain": [
       "<Figure size 432x432 with 1 Axes>"
      ]
     },
     "metadata": {
      "needs_background": "light"
     },
     "output_type": "display_data"
    }
   ],
   "source": [
    "#what is the distribution of the rented price of the garments?\n",
    "plt.figure(figsize=(6,6));\n",
    "sns.histplot(data=df, x=\"Rent_price\",bins=30).set(title='Rent Prices of Dresses');"
   ]
  },
  {
   "cell_type": "code",
   "execution_count": 12,
   "id": "19a3b7a0",
   "metadata": {},
   "outputs": [
    {
     "data": {
      "text/plain": [
       "60.45123939279361"
      ]
     },
     "execution_count": 12,
     "metadata": {},
     "output_type": "execute_result"
    }
   ],
   "source": [
    "#The average rent price of the garment is $60. \n",
    "df.Rent_price.mean()"
   ]
  },
  {
   "cell_type": "code",
   "execution_count": 13,
   "id": "1532a1b3",
   "metadata": {},
   "outputs": [
    {
     "data": {
      "text/html": [
       "<div>\n",
       "<style scoped>\n",
       "    .dataframe tbody tr th:only-of-type {\n",
       "        vertical-align: middle;\n",
       "    }\n",
       "\n",
       "    .dataframe tbody tr th {\n",
       "        vertical-align: top;\n",
       "    }\n",
       "\n",
       "    .dataframe thead th {\n",
       "        text-align: right;\n",
       "    }\n",
       "</style>\n",
       "<table border=\"1\" class=\"dataframe\">\n",
       "  <thead>\n",
       "    <tr style=\"text-align: right;\">\n",
       "      <th></th>\n",
       "      <th>Percentile</th>\n",
       "      <th>Rent_price</th>\n",
       "    </tr>\n",
       "  </thead>\n",
       "  <tbody>\n",
       "    <tr>\n",
       "      <th>0</th>\n",
       "      <td>min</td>\n",
       "      <td>30.0</td>\n",
       "    </tr>\n",
       "    <tr>\n",
       "      <th>1</th>\n",
       "      <td>10th</td>\n",
       "      <td>30.0</td>\n",
       "    </tr>\n",
       "    <tr>\n",
       "      <th>2</th>\n",
       "      <td>20th</td>\n",
       "      <td>30.0</td>\n",
       "    </tr>\n",
       "    <tr>\n",
       "      <th>3</th>\n",
       "      <td>30th</td>\n",
       "      <td>35.0</td>\n",
       "    </tr>\n",
       "    <tr>\n",
       "      <th>4</th>\n",
       "      <td>40th</td>\n",
       "      <td>41.0</td>\n",
       "    </tr>\n",
       "    <tr>\n",
       "      <th>5</th>\n",
       "      <td>50th</td>\n",
       "      <td>50.0</td>\n",
       "    </tr>\n",
       "    <tr>\n",
       "      <th>6</th>\n",
       "      <td>60th</td>\n",
       "      <td>60.0</td>\n",
       "    </tr>\n",
       "    <tr>\n",
       "      <th>7</th>\n",
       "      <td>70th</td>\n",
       "      <td>70.0</td>\n",
       "    </tr>\n",
       "    <tr>\n",
       "      <th>8</th>\n",
       "      <td>80th</td>\n",
       "      <td>80.0</td>\n",
       "    </tr>\n",
       "    <tr>\n",
       "      <th>9</th>\n",
       "      <td>90th</td>\n",
       "      <td>100.0</td>\n",
       "    </tr>\n",
       "    <tr>\n",
       "      <th>10</th>\n",
       "      <td>max</td>\n",
       "      <td>525.0</td>\n",
       "    </tr>\n",
       "  </tbody>\n",
       "</table>\n",
       "</div>"
      ],
      "text/plain": [
       "   Percentile  Rent_price\n",
       "0         min        30.0\n",
       "1        10th        30.0\n",
       "2        20th        30.0\n",
       "3        30th        35.0\n",
       "4        40th        41.0\n",
       "5        50th        50.0\n",
       "6        60th        60.0\n",
       "7        70th        70.0\n",
       "8        80th        80.0\n",
       "9        90th       100.0\n",
       "10        max       525.0"
      ]
     },
     "execution_count": 13,
     "metadata": {},
     "output_type": "execute_result"
    }
   ],
   "source": [
    "#The median rent price of the garment is $50 and 90% of the garment costing $100.00 or less to rent. \n",
    "percentile_table_rent_prices = create_percentile_table('Rent_price')\n",
    "percentile_table_rent_prices "
   ]
  },
  {
   "cell_type": "code",
   "execution_count": 14,
   "id": "84b025ea",
   "metadata": {},
   "outputs": [
    {
     "data": {
      "image/png": "[encoded data removed]",
      "text/plain": [
       "<Figure size 432x432 with 1 Axes>"
      ]
     },
     "metadata": {
      "needs_background": "light"
     },
     "output_type": "display_data"
    }
   ],
   "source": [
    "#What is Age distribution of the customers? \n",
    "plt.figure(figsize=(6,6));\n",
    "sns.histplot(data=df, x=\"Age\",bins=30).set(title='Ages of Customers');"
   ]
  },
  {
   "cell_type": "code",
   "execution_count": 15,
   "id": "52897939",
   "metadata": {},
   "outputs": [
    {
     "data": {
      "text/plain": [
       "37.70211183358231"
      ]
     },
     "execution_count": 15,
     "metadata": {},
     "output_type": "execute_result"
    }
   ],
   "source": [
    "#The average age of the customer is 37 years old. \n",
    "df.Age.mean() "
   ]
  },
  {
   "cell_type": "code",
   "execution_count": 16,
   "id": "60a85ae5",
   "metadata": {},
   "outputs": [
    {
     "data": {
      "text/html": [
       "<div>\n",
       "<style scoped>\n",
       "    .dataframe tbody tr th:only-of-type {\n",
       "        vertical-align: middle;\n",
       "    }\n",
       "\n",
       "    .dataframe tbody tr th {\n",
       "        vertical-align: top;\n",
       "    }\n",
       "\n",
       "    .dataframe thead th {\n",
       "        text-align: right;\n",
       "    }\n",
       "</style>\n",
       "<table border=\"1\" class=\"dataframe\">\n",
       "  <thead>\n",
       "    <tr style=\"text-align: right;\">\n",
       "      <th></th>\n",
       "      <th>Percentile</th>\n",
       "      <th>Age</th>\n",
       "    </tr>\n",
       "  </thead>\n",
       "  <tbody>\n",
       "    <tr>\n",
       "      <th>0</th>\n",
       "      <td>min</td>\n",
       "      <td>0.0</td>\n",
       "    </tr>\n",
       "    <tr>\n",
       "      <th>1</th>\n",
       "      <td>10th</td>\n",
       "      <td>28.0</td>\n",
       "    </tr>\n",
       "    <tr>\n",
       "      <th>2</th>\n",
       "      <td>20th</td>\n",
       "      <td>30.0</td>\n",
       "    </tr>\n",
       "    <tr>\n",
       "      <th>3</th>\n",
       "      <td>30th</td>\n",
       "      <td>32.0</td>\n",
       "    </tr>\n",
       "    <tr>\n",
       "      <th>4</th>\n",
       "      <td>40th</td>\n",
       "      <td>34.0</td>\n",
       "    </tr>\n",
       "    <tr>\n",
       "      <th>5</th>\n",
       "      <td>50th</td>\n",
       "      <td>36.0</td>\n",
       "    </tr>\n",
       "    <tr>\n",
       "      <th>6</th>\n",
       "      <td>60th</td>\n",
       "      <td>39.0</td>\n",
       "    </tr>\n",
       "    <tr>\n",
       "      <th>7</th>\n",
       "      <td>70th</td>\n",
       "      <td>41.0</td>\n",
       "    </tr>\n",
       "    <tr>\n",
       "      <th>8</th>\n",
       "      <td>80th</td>\n",
       "      <td>45.0</td>\n",
       "    </tr>\n",
       "    <tr>\n",
       "      <th>9</th>\n",
       "      <td>90th</td>\n",
       "      <td>51.0</td>\n",
       "    </tr>\n",
       "    <tr>\n",
       "      <th>10</th>\n",
       "      <td>max</td>\n",
       "      <td>80.0</td>\n",
       "    </tr>\n",
       "  </tbody>\n",
       "</table>\n",
       "</div>"
      ],
      "text/plain": [
       "   Percentile   Age\n",
       "0         min   0.0\n",
       "1        10th  28.0\n",
       "2        20th  30.0\n",
       "3        30th  32.0\n",
       "4        40th  34.0\n",
       "5        50th  36.0\n",
       "6        60th  39.0\n",
       "7        70th  41.0\n",
       "8        80th  45.0\n",
       "9        90th  51.0\n",
       "10        max  80.0"
      ]
     },
     "execution_count": 16,
     "metadata": {},
     "output_type": "execute_result"
    }
   ],
   "source": [
    "#The median age of the customer is 36 years old and 90% of the customers are 51 years old or younger. \n",
    "percentile_table_Age = create_percentile_table('Age')\n",
    "percentile_table_Age"
   ]
  },
  {
   "cell_type": "code",
   "execution_count": 17,
   "id": "fc3a2d3d",
   "metadata": {},
   "outputs": [
    {
     "data": {
      "image/png": "[encoded data removed]",
      "text/plain": [
       "<Figure size 432x432 with 1 Axes>"
      ]
     },
     "metadata": {
      "needs_background": "light"
     },
     "output_type": "display_data"
    }
   ],
   "source": [
    "#What is Height distribution of the customers? \n",
    "plt.figure(figsize=(6,6));\n",
    "sns.histplot(data=df, x=\"Height\",bins=20).set(title='Heights of Customers (in inches)');"
   ]
  },
  {
   "cell_type": "code",
   "execution_count": 18,
   "id": "71bbc593",
   "metadata": {},
   "outputs": [
    {
     "data": {
      "text/html": [
       "<div>\n",
       "<style scoped>\n",
       "    .dataframe tbody tr th:only-of-type {\n",
       "        vertical-align: middle;\n",
       "    }\n",
       "\n",
       "    .dataframe tbody tr th {\n",
       "        vertical-align: top;\n",
       "    }\n",
       "\n",
       "    .dataframe thead th {\n",
       "        text-align: right;\n",
       "    }\n",
       "</style>\n",
       "<table border=\"1\" class=\"dataframe\">\n",
       "  <thead>\n",
       "    <tr style=\"text-align: right;\">\n",
       "      <th></th>\n",
       "      <th>Percentile</th>\n",
       "      <th>Height</th>\n",
       "    </tr>\n",
       "  </thead>\n",
       "  <tbody>\n",
       "    <tr>\n",
       "      <th>0</th>\n",
       "      <td>min</td>\n",
       "      <td>53.0</td>\n",
       "    </tr>\n",
       "    <tr>\n",
       "      <th>1</th>\n",
       "      <td>10th</td>\n",
       "      <td>62.0</td>\n",
       "    </tr>\n",
       "    <tr>\n",
       "      <th>2</th>\n",
       "      <td>20th</td>\n",
       "      <td>63.0</td>\n",
       "    </tr>\n",
       "    <tr>\n",
       "      <th>3</th>\n",
       "      <td>30th</td>\n",
       "      <td>64.0</td>\n",
       "    </tr>\n",
       "    <tr>\n",
       "      <th>4</th>\n",
       "      <td>40th</td>\n",
       "      <td>64.0</td>\n",
       "    </tr>\n",
       "    <tr>\n",
       "      <th>5</th>\n",
       "      <td>50th</td>\n",
       "      <td>65.0</td>\n",
       "    </tr>\n",
       "    <tr>\n",
       "      <th>6</th>\n",
       "      <td>60th</td>\n",
       "      <td>66.0</td>\n",
       "    </tr>\n",
       "    <tr>\n",
       "      <th>7</th>\n",
       "      <td>70th</td>\n",
       "      <td>67.0</td>\n",
       "    </tr>\n",
       "    <tr>\n",
       "      <th>8</th>\n",
       "      <td>80th</td>\n",
       "      <td>68.0</td>\n",
       "    </tr>\n",
       "    <tr>\n",
       "      <th>9</th>\n",
       "      <td>90th</td>\n",
       "      <td>69.0</td>\n",
       "    </tr>\n",
       "    <tr>\n",
       "      <th>10</th>\n",
       "      <td>max</td>\n",
       "      <td>78.0</td>\n",
       "    </tr>\n",
       "  </tbody>\n",
       "</table>\n",
       "</div>"
      ],
      "text/plain": [
       "   Percentile  Height\n",
       "0         min    53.0\n",
       "1        10th    62.0\n",
       "2        20th    63.0\n",
       "3        30th    64.0\n",
       "4        40th    64.0\n",
       "5        50th    65.0\n",
       "6        60th    66.0\n",
       "7        70th    67.0\n",
       "8        80th    68.0\n",
       "9        90th    69.0\n",
       "10        max    78.0"
      ]
     },
     "execution_count": 18,
     "metadata": {},
     "output_type": "execute_result"
    }
   ],
   "source": [
    "#The median height of the customer is 5 feet and 4 inches.  \n",
    "percentile_table_Height = create_percentile_table('Height')\n",
    "percentile_table_Height"
   ]
  },
  {
   "cell_type": "code",
   "execution_count": 19,
   "id": "3a9ca22f",
   "metadata": {},
   "outputs": [
    {
     "data": {
      "image/png": "[encoded data removed]",
      "text/plain": [
       "<Figure size 432x432 with 1 Axes>"
      ]
     },
     "metadata": {
      "needs_background": "light"
     },
     "output_type": "display_data"
    }
   ],
   "source": [
    "#What is Weight distribution of the customers? \n",
    "\n",
    "plt.figure(figsize=(6,6));\n",
    "sns.histplot(data=df, x=\"Weight\",bins=20).set(title='Weights of Customers (in pounds)');"
   ]
  },
  {
   "cell_type": "code",
   "execution_count": 20,
   "id": "78f4aad6",
   "metadata": {},
   "outputs": [
    {
     "name": "stdout",
     "output_type": "stream",
     "text": [
      "143.38132635793937\n"
     ]
    },
    {
     "data": {
      "text/plain": [
       "140.0"
      ]
     },
     "execution_count": 20,
     "metadata": {},
     "output_type": "execute_result"
    }
   ],
   "source": [
    "#The average weight of the customer is 143 pounds. The median weight of the customer is 140.00 pounds. \n",
    "print(df.Weight.mean())\n",
    "df.Weight.quantile(0.5)"
   ]
  },
  {
   "cell_type": "code",
   "execution_count": 21,
   "id": "a2751da4",
   "metadata": {},
   "outputs": [
    {
     "data": {
      "image/png": "[encoded data removed]",
      "text/plain": [
       "<Figure size 432x288 with 1 Axes>"
      ]
     },
     "metadata": {},
     "output_type": "display_data"
    }
   ],
   "source": [
    "#What is the Body Type distribution of the customers? \n",
    "sns.set(style=\"whitegrid\")\n",
    "df.Body_type.value_counts().plot(kind=\"bar\");"
   ]
  },
  {
   "cell_type": "code",
   "execution_count": 22,
   "id": "b5909bdf",
   "metadata": {},
   "outputs": [
    {
     "data": {
      "image/png": "[encoded data removed]",
      "text/plain": [
       "<Figure size 432x288 with 1 Axes>"
      ]
     },
     "metadata": {},
     "output_type": "display_data"
    }
   ],
   "source": [
    "# What is the distribution of the events rented for ? \n",
    "#It looks like about 25% of the customers rent the clothes for work. \n",
    "df.Rented_for.value_counts(normalize=True).plot(kind=\"bar\");"
   ]
  },
  {
   "cell_type": "code",
   "execution_count": 23,
   "id": "58b95949",
   "metadata": {},
   "outputs": [
    {
     "data": {
      "image/png": "[encoded data removed]",
      "text/plain": [
       "<Figure size 432x288 with 1 Axes>"
      ]
     },
     "metadata": {},
     "output_type": "display_data"
    }
   ],
   "source": [
    "# What is the distribution for ratings for garments look like? \n",
    "#It looks like: \n",
    "# 5 - 60% , 4 - 23%, 3 - 10%, 2 - 4% , 1 - 3% \n",
    "df.Rating.value_counts(normalize=True).plot(kind=\"bar\");"
   ]
  },
  {
   "cell_type": "code",
   "execution_count": null,
   "id": "1b52191b",
   "metadata": {},
   "outputs": [],
   "source": [
    ",normalize='index'.round(3)"
   ]
  },
  {
   "cell_type": "code",
   "execution_count": 36,
   "id": "ba7f6d88",
   "metadata": {},
   "outputs": [
    {
     "data": {
      "text/html": [
       "<div>\n",
       "<style scoped>\n",
       "    .dataframe tbody tr th:only-of-type {\n",
       "        vertical-align: middle;\n",
       "    }\n",
       "\n",
       "    .dataframe tbody tr th {\n",
       "        vertical-align: top;\n",
       "    }\n",
       "\n",
       "    .dataframe thead th {\n",
       "        text-align: right;\n",
       "    }\n",
       "</style>\n",
       "<table border=\"1\" class=\"dataframe\">\n",
       "  <thead>\n",
       "    <tr style=\"text-align: right;\">\n",
       "      <th>Rating</th>\n",
       "      <th>1</th>\n",
       "      <th>2</th>\n",
       "      <th>3</th>\n",
       "      <th>4</th>\n",
       "      <th>5</th>\n",
       "      <th>All</th>\n",
       "    </tr>\n",
       "    <tr>\n",
       "      <th>Rented_for</th>\n",
       "      <th></th>\n",
       "      <th></th>\n",
       "      <th></th>\n",
       "      <th></th>\n",
       "      <th></th>\n",
       "      <th></th>\n",
       "    </tr>\n",
       "  </thead>\n",
       "  <tbody>\n",
       "    <tr>\n",
       "      <th>Date</th>\n",
       "      <td>273</td>\n",
       "      <td>353</td>\n",
       "      <td>944</td>\n",
       "      <td>2150</td>\n",
       "      <td>5655</td>\n",
       "      <td>9375</td>\n",
       "    </tr>\n",
       "    <tr>\n",
       "      <th>Everyday</th>\n",
       "      <td>1069</td>\n",
       "      <td>1485</td>\n",
       "      <td>3369</td>\n",
       "      <td>6134</td>\n",
       "      <td>12382</td>\n",
       "      <td>24439</td>\n",
       "    </tr>\n",
       "    <tr>\n",
       "      <th>Formal Affair</th>\n",
       "      <td>187</td>\n",
       "      <td>234</td>\n",
       "      <td>756</td>\n",
       "      <td>2724</td>\n",
       "      <td>9608</td>\n",
       "      <td>13509</td>\n",
       "    </tr>\n",
       "    <tr>\n",
       "      <th>Party</th>\n",
       "      <td>620</td>\n",
       "      <td>841</td>\n",
       "      <td>2010</td>\n",
       "      <td>5355</td>\n",
       "      <td>15457</td>\n",
       "      <td>24283</td>\n",
       "    </tr>\n",
       "    <tr>\n",
       "      <th>Vacation</th>\n",
       "      <td>332</td>\n",
       "      <td>390</td>\n",
       "      <td>913</td>\n",
       "      <td>1943</td>\n",
       "      <td>5662</td>\n",
       "      <td>9240</td>\n",
       "    </tr>\n",
       "    <tr>\n",
       "      <th>Wedding</th>\n",
       "      <td>293</td>\n",
       "      <td>464</td>\n",
       "      <td>1313</td>\n",
       "      <td>5851</td>\n",
       "      <td>19288</td>\n",
       "      <td>27209</td>\n",
       "    </tr>\n",
       "    <tr>\n",
       "      <th>Work</th>\n",
       "      <td>1040</td>\n",
       "      <td>1571</td>\n",
       "      <td>4173</td>\n",
       "      <td>9329</td>\n",
       "      <td>18043</td>\n",
       "      <td>34156</td>\n",
       "    </tr>\n",
       "    <tr>\n",
       "      <th>unknown</th>\n",
       "      <td>971</td>\n",
       "      <td>1097</td>\n",
       "      <td>2149</td>\n",
       "      <td>3895</td>\n",
       "      <td>11006</td>\n",
       "      <td>19118</td>\n",
       "    </tr>\n",
       "    <tr>\n",
       "      <th>All</th>\n",
       "      <td>4785</td>\n",
       "      <td>6435</td>\n",
       "      <td>15627</td>\n",
       "      <td>37381</td>\n",
       "      <td>97101</td>\n",
       "      <td>161329</td>\n",
       "    </tr>\n",
       "  </tbody>\n",
       "</table>\n",
       "</div>"
      ],
      "text/plain": [
       "Rating            1     2      3      4      5     All\n",
       "Rented_for                                            \n",
       "Date            273   353    944   2150   5655    9375\n",
       "Everyday       1069  1485   3369   6134  12382   24439\n",
       "Formal Affair   187   234    756   2724   9608   13509\n",
       "Party           620   841   2010   5355  15457   24283\n",
       "Vacation        332   390    913   1943   5662    9240\n",
       "Wedding         293   464   1313   5851  19288   27209\n",
       "Work           1040  1571   4173   9329  18043   34156\n",
       "unknown         971  1097   2149   3895  11006   19118\n",
       "All            4785  6435  15627  37381  97101  161329"
      ]
     },
     "execution_count": 36,
     "metadata": {},
     "output_type": "execute_result"
    }
   ],
   "source": [
    "#What is the relationship between the Reason for Renting and the Customer Satisfaction? \n",
    "pd.crosstab(index=df['Rented_for'], columns=df['Rating'],margins=True)"
   ]
  },
  {
   "cell_type": "code",
   "execution_count": 37,
   "id": "a009c8ed",
   "metadata": {},
   "outputs": [
    {
     "data": {
      "text/html": [
       "<div>\n",
       "<style scoped>\n",
       "    .dataframe tbody tr th:only-of-type {\n",
       "        vertical-align: middle;\n",
       "    }\n",
       "\n",
       "    .dataframe tbody tr th {\n",
       "        vertical-align: top;\n",
       "    }\n",
       "\n",
       "    .dataframe thead th {\n",
       "        text-align: right;\n",
       "    }\n",
       "</style>\n",
       "<table border=\"1\" class=\"dataframe\">\n",
       "  <thead>\n",
       "    <tr style=\"text-align: right;\">\n",
       "      <th>Rating</th>\n",
       "      <th>1</th>\n",
       "      <th>2</th>\n",
       "      <th>3</th>\n",
       "      <th>4</th>\n",
       "      <th>5</th>\n",
       "      <th>All</th>\n",
       "    </tr>\n",
       "    <tr>\n",
       "      <th>Date</th>\n",
       "      <th></th>\n",
       "      <th></th>\n",
       "      <th></th>\n",
       "      <th></th>\n",
       "      <th></th>\n",
       "      <th></th>\n",
       "    </tr>\n",
       "  </thead>\n",
       "  <tbody>\n",
       "    <tr>\n",
       "      <th>fall</th>\n",
       "      <td>1288</td>\n",
       "      <td>1821</td>\n",
       "      <td>4173</td>\n",
       "      <td>10300</td>\n",
       "      <td>27149</td>\n",
       "      <td>44731</td>\n",
       "    </tr>\n",
       "    <tr>\n",
       "      <th>spring</th>\n",
       "      <td>1366</td>\n",
       "      <td>1825</td>\n",
       "      <td>4175</td>\n",
       "      <td>9173</td>\n",
       "      <td>23036</td>\n",
       "      <td>39575</td>\n",
       "    </tr>\n",
       "    <tr>\n",
       "      <th>summer</th>\n",
       "      <td>1205</td>\n",
       "      <td>1579</td>\n",
       "      <td>3900</td>\n",
       "      <td>9224</td>\n",
       "      <td>23469</td>\n",
       "      <td>39377</td>\n",
       "    </tr>\n",
       "    <tr>\n",
       "      <th>winter</th>\n",
       "      <td>926</td>\n",
       "      <td>1210</td>\n",
       "      <td>3379</td>\n",
       "      <td>8684</td>\n",
       "      <td>23447</td>\n",
       "      <td>37646</td>\n",
       "    </tr>\n",
       "    <tr>\n",
       "      <th>All</th>\n",
       "      <td>4785</td>\n",
       "      <td>6435</td>\n",
       "      <td>15627</td>\n",
       "      <td>37381</td>\n",
       "      <td>97101</td>\n",
       "      <td>161329</td>\n",
       "    </tr>\n",
       "  </tbody>\n",
       "</table>\n",
       "</div>"
      ],
      "text/plain": [
       "Rating     1     2      3      4      5     All\n",
       "Date                                           \n",
       "fall    1288  1821   4173  10300  27149   44731\n",
       "spring  1366  1825   4175   9173  23036   39575\n",
       "summer  1205  1579   3900   9224  23469   39377\n",
       "winter   926  1210   3379   8684  23447   37646\n",
       "All     4785  6435  15627  37381  97101  161329"
      ]
     },
     "execution_count": 37,
     "metadata": {},
     "output_type": "execute_result"
    }
   ],
   "source": [
    "#What is the relationship between the Season Rented and the Customer Satisfaction? \n",
    "pd.crosstab(index=df['Date'], columns=df['Rating'],margins=True)"
   ]
  },
  {
   "cell_type": "code",
   "execution_count": 40,
   "id": "d65947bd",
   "metadata": {},
   "outputs": [
    {
     "data": {
      "text/html": [
       "<div>\n",
       "<style scoped>\n",
       "    .dataframe tbody tr th:only-of-type {\n",
       "        vertical-align: middle;\n",
       "    }\n",
       "\n",
       "    .dataframe tbody tr th {\n",
       "        vertical-align: top;\n",
       "    }\n",
       "\n",
       "    .dataframe thead th {\n",
       "        text-align: right;\n",
       "    }\n",
       "</style>\n",
       "<table border=\"1\" class=\"dataframe\">\n",
       "  <thead>\n",
       "    <tr style=\"text-align: right;\">\n",
       "      <th>Rating</th>\n",
       "      <th>1</th>\n",
       "      <th>2</th>\n",
       "      <th>3</th>\n",
       "      <th>4</th>\n",
       "      <th>5</th>\n",
       "    </tr>\n",
       "    <tr>\n",
       "      <th>Overall_fit</th>\n",
       "      <th></th>\n",
       "      <th></th>\n",
       "      <th></th>\n",
       "      <th></th>\n",
       "      <th></th>\n",
       "    </tr>\n",
       "  </thead>\n",
       "  <tbody>\n",
       "    <tr>\n",
       "      <th>Overall fit: Large</th>\n",
       "      <td>912</td>\n",
       "      <td>1154</td>\n",
       "      <td>2253</td>\n",
       "      <td>3548</td>\n",
       "      <td>4168</td>\n",
       "    </tr>\n",
       "    <tr>\n",
       "      <th>Overall fit: Small</th>\n",
       "      <td>1614</td>\n",
       "      <td>1657</td>\n",
       "      <td>3054</td>\n",
       "      <td>3862</td>\n",
       "      <td>4880</td>\n",
       "    </tr>\n",
       "    <tr>\n",
       "      <th>Overall fit: True to Size</th>\n",
       "      <td>812</td>\n",
       "      <td>1458</td>\n",
       "      <td>4172</td>\n",
       "      <td>13395</td>\n",
       "      <td>44664</td>\n",
       "    </tr>\n",
       "    <tr>\n",
       "      <th>unknown</th>\n",
       "      <td>1447</td>\n",
       "      <td>2166</td>\n",
       "      <td>6148</td>\n",
       "      <td>16576</td>\n",
       "      <td>43389</td>\n",
       "    </tr>\n",
       "  </tbody>\n",
       "</table>\n",
       "</div>"
      ],
      "text/plain": [
       "Rating                        1     2     3      4      5\n",
       "Overall_fit                                              \n",
       "Overall fit: Large          912  1154  2253   3548   4168\n",
       "Overall fit: Small         1614  1657  3054   3862   4880\n",
       "Overall fit: True to Size   812  1458  4172  13395  44664\n",
       "unknown                    1447  2166  6148  16576  43389"
      ]
     },
     "execution_count": 40,
     "metadata": {},
     "output_type": "execute_result"
    }
   ],
   "source": [
    "#What is the relationship between the Overall_Fit and the Customer Satisfaction? \n",
    "pd.crosstab(index=df['Overall_fit'], columns=df['Rating'])"
   ]
  },
  {
   "cell_type": "code",
   "execution_count": 44,
   "id": "3c77563a",
   "metadata": {},
   "outputs": [
    {
     "data": {
      "text/plain": [
       "Index(['Label', 'Size', 'Overall_fit', 'Rented_for', 'Size_usually_worn',\n",
       "       'Height', 'Age', 'Bust_size', 'Body_type', 'Weight', 'Rating', 'Date',\n",
       "       'Brand', 'Dress_Description', 'Retail_price', 'Rent_price',\n",
       "       'Product_details', 'Number_of_reviews', 'Details', 'Sleeves',\n",
       "       'Neckline', 'Dress_Style', 'BMI'],\n",
       "      dtype='object')"
      ]
     },
     "execution_count": 44,
     "metadata": {},
     "output_type": "execute_result"
    }
   ],
   "source": [
    "df.columns"
   ]
  },
  {
   "cell_type": "code",
   "execution_count": null,
   "id": "c9b265b0",
   "metadata": {},
   "outputs": [],
   "source": [
    "#Look at the scatterplot relationships of numeric features. Are there any clear relationships? \n",
    "#What is the relationship between Weight and Customer Satisfaction?\n",
    "plt.figure(figsize=(14,9))\n",
    "plt.scatter(df.Rating, df.Weight,  s=8);"
   ]
  }
 ],
 "metadata": {
  "kernelspec": {
   "display_name": "Python 3 (ipykernel)",
   "language": "python",
   "name": "python3"
  },
  "language_info": {
   "codemirror_mode": {
    "name": "ipython",
    "version": 3
   },
   "file_extension": ".py",
   "mimetype": "text/x-python",
   "name": "python",
   "nbconvert_exporter": "python",
   "pygments_lexer": "ipython3",
   "version": "3.9.11"
  }
 },
 "nbformat": 4,
 "nbformat_minor": 5
}
