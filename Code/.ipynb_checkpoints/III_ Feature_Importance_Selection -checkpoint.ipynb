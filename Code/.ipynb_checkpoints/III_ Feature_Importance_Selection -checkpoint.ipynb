{
 "cells": [
  {
   "cell_type": "markdown",
   "id": "e7af47a8",
   "metadata": {},
   "source": [
    "\n",
    "\n",
    "# Predicting Customer Satisfaction on Rent the Runway\n",
    "\n",
    "##  III. Feature Importance Selection\n",
    "\n",
    "### Katrin Ayrapetov\n",
    "\n",
    "\n",
    "<font style=\"font-size: 2rem; color: blue\">\n",
    "\n",
    "\n",
    " \n",
    "</font>"
   ]
  },
  {
   "cell_type": "code",
   "execution_count": 1,
   "id": "b9d1793f",
   "metadata": {},
   "outputs": [],
   "source": [
    "import pandas as pd\n",
    "import numpy as np\n",
    "from sklearn.preprocessing import LabelEncoder\n",
    "from sklearn import preprocessing\n",
    "from sklearn.feature_selection import SelectKBest, chi2\n",
    "from sklearn.feature_selection import SelectFromModel\n",
    "from sklearn.preprocessing import StandardScaler\n",
    "from sklearn.ensemble import AdaBoostClassifier\n",
    "import warnings\n",
    "warnings.filterwarnings(\"ignore\")"
   ]
  },
  {
   "cell_type": "code",
   "execution_count": 2,
   "id": "f4408ba5",
   "metadata": {},
   "outputs": [],
   "source": [
    "import itertools\n",
    "from sklearn import model_selection\n",
    "from collections import Counter\n",
    "from sklearn.datasets import make_classification\n",
    "from imblearn.over_sampling import RandomOverSampler"
   ]
  },
  {
   "cell_type": "code",
   "execution_count": 3,
   "id": "d0d96f01",
   "metadata": {},
   "outputs": [],
   "source": [
    "df =  pd.read_csv('../Data/df_clean.csv')"
   ]
  },
  {
   "cell_type": "code",
   "execution_count": 4,
   "id": "f682b253",
   "metadata": {},
   "outputs": [],
   "source": [
    "df.drop(columns=[\"Retail_price\"],inplace=True)"
   ]
  },
  {
   "cell_type": "code",
   "execution_count": 5,
   "id": "b37d9c84",
   "metadata": {},
   "outputs": [],
   "source": [
    "# For Train set\n",
    "lencoders = {}\n",
    "for col in df.select_dtypes(include=['object']).columns:\n",
    "    lencoders[col] = LabelEncoder()\n",
    "    df[col] = lencoders[col].fit_transform(df[col])"
   ]
  },
  {
   "cell_type": "markdown",
   "id": "fb5d5ec9",
   "metadata": {},
   "source": [
    "### Select top ten features using the Chi Square "
   ]
  },
  {
   "cell_type": "code",
   "execution_count": 6,
   "id": "bbd521cd",
   "metadata": {},
   "outputs": [],
   "source": [
    "r_scaler = preprocessing.MinMaxScaler()\n",
    "r_scaler.fit(df)\n",
    "modified_data = pd.DataFrame(r_scaler.transform(df), columns=df.columns)\n"
   ]
  },
  {
   "cell_type": "code",
   "execution_count": 7,
   "id": "a5722bbe",
   "metadata": {},
   "outputs": [],
   "source": [
    "X = modified_data.loc[:,modified_data.columns!='Rating']\n",
    "y = modified_data[['Rating']]\n"
   ]
  },
  {
   "cell_type": "code",
   "execution_count": 8,
   "id": "99097ddd",
   "metadata": {},
   "outputs": [],
   "source": [
    "y=y.astype('int')"
   ]
  },
  {
   "cell_type": "code",
   "execution_count": 9,
   "id": "38928eab",
   "metadata": {},
   "outputs": [],
   "source": [
    "selector = SelectKBest(chi2, k=10)"
   ]
  },
  {
   "cell_type": "code",
   "execution_count": 10,
   "id": "f0a653b6",
   "metadata": {},
   "outputs": [
    {
     "data": {
      "text/plain": [
       "SelectKBest(score_func=<function chi2 at 0x0000023F55B39940>)"
      ]
     },
     "execution_count": 10,
     "metadata": {},
     "output_type": "execute_result"
    }
   ],
   "source": [
    "selector.fit(X, y)"
   ]
  },
  {
   "cell_type": "code",
   "execution_count": 11,
   "id": "c3869b7f",
   "metadata": {},
   "outputs": [
    {
     "name": "stdout",
     "output_type": "stream",
     "text": [
      "Index(['Type_of_Customer', 'Size', 'Overall_fit', 'Age', 'Weight', 'Date',\n",
      "       'Brand', 'Number_of_reviews', 'BMI', 'Neckline'],\n",
      "      dtype='object')\n"
     ]
    }
   ],
   "source": [
    "X_new = selector.transform(X)\n",
    "print(X.columns[selector.get_support(indices=True)])"
   ]
  },
  {
   "cell_type": "code",
   "execution_count": 12,
   "id": "4628d205",
   "metadata": {},
   "outputs": [],
   "source": [
    "imp_feat_chi_squared = list(X.columns[selector.get_support(indices=True)])"
   ]
  },
  {
   "cell_type": "code",
   "execution_count": 17,
   "id": "de49bcf4",
   "metadata": {},
   "outputs": [
    {
     "name": "stdout",
     "output_type": "stream",
     "text": [
      "Important features using Chi Square\n",
      "Feature 1 is Type_of_Customer\n",
      "Feature 2 is Size\n",
      "Feature 3 is Overall_fit\n",
      "Feature 4 is Age\n",
      "Feature 5 is Weight\n",
      "Feature 6 is Date\n",
      "Feature 7 is Brand\n",
      "Feature 8 is Number_of_reviews\n",
      "Feature 9 is BMI\n",
      "Feature 10 is Neckline\n"
     ]
    }
   ],
   "source": [
    "print(\"Important features using Chi Square\")\n",
    "for i in range(10):\n",
    "    print(f\"Feature {i + 1} is {imp_feat_chi_squared[i]}\")"
   ]
  },
  {
   "cell_type": "markdown",
   "id": "7021218b",
   "metadata": {},
   "source": [
    "### Select top ten features using ADA Boost "
   ]
  },
  {
   "cell_type": "code",
   "execution_count": 25,
   "id": "989fd1c1",
   "metadata": {},
   "outputs": [
    {
     "data": {
      "text/plain": [
       "Index(['Type_of_Customer', 'Size', 'Overall_fit', 'Rented_for',\n",
       "       'Size_usually_worn', 'Height', 'Age', 'Bust_size', 'Body_type',\n",
       "       'Weight', 'Rating', 'Date', 'Brand', 'Rent_price', 'Number_of_reviews',\n",
       "       'BMI', 'Sleeves', 'Neckline', 'Dress_Style'],\n",
       "      dtype='object')"
      ]
     },
     "execution_count": 25,
     "metadata": {},
     "output_type": "execute_result"
    }
   ],
   "source": [
    "df.columns"
   ]
  },
  {
   "cell_type": "code",
   "execution_count": 18,
   "id": "22d1d69c",
   "metadata": {},
   "outputs": [],
   "source": [
    "features = ['Type_of_Customer', 'Size', 'Overall_fit', 'Rented_for', 'Size_usually_worn',\n",
    "            'Height', 'Age',\"Weight\", 'Bust_size', 'Body_type',  'Date','Rent_price', 'Number_of_reviews', 'Sleeves', 'Neckline', 'Dress_Style','BMI','Brand']\n",
    "target = ['Rating']\n"
   ]
  },
  {
   "cell_type": "code",
   "execution_count": 20,
   "id": "edd82453",
   "metadata": {},
   "outputs": [],
   "source": [
    "imp_feat_ADA_boost = []"
   ]
  },
  {
   "cell_type": "code",
   "execution_count": 21,
   "id": "61317ca6",
   "metadata": {},
   "outputs": [
    {
     "name": "stdout",
     "output_type": "stream",
     "text": [
      "Feature 1 is Size\n",
      "Feature 2 is Overall_fit\n",
      "Feature 3 is Number_of_reviews\n",
      "Feature 4 is Type_of_Customer\n",
      "Feature 5 is Rented_for\n",
      "Feature 6 is Age\n",
      "Feature 7 is Dress_Style\n",
      "Feature 8 is Neckline\n",
      "Feature 9 is Weight\n",
      "Feature 10 is BMI\n"
     ]
    }
   ],
   "source": [
    "for i in range(10):\n",
    "    X = df[features]\n",
    "    y=df[target]\n",
    "    from sklearn.ensemble import AdaBoostClassifier\n",
    "    model = AdaBoostClassifier(n_estimators=1)\n",
    "    model.fit(X,y)\n",
    "    important_feature = X.columns[model.feature_importances_.argmax()]\n",
    "    print(f\"Feature {i + 1} is {important_feature}\")\n",
    "    features.remove(important_feature)\n",
    "    imp_feat_ADA_boost.append(important_feature)"
   ]
  },
  {
   "cell_type": "code",
   "execution_count": 23,
   "id": "04fc3005",
   "metadata": {},
   "outputs": [],
   "source": [
    "#Join Two lists together and take out repeats. \n",
    "all_important_features = imp_feat_chi_squared + imp_feat_ADA_boost"
   ]
  },
  {
   "cell_type": "code",
   "execution_count": 24,
   "id": "71d46548",
   "metadata": {},
   "outputs": [],
   "source": [
    "all_important_features = list(set(all_important_features))"
   ]
  },
  {
   "cell_type": "code",
   "execution_count": 27,
   "id": "f457a5e9",
   "metadata": {},
   "outputs": [
    {
     "name": "stdout",
     "output_type": "stream",
     "text": [
      "Important features:\n",
      "Feature 1 is Dress_Style\n",
      "Feature 2 is Size\n",
      "Feature 3 is Age\n",
      "Feature 4 is Overall_fit\n",
      "Feature 5 is Type_of_Customer\n",
      "Feature 6 is Brand\n",
      "Feature 7 is BMI\n",
      "Feature 8 is Rented_for\n",
      "Feature 9 is Weight\n",
      "Feature 10 is Neckline\n",
      "Feature 11 is Date\n",
      "Feature 12 is Number_of_reviews\n"
     ]
    }
   ],
   "source": [
    "print(\"Important features:\")\n",
    "for i in range(len(all_important_features)):\n",
    "    print(f\"Feature {i + 1} is {all_important_features[i]}\")"
   ]
  },
  {
   "cell_type": "code",
   "execution_count": null,
   "id": "8d164b76",
   "metadata": {},
   "outputs": [],
   "source": []
  }
 ],
 "metadata": {
  "kernelspec": {
   "display_name": "Python 3 (ipykernel)",
   "language": "python",
   "name": "python3"
  },
  "language_info": {
   "codemirror_mode": {
    "name": "ipython",
    "version": 3
   },
   "file_extension": ".py",
   "mimetype": "text/x-python",
   "name": "python",
   "nbconvert_exporter": "python",
   "pygments_lexer": "ipython3",
   "version": "3.9.11"
  }
 },
 "nbformat": 4,
 "nbformat_minor": 5
}
