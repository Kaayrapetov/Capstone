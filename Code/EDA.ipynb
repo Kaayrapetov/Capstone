{
 "cells": [
  {
   "cell_type": "markdown",
   "id": "04a40674",
   "metadata": {},
   "source": [
    "1. Figure out how many brands there are\n",
    "2. Figure out how many dresses there are\n",
    "3. Figure out how many unique customers there are \n",
    "4. For the following features describing customers, figure out distribution, histogram and boxplot. \n",
    "    Age, Height, Weight, Size, Body Type,  Rented_for\n",
    "5. For the garment features describing dresses, figure out  distribution, histogram and boxplot. \n",
    "   Retail_Price, Rent_Price, Sleeves, Neckline, Dress_Style \n",
    "6. Satisfaction distribution. \n",
    "7. Rented_for and satisfaction, Dress_Style and Satisfaction \n",
    "8. Body Type versus Dress Style, Age versus Dress Style, Height versus Dress Style, Rented for versus Dress Style \n",
    "9. Figure out a way to present fabric of the garment. "
   ]
  }
 ],
 "metadata": {
  "kernelspec": {
   "display_name": "Python 3 (ipykernel)",
   "language": "python",
   "name": "python3"
  },
  "language_info": {
   "codemirror_mode": {
    "name": "ipython",
    "version": 3
   },
   "file_extension": ".py",
   "mimetype": "text/x-python",
   "name": "python",
   "nbconvert_exporter": "python",
   "pygments_lexer": "ipython3",
   "version": "3.9.11"
  }
 },
 "nbformat": 4,
 "nbformat_minor": 5
}
