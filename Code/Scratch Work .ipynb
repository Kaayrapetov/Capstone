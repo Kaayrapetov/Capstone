{
 "cells": [
  {
   "cell_type": "code",
   "execution_count": 19,
   "id": "1ccaeb74",
   "metadata": {},
   "outputs": [],
   "source": [
    "import pandas as pd\n",
    "import matplotlib.pyplot as plt\n",
    "import re\n",
    "pd.set_option(\"display.max_columns\",None)\n",
    "pd.set_option(\"display.max_rows\",None)\n",
    "import numpy as np "
   ]
  },
  {
   "cell_type": "code",
   "execution_count": 25,
   "id": "ef40dc2c",
   "metadata": {},
   "outputs": [],
   "source": [
    "import seaborn as sns"
   ]
  },
  {
   "cell_type": "code",
   "execution_count": 5,
   "id": "956b44a8",
   "metadata": {},
   "outputs": [],
   "source": [
    "from collections import Counter\n",
    "from sklearn.datasets import make_classification\n",
    "from imblearn.over_sampling import RandomOverSampler"
   ]
  },
  {
   "cell_type": "code",
   "execution_count": 6,
   "id": "c6846734",
   "metadata": {},
   "outputs": [],
   "source": [
    "X, y = make_classification(n_samples=10000, weights=[0.99], flip_y=0)"
   ]
  },
  {
   "cell_type": "code",
   "execution_count": 8,
   "id": "5c956b77",
   "metadata": {},
   "outputs": [
    {
     "name": "stdout",
     "output_type": "stream",
     "text": [
      "Counter({0: 9900, 1: 100})\n"
     ]
    }
   ],
   "source": [
    "# summarize class distribution\n",
    "print(Counter(y))"
   ]
  },
  {
   "cell_type": "code",
   "execution_count": 9,
   "id": "9f67cef0",
   "metadata": {},
   "outputs": [],
   "source": [
    "# define oversampling strategy\n",
    "oversample = RandomOverSampler(sampling_strategy='minority')"
   ]
  },
  {
   "cell_type": "code",
   "execution_count": 10,
   "id": "7917afbf",
   "metadata": {},
   "outputs": [],
   "source": [
    "X_over, y_over = oversample.fit_resample(X, y)"
   ]
  },
  {
   "cell_type": "code",
   "execution_count": 11,
   "id": "5ea242d9",
   "metadata": {},
   "outputs": [
    {
     "name": "stdout",
     "output_type": "stream",
     "text": [
      "Counter({0: 9900, 1: 9900})\n"
     ]
    }
   ],
   "source": [
    "# summarize class distribution\n",
    "print(Counter(y_over))"
   ]
  },
  {
   "cell_type": "code",
   "execution_count": 12,
   "id": "1d05d5f3",
   "metadata": {},
   "outputs": [],
   "source": [
    "oversample_50 = RandomOverSampler(sampling_strategy=0.5)"
   ]
  },
  {
   "cell_type": "code",
   "execution_count": 16,
   "id": "0c10865d",
   "metadata": {},
   "outputs": [],
   "source": [
    "X_over_50, y_over_50 = oversample_50.fit_resample(X, y)"
   ]
  },
  {
   "cell_type": "code",
   "execution_count": 17,
   "id": "2bb5acef",
   "metadata": {},
   "outputs": [
    {
     "name": "stdout",
     "output_type": "stream",
     "text": [
      "Counter({0: 9900, 1: 4950})\n"
     ]
    }
   ],
   "source": [
    "print(Counter(y_over_50))"
   ]
  },
  {
   "cell_type": "code",
   "execution_count": 22,
   "id": "22113524",
   "metadata": {},
   "outputs": [],
   "source": [
    "df = pd.DataFrame(\n",
    "np.random.rand(100,3), columns = [f\"f_{i}\" for i in range(1,4)]\n",
    "\n",
    ")"
   ]
  },
  {
   "cell_type": "code",
   "execution_count": 35,
   "id": "30639d22",
   "metadata": {},
   "outputs": [],
   "source": [
    "df = pd.read_csv(\"../Data/df_valid_fashion.csv\")"
   ]
  },
  {
   "cell_type": "code",
   "execution_count": 36,
   "id": "ac401617",
   "metadata": {},
   "outputs": [
    {
     "data": {
      "text/plain": [
       "Index(['Label', 'Size', 'Overall_fit', 'Rented_for', 'Size_usually_worn',\n",
       "       'Height', 'Age', 'Bust_size', 'Body_type', 'Weight', 'Rating', 'Date',\n",
       "       'Rent_price', 'Product_details', 'Number_of_reviews', 'Sleeves',\n",
       "       'Neckline', 'Dress_Style', 'BMI'],\n",
       "      dtype='object')"
      ]
     },
     "execution_count": 36,
     "metadata": {},
     "output_type": "execute_result"
    }
   ],
   "source": [
    "df.columns"
   ]
  },
  {
   "cell_type": "code",
   "execution_count": 37,
   "id": "57f9eae6",
   "metadata": {},
   "outputs": [],
   "source": [
    "num_columns = ['Height', 'Age','Weight','Number_of_reviews','Rent_price']\n",
    "for column in num_columns: \n",
    "    df[f\"{column}_binned\"] = pd.qcut(x = df[column], q = 10, labels=False, retbins=False, precision=3, duplicates='drop')"
   ]
  },
  {
   "cell_type": "code",
   "execution_count": 39,
   "id": "030c0509",
   "metadata": {},
   "outputs": [],
   "source": []
  },
  {
   "cell_type": "code",
   "execution_count": 40,
   "id": "381e595b",
   "metadata": {},
   "outputs": [
    {
     "data": {
      "text/html": [
       "<div>\n",
       "<style scoped>\n",
       "    .dataframe tbody tr th:only-of-type {\n",
       "        vertical-align: middle;\n",
       "    }\n",
       "\n",
       "    .dataframe tbody tr th {\n",
       "        vertical-align: top;\n",
       "    }\n",
       "\n",
       "    .dataframe thead th {\n",
       "        text-align: right;\n",
       "    }\n",
       "</style>\n",
       "<table border=\"1\" class=\"dataframe\">\n",
       "  <thead>\n",
       "    <tr style=\"text-align: right;\">\n",
       "      <th></th>\n",
       "      <th>Label</th>\n",
       "      <th>Size</th>\n",
       "      <th>Overall_fit</th>\n",
       "      <th>Rented_for</th>\n",
       "      <th>Size_usually_worn</th>\n",
       "      <th>Height</th>\n",
       "      <th>Age</th>\n",
       "      <th>Bust_size</th>\n",
       "      <th>Body_type</th>\n",
       "      <th>Weight</th>\n",
       "      <th>Rating</th>\n",
       "      <th>Date</th>\n",
       "      <th>Rent_price</th>\n",
       "      <th>Product_details</th>\n",
       "      <th>Number_of_reviews</th>\n",
       "      <th>Sleeves</th>\n",
       "      <th>Neckline</th>\n",
       "      <th>Dress_Style</th>\n",
       "      <th>BMI</th>\n",
       "      <th>Height_binned</th>\n",
       "      <th>Age_binned</th>\n",
       "      <th>Weight_binned</th>\n",
       "      <th>Number_of_reviews_binned</th>\n",
       "      <th>Rent_price_binned</th>\n",
       "    </tr>\n",
       "  </thead>\n",
       "  <tbody>\n",
       "    <tr>\n",
       "      <th>0</th>\n",
       "      <td>unknown</td>\n",
       "      <td>2</td>\n",
       "      <td>unknown</td>\n",
       "      <td>Wedding</td>\n",
       "      <td>2</td>\n",
       "      <td>64</td>\n",
       "      <td>28</td>\n",
       "      <td>34C</td>\n",
       "      <td>athletic</td>\n",
       "      <td>140</td>\n",
       "      <td>0</td>\n",
       "      <td>fall</td>\n",
       "      <td>41</td>\n",
       "      <td>gown. cap sleeves. off the shoulder neckline. ...</td>\n",
       "      <td>274</td>\n",
       "      <td>cap_sleeves</td>\n",
       "      <td>off_shoulder</td>\n",
       "      <td>gown</td>\n",
       "      <td>24.028320</td>\n",
       "      <td>2</td>\n",
       "      <td>0</td>\n",
       "      <td>4</td>\n",
       "      <td>9</td>\n",
       "      <td>1</td>\n",
       "    </tr>\n",
       "    <tr>\n",
       "      <th>1</th>\n",
       "      <td>TOP CONTRIBUTOR</td>\n",
       "      <td>unknown</td>\n",
       "      <td>unknown</td>\n",
       "      <td>Wedding</td>\n",
       "      <td>4</td>\n",
       "      <td>67</td>\n",
       "      <td>36</td>\n",
       "      <td>34A</td>\n",
       "      <td>athletic</td>\n",
       "      <td>135</td>\n",
       "      <td>0</td>\n",
       "      <td>summer</td>\n",
       "      <td>41</td>\n",
       "      <td>gown. sleeveless. v- neckline. hidden back zip...</td>\n",
       "      <td>152</td>\n",
       "      <td>sleeveless</td>\n",
       "      <td>v_neckline</td>\n",
       "      <td>gown</td>\n",
       "      <td>21.141680</td>\n",
       "      <td>5</td>\n",
       "      <td>4</td>\n",
       "      <td>3</td>\n",
       "      <td>8</td>\n",
       "      <td>1</td>\n",
       "    </tr>\n",
       "    <tr>\n",
       "      <th>2</th>\n",
       "      <td>TOP CONTRIBUTOR</td>\n",
       "      <td>6</td>\n",
       "      <td>unknown</td>\n",
       "      <td>Wedding</td>\n",
       "      <td>6</td>\n",
       "      <td>65</td>\n",
       "      <td>58</td>\n",
       "      <td>36D</td>\n",
       "      <td>fullbust</td>\n",
       "      <td>147</td>\n",
       "      <td>0</td>\n",
       "      <td>fall</td>\n",
       "      <td>57</td>\n",
       "      <td>three quarter sleeves. crew neckline. high low...</td>\n",
       "      <td>178</td>\n",
       "      <td>three_quarter_sleeves</td>\n",
       "      <td>crew_neckline</td>\n",
       "      <td>other</td>\n",
       "      <td>24.459408</td>\n",
       "      <td>3</td>\n",
       "      <td>9</td>\n",
       "      <td>6</td>\n",
       "      <td>9</td>\n",
       "      <td>3</td>\n",
       "    </tr>\n",
       "    <tr>\n",
       "      <th>3</th>\n",
       "      <td>TOP CONTRIBUTOR</td>\n",
       "      <td>2</td>\n",
       "      <td>Overall fit: True to Size</td>\n",
       "      <td>Date</td>\n",
       "      <td>2</td>\n",
       "      <td>64</td>\n",
       "      <td>39</td>\n",
       "      <td>32B</td>\n",
       "      <td>petite</td>\n",
       "      <td>125</td>\n",
       "      <td>0</td>\n",
       "      <td>winter</td>\n",
       "      <td>44</td>\n",
       "      <td>sheath. long sleeves. v-neckline. hidden back ...</td>\n",
       "      <td>64</td>\n",
       "      <td>long_sleeves</td>\n",
       "      <td>v_neckline</td>\n",
       "      <td>sheath</td>\n",
       "      <td>21.453857</td>\n",
       "      <td>2</td>\n",
       "      <td>5</td>\n",
       "      <td>1</td>\n",
       "      <td>5</td>\n",
       "      <td>2</td>\n",
       "    </tr>\n",
       "    <tr>\n",
       "      <th>4</th>\n",
       "      <td>TOP CONTRIBUTOR</td>\n",
       "      <td>M</td>\n",
       "      <td>Overall fit: Small</td>\n",
       "      <td>Party</td>\n",
       "      <td>6</td>\n",
       "      <td>67</td>\n",
       "      <td>31</td>\n",
       "      <td>30G</td>\n",
       "      <td>hourglass</td>\n",
       "      <td>135</td>\n",
       "      <td>0</td>\n",
       "      <td>summer</td>\n",
       "      <td>30</td>\n",
       "      <td>sheath. sleeveless. crew neckline. elastic wai...</td>\n",
       "      <td>28</td>\n",
       "      <td>sleeveless</td>\n",
       "      <td>crew_neckline</td>\n",
       "      <td>sheath</td>\n",
       "      <td>21.141680</td>\n",
       "      <td>5</td>\n",
       "      <td>2</td>\n",
       "      <td>3</td>\n",
       "      <td>1</td>\n",
       "      <td>0</td>\n",
       "    </tr>\n",
       "  </tbody>\n",
       "</table>\n",
       "</div>"
      ],
      "text/plain": [
       "             Label     Size                Overall_fit Rented_for  \\\n",
       "0          unknown        2                    unknown    Wedding   \n",
       "1  TOP CONTRIBUTOR  unknown                    unknown    Wedding   \n",
       "2  TOP CONTRIBUTOR        6                    unknown    Wedding   \n",
       "3  TOP CONTRIBUTOR        2  Overall fit: True to Size       Date   \n",
       "4  TOP CONTRIBUTOR        M         Overall fit: Small      Party   \n",
       "\n",
       "  Size_usually_worn  Height  Age Bust_size  Body_type  Weight  Rating    Date  \\\n",
       "0                 2      64   28       34C   athletic     140       0    fall   \n",
       "1                 4      67   36       34A   athletic     135       0  summer   \n",
       "2                 6      65   58       36D   fullbust     147       0    fall   \n",
       "3                 2      64   39       32B     petite     125       0  winter   \n",
       "4                 6      67   31       30G  hourglass     135       0  summer   \n",
       "\n",
       "   Rent_price                                    Product_details  \\\n",
       "0          41  gown. cap sleeves. off the shoulder neckline. ...   \n",
       "1          41  gown. sleeveless. v- neckline. hidden back zip...   \n",
       "2          57  three quarter sleeves. crew neckline. high low...   \n",
       "3          44  sheath. long sleeves. v-neckline. hidden back ...   \n",
       "4          30  sheath. sleeveless. crew neckline. elastic wai...   \n",
       "\n",
       "   Number_of_reviews                Sleeves       Neckline Dress_Style  \\\n",
       "0                274            cap_sleeves   off_shoulder        gown   \n",
       "1                152             sleeveless     v_neckline        gown   \n",
       "2                178  three_quarter_sleeves  crew_neckline       other   \n",
       "3                 64           long_sleeves     v_neckline      sheath   \n",
       "4                 28             sleeveless  crew_neckline      sheath   \n",
       "\n",
       "         BMI  Height_binned  Age_binned  Weight_binned  \\\n",
       "0  24.028320              2           0              4   \n",
       "1  21.141680              5           4              3   \n",
       "2  24.459408              3           9              6   \n",
       "3  21.453857              2           5              1   \n",
       "4  21.141680              5           2              3   \n",
       "\n",
       "   Number_of_reviews_binned  Rent_price_binned  \n",
       "0                         9                  1  \n",
       "1                         8                  1  \n",
       "2                         9                  3  \n",
       "3                         5                  2  \n",
       "4                         1                  0  "
      ]
     },
     "execution_count": 40,
     "metadata": {},
     "output_type": "execute_result"
    }
   ],
   "source": [
    "df.head()"
   ]
  },
  {
   "cell_type": "code",
   "execution_count": 27,
   "id": "db1a0acf",
   "metadata": {},
   "outputs": [],
   "source": [
    "df[\"f_bin_10\"] = pd.cut(df[\"f_1\"],bins=10,labels=False)"
   ]
  },
  {
   "cell_type": "code",
   "execution_count": 31,
   "id": "2ead33bc",
   "metadata": {},
   "outputs": [],
   "source": [
    "df[\"f_percentiles\"]= pd.qcut(x = df[\"f_1\"], q = 10, labels=False, retbins=False, precision=3, duplicates='raise')"
   ]
  },
  {
   "cell_type": "code",
   "execution_count": 33,
   "id": "f31d9a95",
   "metadata": {},
   "outputs": [
    {
     "data": {
      "text/plain": [
       "5    10\n",
       "3    10\n",
       "9    10\n",
       "6    10\n",
       "4    10\n",
       "8    10\n",
       "0    10\n",
       "1    10\n",
       "2    10\n",
       "7    10\n",
       "Name: f_percentiles, dtype: int64"
      ]
     },
     "execution_count": 33,
     "metadata": {},
     "output_type": "execute_result"
    }
   ],
   "source": [
    "df[\"f_percentiles\"].value_counts()"
   ]
  },
  {
   "cell_type": "code",
   "execution_count": 32,
   "id": "d422585b",
   "metadata": {},
   "outputs": [
    {
     "data": {
      "text/html": [
       "<div>\n",
       "<style scoped>\n",
       "    .dataframe tbody tr th:only-of-type {\n",
       "        vertical-align: middle;\n",
       "    }\n",
       "\n",
       "    .dataframe tbody tr th {\n",
       "        vertical-align: top;\n",
       "    }\n",
       "\n",
       "    .dataframe thead th {\n",
       "        text-align: right;\n",
       "    }\n",
       "</style>\n",
       "<table border=\"1\" class=\"dataframe\">\n",
       "  <thead>\n",
       "    <tr style=\"text-align: right;\">\n",
       "      <th></th>\n",
       "      <th>f_1</th>\n",
       "      <th>f_2</th>\n",
       "      <th>f_3</th>\n",
       "      <th>f_bin_10</th>\n",
       "      <th>f_percentiles</th>\n",
       "    </tr>\n",
       "  </thead>\n",
       "  <tbody>\n",
       "    <tr>\n",
       "      <th>0</th>\n",
       "      <td>0.445205</td>\n",
       "      <td>0.868333</td>\n",
       "      <td>0.625751</td>\n",
       "      <td>4</td>\n",
       "      <td>5</td>\n",
       "    </tr>\n",
       "    <tr>\n",
       "      <th>1</th>\n",
       "      <td>0.350947</td>\n",
       "      <td>0.708522</td>\n",
       "      <td>0.485793</td>\n",
       "      <td>3</td>\n",
       "      <td>3</td>\n",
       "    </tr>\n",
       "    <tr>\n",
       "      <th>2</th>\n",
       "      <td>0.952137</td>\n",
       "      <td>0.040405</td>\n",
       "      <td>0.183195</td>\n",
       "      <td>9</td>\n",
       "      <td>9</td>\n",
       "    </tr>\n",
       "    <tr>\n",
       "      <th>3</th>\n",
       "      <td>0.254967</td>\n",
       "      <td>0.532493</td>\n",
       "      <td>0.951965</td>\n",
       "      <td>2</td>\n",
       "      <td>3</td>\n",
       "    </tr>\n",
       "    <tr>\n",
       "      <th>4</th>\n",
       "      <td>0.600930</td>\n",
       "      <td>0.882011</td>\n",
       "      <td>0.987029</td>\n",
       "      <td>6</td>\n",
       "      <td>6</td>\n",
       "    </tr>\n",
       "  </tbody>\n",
       "</table>\n",
       "</div>"
      ],
      "text/plain": [
       "        f_1       f_2       f_3  f_bin_10  f_percentiles\n",
       "0  0.445205  0.868333  0.625751         4              5\n",
       "1  0.350947  0.708522  0.485793         3              3\n",
       "2  0.952137  0.040405  0.183195         9              9\n",
       "3  0.254967  0.532493  0.951965         2              3\n",
       "4  0.600930  0.882011  0.987029         6              6"
      ]
     },
     "execution_count": 32,
     "metadata": {},
     "output_type": "execute_result"
    }
   ],
   "source": [
    "df.head()"
   ]
  },
  {
   "cell_type": "code",
   "execution_count": 26,
   "id": "fd9f6ccd",
   "metadata": {},
   "outputs": [
    {
     "data": {
      "text/plain": [
       "<AxesSubplot:xlabel='f_1', ylabel='Count'>"
      ]
     },
     "execution_count": 26,
     "metadata": {},
     "output_type": "execute_result"
    },
    {
     "data": {
      "image/png": "[encoded data removed]",
      "text/plain": [
       "<Figure size 432x288 with 1 Axes>"
      ]
     },
     "metadata": {
      "needs_background": "light"
     },
     "output_type": "display_data"
    }
   ],
   "source": [
    "sns.histplot(data=df, x=\"f_1\",bins=50)"
   ]
  },
  {
   "cell_type": "code",
   "execution_count": null,
   "id": "72550b52",
   "metadata": {},
   "outputs": [],
   "source": []
  }
 ],
 "metadata": {
  "kernelspec": {
   "display_name": "Python 3 (ipykernel)",
   "language": "python",
   "name": "python3"
  },
  "language_info": {
   "codemirror_mode": {
    "name": "ipython",
    "version": 3
   },
   "file_extension": ".py",
   "mimetype": "text/x-python",
   "name": "python",
   "nbconvert_exporter": "python",
   "pygments_lexer": "ipython3",
   "version": "3.9.11"
  }
 },
 "nbformat": 4,
 "nbformat_minor": 5
}
