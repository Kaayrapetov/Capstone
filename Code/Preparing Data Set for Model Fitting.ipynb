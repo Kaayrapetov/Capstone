{
 "cells": [
  {
   "cell_type": "markdown",
   "id": "e0e01fd5",
   "metadata": {},
   "source": [
    "<img src=\"https://m1.quebecormedia.com/emp/emp/bender8175858f-7dbd-4927-85c5-85557e800b98_ORIGINAL.jpg?impolicy=crop-resize&x=0&y=0&w=1000&h=745&width=925&height=925\" style=\"float: left; margin: 30px; height: 75px\">\n",
    "\n",
    "# Predicting Customer Satisfaction on Rent the Runway\n",
    "\n",
    "## III. Modeling\n",
    "### Katrin Ayrapetov\n",
    "\n",
    "\n",
    "<font style=\"font-size: 2rem; color: blue\">\n",
    "\n",
    "\n",
    " \n",
    "</font>"
   ]
  },
  {
   "cell_type": "code",
   "execution_count": 1,
   "id": "db9f0369",
   "metadata": {},
   "outputs": [],
   "source": [
    "import pandas as pd\n",
    "import numpy as np\n",
    "import seaborn as sns\n",
    "import warnings\n",
    "warnings.filterwarnings('ignore')\n",
    "import os\n",
    "import gc\n",
    "import joblib\n",
    "import pandas as pd\n",
    "import numpy as np\n",
    "from sklearn import metrics, preprocessing\n",
    "from tensorflow.keras import layers\n",
    "from tensorflow.keras import optimizers\n",
    "from tensorflow.keras import callbacks\n",
    "from tensorflow.keras import backend as K\n",
    "from tensorflow.keras import utils"
   ]
  },
  {
   "cell_type": "code",
   "execution_count": 2,
   "id": "581db735",
   "metadata": {},
   "outputs": [],
   "source": [
    "import itertools\n",
    "from sklearn import model_selection\n",
    "from collections import Counter\n",
    "from sklearn.datasets import make_classification\n",
    "from imblearn.over_sampling import RandomOverSampler"
   ]
  },
  {
   "cell_type": "code",
   "execution_count": 3,
   "id": "4476bb81",
   "metadata": {},
   "outputs": [],
   "source": [
    "df =  pd.read_csv('../Data/df_clean.csv')"
   ]
  },
  {
   "cell_type": "code",
   "execution_count": 4,
   "id": "ec3edefb",
   "metadata": {},
   "outputs": [],
   "source": [
    "#Binarize the Predictor Variable: Satisfaction Rating \n",
    "# 1: Not Satisfied with Rental (Satisfaction Rating of 1,2,3) \n",
    "# 0: Satisfied with Rental (Satisfaction Rating 4,5)\n",
    "df['Rating'] = np.where(df['Rating'] <= 3, 1, 0)"
   ]
  },
  {
   "cell_type": "code",
   "execution_count": 5,
   "id": "b79f85cc",
   "metadata": {},
   "outputs": [
    {
     "data": {
      "text/plain": [
       "0    0.833589\n",
       "1    0.166411\n",
       "Name: Rating, dtype: float64"
      ]
     },
     "execution_count": 5,
     "metadata": {},
     "output_type": "execute_result"
    }
   ],
   "source": [
    "#We are dealing with an unbalanced class. \n",
    "df[\"Rating\"].value_counts(normalize=True)"
   ]
  },
  {
   "cell_type": "code",
   "execution_count": 6,
   "id": "69de0a57",
   "metadata": {},
   "outputs": [],
   "source": [
    "#df.drop[columns=[]]"
   ]
  },
  {
   "cell_type": "code",
   "execution_count": 7,
   "id": "6e5c4fbf",
   "metadata": {},
   "outputs": [],
   "source": [
    "#Create a target variable vector. \n",
    "y = df.Rating.values"
   ]
  },
  {
   "cell_type": "code",
   "execution_count": 8,
   "id": "8902f93e",
   "metadata": {},
   "outputs": [],
   "source": [
    "#initiate the kfold class from model_selection module\n",
    "#The folds are made by preserving the percentage of samples for each class.\n",
    "kf = model_selection.StratifiedKFold(n_splits=5)"
   ]
  },
  {
   "cell_type": "code",
   "execution_count": 9,
   "id": "03f10429",
   "metadata": {},
   "outputs": [],
   "source": [
    "#Create a column to hold kfold labels \n",
    "df[\"kfold\"] = -1"
   ]
  },
  {
   "cell_type": "code",
   "execution_count": 10,
   "id": "0241148f",
   "metadata": {},
   "outputs": [],
   "source": [
    "#Reshuffle the rows. \n",
    "df = df.sample(frac=1).reset_index(drop=True)"
   ]
  },
  {
   "cell_type": "code",
   "execution_count": 11,
   "id": "36146cce",
   "metadata": {},
   "outputs": [],
   "source": [
    "for f, (t_,v_) in enumerate(kf.split(X=df,y=y)):\n",
    "    df.loc[v_,\"kfold\"] = f"
   ]
  },
  {
   "cell_type": "code",
   "execution_count": 12,
   "id": "fa3c7104",
   "metadata": {},
   "outputs": [
    {
     "data": {
      "text/plain": [
       "0    32266\n",
       "1    32266\n",
       "2    32266\n",
       "3    32266\n",
       "4    32265\n",
       "Name: kfold, dtype: int64"
      ]
     },
     "execution_count": 12,
     "metadata": {},
     "output_type": "execute_result"
    }
   ],
   "source": [
    "#Check that the same number of observations is in each fold. \n",
    "df.kfold.value_counts()"
   ]
  },
  {
   "cell_type": "code",
   "execution_count": 13,
   "id": "2a757c41",
   "metadata": {},
   "outputs": [
    {
     "name": "stdout",
     "output_type": "stream",
     "text": [
      "fold: k = 0\n",
      "0    0.835276\n",
      "1    0.164724\n",
      "Name: Rating, dtype: float64\n",
      "fold: k = 1\n",
      "0    0.831711\n",
      "1    0.168289\n",
      "Name: Rating, dtype: float64\n",
      "fold: k = 2\n",
      "0    0.835276\n",
      "1    0.164724\n",
      "Name: Rating, dtype: float64\n",
      "fold: k = 3\n",
      "0    0.83354\n",
      "1    0.16646\n",
      "Name: Rating, dtype: float64\n",
      "fold: k = 4\n",
      "0    0.83214\n",
      "1    0.16786\n",
      "Name: Rating, dtype: float64\n"
     ]
    }
   ],
   "source": [
    "#Check that the target variable has the same distribution  the same in each fold. \n",
    "for k in range(5):\n",
    "    print(f\"fold: k = {k}\")\n",
    "    print(df[df.kfold==k].Rating.value_counts(normalize=True))\n",
    "    "
   ]
  },
  {
   "cell_type": "code",
   "execution_count": 14,
   "id": "21415bca",
   "metadata": {},
   "outputs": [],
   "source": [
    "#Drop the unnecessary columns \n",
    "df.drop(columns=[\"Brand\",\"Dress_Description\",\"Retail_price\",\"Details\"],inplace=True)\n",
    "df.dropna(inplace=True)"
   ]
  },
  {
   "cell_type": "code",
   "execution_count": 15,
   "id": "16772131",
   "metadata": {},
   "outputs": [],
   "source": [
    "df_train = df[df.kfold != 3].reset_index(drop=True)\n",
    "df_valid = df[df.kfold == 3].reset_index(drop=True)"
   ]
  },
  {
   "cell_type": "code",
   "execution_count": 16,
   "id": "bbe2baae",
   "metadata": {},
   "outputs": [],
   "source": [
    "df_train.drop(columns=[\"kfold\"],inplace=True)\n",
    "df_valid.drop(columns=[\"kfold\"],inplace=True)"
   ]
  },
  {
   "cell_type": "code",
   "execution_count": 17,
   "id": "448c4016",
   "metadata": {},
   "outputs": [],
   "source": [
    "#This is the train / test data sets for data as it is. \n",
    "df_train.to_csv('../Data/df_train_fashion.csv', header=True, index=False)\n",
    "df_valid.to_csv('../Data/df_valid_fashion.csv', header=True, index=False)"
   ]
  },
  {
   "cell_type": "code",
   "execution_count": 19,
   "id": "efc536d2",
   "metadata": {},
   "outputs": [],
   "source": [
    "#Try an oversampling technique on the training data set. \n",
    "#This would ensure that the minority class was oversampled to have half the number of examples as the majority class.\n",
    "# define oversampling strategy\n",
    "oversample_50 = RandomOverSampler(sampling_strategy=0.5)"
   ]
  },
  {
   "cell_type": "code",
   "execution_count": 20,
   "id": "c53d936d",
   "metadata": {},
   "outputs": [],
   "source": [
    "features = ['Label', 'Size', 'Overall_fit', 'Rented_for', 'Size_usually_worn',\n",
    "            'Height', 'Age', 'Bust_size', 'Body_type', 'Weight',  'Date',\n",
    "            'Rent_price', 'Number_of_reviews', 'Sleeves', 'Neckline', 'Dress_Style','BMI']\n",
    "target = ['Rating']"
   ]
  },
  {
   "cell_type": "code",
   "execution_count": 22,
   "id": "f7276b96",
   "metadata": {},
   "outputs": [],
   "source": [
    "# Split into test and train\n",
    "X_train = df_train[features]\n",
    "y_train = df_train[target].to_numpy()"
   ]
  },
  {
   "cell_type": "code",
   "execution_count": 26,
   "id": "f5d43397",
   "metadata": {},
   "outputs": [],
   "source": [
    "df_train = oversample_50.fit_resample(df_train,df_train.Rating)"
   ]
  },
  {
   "cell_type": "code",
   "execution_count": 27,
   "id": "c11f64dd",
   "metadata": {},
   "outputs": [],
   "source": [
    "X_over, y_over = oversample_50.fit_resample(X_train, y_train)"
   ]
  },
  {
   "cell_type": "code",
   "execution_count": 31,
   "id": "492d9a7b",
   "metadata": {},
   "outputs": [],
   "source": []
  },
  {
   "cell_type": "code",
   "execution_count": 33,
   "id": "2fb8e204",
   "metadata": {},
   "outputs": [],
   "source": [
    "y_over = pd.DataFrame(y_over)\n",
    "df_train_oversampled = pd.concat([X_over, y_over], axis=1)\n",
    "df_train_oversampled.rename(columns={0:'Rating'}, inplace=True)"
   ]
  },
  {
   "cell_type": "code",
   "execution_count": 44,
   "id": "c5cab93c",
   "metadata": {},
   "outputs": [
    {
     "data": {
      "text/plain": [
       "Index([            'Label',              'Size',       'Overall_fit',\n",
       "              'Rented_for', 'Size_usually_worn',            'Height',\n",
       "                     'Age',         'Bust_size',         'Body_type',\n",
       "                  'Weight',              'Date',        'Rent_price',\n",
       "       'Number_of_reviews',           'Sleeves',          'Neckline',\n",
       "             'Dress_Style',               'BMI',                   0],\n",
       "      dtype='object')"
      ]
     },
     "execution_count": 44,
     "metadata": {},
     "output_type": "execute_result"
    }
   ],
   "source": [
    "df_train_oversampled.columns"
   ]
  },
  {
   "cell_type": "code",
   "execution_count": 49,
   "id": "f1095aed",
   "metadata": {},
   "outputs": [],
   "source": [
    "df_train_oversampled.to_csv('../Data/df_train_fashion_oversampled.csv', header=True, index=False)"
   ]
  },
  {
   "cell_type": "code",
   "execution_count": null,
   "id": "9ba8830f",
   "metadata": {},
   "outputs": [],
   "source": []
  }
 ],
 "metadata": {
  "kernelspec": {
   "display_name": "Python 3 (ipykernel)",
   "language": "python",
   "name": "python3"
  },
  "language_info": {
   "codemirror_mode": {
    "name": "ipython",
    "version": 3
   },
   "file_extension": ".py",
   "mimetype": "text/x-python",
   "name": "python",
   "nbconvert_exporter": "python",
   "pygments_lexer": "ipython3",
   "version": "3.9.11"
  }
 },
 "nbformat": 4,
 "nbformat_minor": 5
}
