{
 "cells": [
  {
   "cell_type": "markdown",
   "id": "bfcd88a2",
   "metadata": {},
   "source": [
    "\n",
    "# Predicting Customer Satisfaction on Rent the Runway\n",
    "\n",
    "##  II. Data Cleaning for Garment Data \n",
    "### Katrin Ayrapetov\n",
    "\n",
    "\n",
    "<font style=\"font-size: 2rem; color: blue\">\n",
    "\n",
    "\n",
    " \n",
    "</font>"
   ]
  },
  {
   "cell_type": "code",
   "execution_count": 1,
   "id": "1bb83611",
   "metadata": {},
   "outputs": [],
   "source": [
    "#Import the libraries needed\n",
    "import pandas as pd\n",
    "import matplotlib.pyplot as plt\n",
    "import re\n",
    "pd.set_option(\"display.max_columns\",None)\n",
    "pd.set_option(\"display.max_rows\",None)"
   ]
  },
  {
   "cell_type": "code",
   "execution_count": 2,
   "id": "33801aee",
   "metadata": {},
   "outputs": [],
   "source": [
    "#Import the Data Set \n",
    "df =  pd.read_csv('../Data/df_customer_data_cleaned.csv')"
   ]
  },
  {
   "cell_type": "code",
   "execution_count": 3,
   "id": "c98816d7",
   "metadata": {},
   "outputs": [
    {
     "data": {
      "text/plain": [
       "[1, 45, 200, 1100, 6565, 7500]"
      ]
     },
     "execution_count": 3,
     "metadata": {},
     "output_type": "execute_result"
    }
   ],
   "source": [
    "#Create a checklist which will be used to make sure the cleaning is fone correctly. \n",
    "check_list=[1,45,200,1100,6565,7500]\n",
    "check_list"
   ]
  },
  {
   "cell_type": "code",
   "execution_count": 4,
   "id": "aa1fbb0e",
   "metadata": {},
   "outputs": [
    {
     "name": "stdout",
     "output_type": "stream",
     "text": [
      "The data frame has 161418 observations. There are 0 nulls for the Number_of_reviews feature. \n",
      "33 reviews\n",
      "97 reviews\n",
      "118 reviews\n",
      "64 reviews\n",
      "9 reviews\n",
      "62 reviews\n",
      "33\n",
      "97\n",
      "118\n",
      "64\n",
      "9\n",
      "62\n"
     ]
    }
   ],
   "source": [
    "#The number of Review features convert to just an integer\n",
    "print(f\"The data frame has {df.shape[0]} observations. There are {df.Number_of_reviews.isna().sum()} nulls for the Number_of_reviews feature. \")\n",
    "for i in check_list:\n",
    "    print(df[\"Number_of_reviews\"][i])\n",
    "#Get rid of unnecessary characters in some entries. \n",
    "df[\"Number_of_reviews\"]=df[\"Number_of_reviews\"].replace(\" reviews\",\"\", regex=True).replace(\" review\",\"\", regex=True)\n",
    "\n",
    "for i in check_list:\n",
    "    print(df[\"Number_of_reviews\"][i])\n",
    "\n",
    "df[\"Number_of_reviews\"]=df[\"Number_of_reviews\"].astype(\"int\")\n"
   ]
  },
  {
   "cell_type": "code",
   "execution_count": 5,
   "id": "06cc611e",
   "metadata": {},
   "outputs": [],
   "source": [
    "#Drop the nulls in the Retail Price area. \n",
    "df.dropna(subset=['Retail_price'],inplace=True)\n",
    "df = df.reset_index()\n",
    "df.drop(columns=[\"index\"],inplace=True)"
   ]
  },
  {
   "cell_type": "code",
   "execution_count": 6,
   "id": "690336d3",
   "metadata": {},
   "outputs": [
    {
     "name": "stdout",
     "output_type": "stream",
     "text": [
      "The data frame has 161329 observations. There are 0 nulls for the Retail_price feature. \n",
      "$478 original retail\n",
      "$495 original retail\n",
      "$230 original retail\n",
      "$330 original retail\n",
      "$317 original retail\n",
      "$395 original retail\n",
      "478\n",
      "495\n",
      "230\n",
      "330\n",
      "317\n",
      "395\n"
     ]
    }
   ],
   "source": [
    "#Convert the Retail Price feature to just an integer. \n",
    "print(f\"The data frame has {df.shape[0]} observations. There are {df.Retail_price.isna().sum()} nulls for the Retail_price feature. \")\n",
    "df.Retail_price.value_counts();\n",
    "df[\"Retail_price\"]=df[\"Retail_price\"].replace(\",\",\"\", regex=True)\n",
    "#This is a test to make sure that the dollar amounts were converted correctly. \n",
    "for i in check_list:\n",
    "    print(df[\"Retail_price\"][i])\n",
    "df[\"Retail_price\"] = df[\"Retail_price\"].str.extract(r\"(\\d+)\",expand=True)\n",
    "for i in check_list:\n",
    "    print(df[\"Retail_price\"][i])\n",
    "\n",
    "df[\"Retail_price\"]=df[\"Retail_price\"].astype(\"int\")"
   ]
  },
  {
   "cell_type": "code",
   "execution_count": 7,
   "id": "7a28ce7f",
   "metadata": {},
   "outputs": [
    {
     "name": "stdout",
     "output_type": "stream",
     "text": [
      "The data frame has 161329 observations. There are 0 nulls for the Rent_price feature. \n",
      "$70\n",
      "$68 – $78\n",
      "$32 – $42\n",
      "$30 – $44\n",
      "$32 – $42\n",
      "$45 – $60\n",
      "70\n",
      "68\n",
      "32\n",
      "30\n",
      "32\n",
      "45\n"
     ]
    }
   ],
   "source": [
    "#Convert the Rental Price Feature to just an integer\n",
    "print(f\"The data frame has {df.shape[0]} observations. There are {df.Rent_price.isna().sum()} nulls for the Rent_price feature. \")\n",
    "df[\"Rent_price\"]=df[\"Rent_price\"].replace(\",\",\"\", regex=True)\n",
    "#This is a test to make sure that the dollar amounts were converted correctly. \n",
    "for i in check_list:\n",
    "    print(df[\"Rent_price\"][i])\n",
    "df[\"Rent_price\"] = df[\"Rent_price\"].str.extract(r\"(\\d+)\",expand=True)\n",
    "for i in check_list:\n",
    "    print(df[\"Rent_price\"][i])\n",
    "df[\"Rent_price\"]=df[\"Rent_price\"].astype(\"int\")"
   ]
  },
  {
   "cell_type": "code",
   "execution_count": 8,
   "id": "287f1013",
   "metadata": {},
   "outputs": [],
   "source": [
    "#Fix Typos in the Product Detail \n",
    "df[\"Product_details\"]=df[\"Product_details\"].replace(\"sleeve slit\",\"\", regex=True)\n",
    "df[\"Product_details\"]=df[\"Product_details\"].replace(\"sleees\",\"sleeves\", regex=True)\n",
    "df[\"Product_details\"]=df[\"Product_details\"].replace(\"sleves\",\"sleeves\", regex=True)\n",
    "df[\"Product_details\"]=df[\"Product_details\"].replace(\"necline\",\"neckline\", regex=True)\n",
    "df[\"Product_details\"]=df[\"Product_details\"].replace(\"slevees\",\"sleeves\", regex=True)\n"
   ]
  },
  {
   "cell_type": "code",
   "execution_count": 9,
   "id": "f60f096b",
   "metadata": {},
   "outputs": [],
   "source": [
    "#Fill in values without product descriptions by hand. \n",
    "for i in range(df.shape[0]):\n",
    "    if \"Victor Alfaro Collective\" in df[\"Brand\"][i] and \"Tea Length Shirtdress\" in df[\"Dress_Description\"][i]:\n",
    "         df.at[i, \"Product_details\"] = \"Shirtdress. three_quarter_sleeves. shirt_collar_neckline\"\n",
    "    if \"Nicole Miller\" in df[\"Brand\"][i] and \"Velvet Mini Dress\" in df[\"Dress_Description\"][i]:       \n",
    "        df.at[i, \"Product_details\"] = \"sheath. high neckline. long sleeves\"\n",
    "    if \"Adam Lippes Collective\" in df[\"Brand\"][i] and \"Birds of Prey Dress\" in df[\"Dress_Description\"][i]:       \n",
    "        df.at[i, \"Product_details\"] = \"hourglass.crew neckline. short sleeves\"\n",
    "    if \"Area Stars\" in df[\"Brand\"][i] and \"Lara Leopard Print Dress\" in df[\"Dress_Description\"][i]:       \n",
    "        df.at[i, \"Product_details\"] = \"maxi.v-neckline. short sleeves\"\n",
    "    if \"Tibi\" in df[\"Brand\"][i] and \"Rolled Sleeve Shirtdress\" in df[\"Dress_Description\"][i]:       \n",
    "        df.at[i, \"Product_details\"] = \"shirt dress. collared neckline.  short sleeves\" \n",
    "    if \"Jonathan Simkhai\" in df[\"Brand\"][i] and \"Lucy Cutout Midi Dress\" in df[\"Dress_Description\"][i]:       \n",
    "        df.at[i, \"Product_details\"] = \"sheath. straight neckling. sleeveless\"   \n",
    "    if \"AllSaints\" in df[\"Brand\"][i] and \"Juela Dress\" in df[\"Dress_Description\"][i]:       \n",
    "        df.at[i, \"Product_details\"] = \"shift dress. mock neck. long sleeves.\"   \n",
    "    if \"AllSaints\" in df[\"Brand\"][i] and \"Rosetta Tinsel Dress\" in df[\"Dress_Description\"][i]:       \n",
    "        df.at[i, \"Product_details\"] = \"maxi. crew neck. long sleeves.\"     \n"
   ]
  },
  {
   "cell_type": "code",
   "execution_count": 10,
   "id": "afe1f803",
   "metadata": {},
   "outputs": [],
   "source": [
    "#The fabric content of the garment is given inside parenthesis ()\n",
    "#Remove the text up to the first closed parentheses to get rid of the fabric content \n",
    "parentheses = df[\"Product_details\"][0][54]\n",
    "for i in range(df.shape[0]):\n",
    "    df.at[i, \"Product_details\"] = df[\"Product_details\"][i][df[\"Product_details\"][i].find(parentheses):]\n",
    "    df.at[i, \"Product_details\"]= df[\"Product_details\"][i].lower()\n",
    "df[\"Product_details\"]=df[\"Product_details\"].replace(\"\\). \",\"\", regex=True)\n",
    "df[\"Product_details\"]=df[\"Product_details\"].replace(\"\\) . \",\"\", regex=True)\n",
    "df[\"Product_details\"]=df[\"Product_details\"].replace(\"\\) \",\"\", regex=True)\n",
    "\n"
   ]
  },
  {
   "cell_type": "code",
   "execution_count": 11,
   "id": "8a7ce681",
   "metadata": {},
   "outputs": [],
   "source": [
    "#Break up the garment description into a list and call it \"Details\". \n",
    "#df[\"Details\"][i][0] = style of garment \n",
    "#df[\"Details\"][i][2] = style of sleeves\n",
    "#df[\"Details\"][i][3] = neckline \n",
    "#df[\"Details\"][i][4] = length \n",
    "#df[\"Details\"][i][5] = Imported or domestic\n",
    "df[\"Details\"] = \"unknown\" \n",
    "df[\"Details\"] = df[\"Details\"].astype('object')\n",
    "for i in range(df.shape[0]):\n",
    "    x = df[\"Product_details\"][i].split(\". \")\n",
    "    df.at[i, 'Details'] = x"
   ]
  },
  {
   "cell_type": "code",
   "execution_count": 12,
   "id": "4fa59c78",
   "metadata": {},
   "outputs": [],
   "source": [
    "#These descriptions do not add to the features. Remove them from the List of descriptions. \n",
    "list_of_removal_words = ['fitted envelope skirt', 'low back', 'full pleated skirt',\n",
    "       'open back with button closure', 'ruching waist',\n",
    "       '\\nlace detail at hem', 'fitted bodice with scalloped hemline',\n",
    "       'sheer bodice', 'beaded waist', 'lined', 'full hi lo skirt',\n",
    "       'open back', 'illusion with black and white overlay lace',\n",
    "       'pencil skirt with ruching at waist',\n",
    "       'pencil skirt with flounce ruffled hem',\n",
    "       'straight skirt with mesh insert at waist',\n",
    "       'pencil skirt with ruching detail', 'trumpet skirt',\n",
    "       'ruched bodice with draping detail on back',\n",
    "       'side and back cut out detail', 'draped back', 'straight', 'v-back',\n",
    "       'buttons and hidden back zipper with hook-and-eye closure',\n",
    "       'straight skirt with back slit', 'full hi-low skirt',\n",
    "       'full floral skirt', 'back cut out', 'back zipper closure',\n",
    "       'lace detail at hem', '33\" from bust to hemline',\n",
    "       'fitted tea length skirt',\n",
    "       'straight skirt with side ruching and front slit',\n",
    "       'combo (100% polyestercolumn', 'elastic waistband with drawstring',\n",
    "       'top', 'lining: 100% polyester',\n",
    "       'back zipper with hook-and-eye closure', \n",
    "       'hidden center back zipper closure', '36\" from shoulder to hemline',\n",
    "       'fit-and-flare', 'blouse', 'contrast, 100% wool',\n",
    "       'exposed front button down placket', 'side zipper closure', 'pull-on',\n",
    "       'center back zipper closure', 'high low hemline',\n",
    "       'sequin coloration may vary', 'sewn on rosette details',\n",
    "       'cutout at waist', 'off the shoulder', 'hidden side zipper',\n",
    "       '\\nhidden back zipper with hook-and-eye closure',\n",
    "       'hidden center back zipper', 'back zipper',\n",
    "       'step in and pull up in style', 'full tea length skirt',\n",
    "       'full trumpet skirt with illusion detail', 'high low',\n",
    "       'low back with cowl', 'exposed front button closures',\n",
    "       '40\" from shoulder to shortest hemline, 55\" from shoulder to longest hemline',\n",
    "       'tiered ruffle skirt with stripe detail',\n",
    "       'column skirt with front slit and cut-out at waist',\n",
    "       'v-back with hidden zipper.partially lined','45\" from shoulder to hemline','35.5\" from shoulder to hemline','made in the usa.', 'boned bodice', '40.5” from shoulder to hem.',\n",
    "       'asymmetric hem', 'v- back',\n",
    "       'hidden side zipper with hook-and-eye closure', 'hidden side zip',\n",
    "       '35\" from shoulder to hemline',\n",
    "       'hidden zipper at center back on bodice and skirt',\n",
    "       'visible back gold zipper', 'lace illusion', 'sequin bodice',\n",
    "       '34.5\" from shoulder to hemline', '42\" from shoulder to hemline',\n",
    "       'pockets', '', '33\" from shoulder to hemline',\n",
    "       'hidden zipper with hook-and-eye closure', '11.5\" slit',\n",
    "       '20.25\" from shoulder to hemline', '58\" from shoulder to hemline',\n",
    "       'hidden side pockets', 'hook-and-eye closure',\n",
    "       '35” from shoulder to hemline',\n",
    "       '34” from shoulder to shortest part of hemline, 44” from shoulder to longest part of hemline',\n",
    "       'column skirt', 'shoulder pads', '40” from shoulder to hem','40\" from neckline to hemline','39\" from neckline to hemline','48” from top of neckline to hem' ]"
   ]
  },
  {
   "cell_type": "code",
   "execution_count": 13,
   "id": "60c072c5",
   "metadata": {},
   "outputs": [],
   "source": [
    "# If the following words are present in a description, remove them. \n",
    "for k in range(df.shape[0]):\n",
    "    for i in range(len(df[\"Details\"][k])):\n",
    "        if str(df[\"Details\"][k][i]) in list_of_removal_words: \n",
    "                df[\"Details\"][k][i] = \"drop\"\n"
   ]
  },
  {
   "cell_type": "code",
   "execution_count": 14,
   "id": "fe3f4cc7",
   "metadata": {},
   "outputs": [],
   "source": [
    "#Clean the \"Description\" feature\n",
    "for k in range(df.shape[0]):\n",
    "    clean_list=[]\n",
    "    for i in range(len(df[\"Details\"][k])):\n",
    "        if df[\"Details\"][k][i] != \"drop\":\n",
    "            clean_list.append(df[\"Details\"][k][i])\n",
    "    df.at[k, 'Details'] = clean_list\n"
   ]
  },
  {
   "cell_type": "code",
   "execution_count": 15,
   "id": "b5ddfe68",
   "metadata": {},
   "outputs": [],
   "source": [
    "#This extracts the sleeve description from the item description. \n",
    "df[\"Sleeves\"] = 1\n",
    "df[\"Sleeves\"] = df[\"Sleeves\"].astype('object')\n",
    "for i in range(df.shape[0]):\n",
    "    for k in reversed(range(len(df[\"Details\"][i]))):\n",
    "        if \"sleev\" in df[\"Details\"][i][k].lower() or \"strapless\" in df[\"Details\"][i][k].lower() or \"halter\" in df[\"Details\"][i][k].lower():\n",
    "            df.at[i, \"Sleeves\"] = df[\"Details\"][i][k].lower()\n",
    "            "
   ]
  },
  {
   "cell_type": "code",
   "execution_count": 16,
   "id": "250a07d2",
   "metadata": {},
   "outputs": [],
   "source": [
    "#Clean up the typos in the Sleeve Feature \n",
    "for i in range(df.shape[0]):\n",
    "    if \"sleeveless\" in str(df[\"Sleeves\"][i]) or \"sleevleess\" in str(df[\"Sleeves\"][i]) or \"sleevess\" in str(df[\"Sleeves\"][i]) or \"sleevelss\" in str(df[\"Sleeves\"][i]) or \"sleevless\" in str(df[\"Sleeves\"][i]):\n",
    "        df.at[i, \"Sleeves\"] = \"sleeveless\"\n",
    "    elif \"quarter\" in str(df[\"Sleeves\"][i]) or \"3/4\" in str(df[\"Sleeves\"][i]) or \"¾\" in str(df[\"Sleeves\"][i]):\n",
    "        df.at[i, \"Sleeves\"] = \"three_quarter_sleeves\"\n",
    "    elif \"short\" in str(df[\"Sleeves\"][i]):\n",
    "        df.at[i, \"Sleeves\"] = \"short_sleeves\"\n",
    "    elif \"long\" in str(df[\"Sleeves\"][i]):\n",
    "        df.at[i, \"Sleeves\"] = \"long_sleeves\"    \n",
    "    elif \"cap\" in str(df[\"Sleeves\"][i]):\n",
    "        df.at[i, \"Sleeves\"] = \"cap_sleeves\"   \n",
    "    elif \"flutter\" in str(df[\"Sleeves\"][i]):\n",
    "        df.at[i, \"Sleeves\"] = \"flutter_sleeves\"    \n",
    "    elif \"strapless\" in str(df[\"Sleeves\"][i]):\n",
    "        df.at[i, \"Sleeves\"] = \"strapless\"\n",
    "    elif \"elbow\" in str(df[\"Sleeves\"][i]):\n",
    "        df.at[i, \"Sleeves\"] = \"elbow_length_sleeve\"\n",
    "    elif \"halter\" in str(df[\"Sleeves\"][i]):\n",
    "        df.at[i, \"Sleeves\"] = \"sleeveless\"\n",
    "    elif \"off the shoulder neckline with ruffle detailing on sleeves\" in str(df[\"Sleeves\"][i]):\n",
    "        df.at[i, \"Sleeves\"] = \"short_sleeves\"   \n",
    "    elif \"three sleeves\" in str(df[\"Sleeves\"][i]):\n",
    "        df.at[i, \"Sleeves\"] = \"three_quarter_sleeves\" \n",
    "    "
   ]
  },
  {
   "cell_type": "code",
   "execution_count": 17,
   "id": "ef9a126e",
   "metadata": {},
   "outputs": [],
   "source": [
    "#These are the most frequently occuring sleeve types. So, keep them in the list. \n",
    "list_of_sleeves = ['sleeveless',\n",
    " 'long_sleeves',\n",
    " 'short_sleeves',\n",
    " 'three_quarter_sleeves',\n",
    " 'cap_sleeves',\n",
    " 'flutter_sleeves',\n",
    " 'strapless'] "
   ]
  },
  {
   "cell_type": "code",
   "execution_count": 18,
   "id": "f9e40fc3",
   "metadata": {},
   "outputs": [],
   "source": [
    "for i in range(df.shape[0]):\n",
    "    if str(df.at[i, \"Sleeves\"]) not in list_of_sleeves:\n",
    "        df.at[i, \"Sleeves\"] = \"other\""
   ]
  },
  {
   "cell_type": "code",
   "execution_count": 19,
   "id": "6de16cca",
   "metadata": {},
   "outputs": [
    {
     "data": {
      "text/plain": [
       "sleeveless               61680\n",
       "long_sleeves             36886\n",
       "short_sleeves            35681\n",
       "three_quarter_sleeves    12284\n",
       "cap_sleeves               6880\n",
       "flutter_sleeves           3759\n",
       "strapless                 3444\n",
       "other                      715\n",
       "Name: Sleeves, dtype: int64"
      ]
     },
     "execution_count": 19,
     "metadata": {},
     "output_type": "execute_result"
    }
   ],
   "source": [
    "#Final break down of \"Sleeves\"\n",
    "df.Sleeves.value_counts()"
   ]
  },
  {
   "cell_type": "code",
   "execution_count": 20,
   "id": "8e7a75e6",
   "metadata": {},
   "outputs": [],
   "source": [
    "#This extracts the Neckline description from the item description. \n",
    "df[\"Neckline\"] = 1\n",
    "df[\"Neckline\"] = df[\"Neckline\"].astype('object')\n",
    "for i in range(df.shape[0]):\n",
    "    for k in reversed(range(len(df[\"Details\"][i]))):\n",
    "        if \"neck\" in df[\"Details\"][i][k].lower() or \"shirt\" in df[\"Details\"][i][k].lower() or \"strapless\" in df[\"Details\"][i][k].lower() or \"collar\" in df[\"Details\"][i][k].lower() or \"one shoulder\" in df[\"Details\"][i][k].lower() or \"crew\" in df[\"Details\"][i][k].lower() or \"sweetheart\" in df[\"Details\"][i][k].lower() or \"scoop\" in df[\"Details\"][i][k].lower() or \"off the shoulder\" in df[\"Details\"][i][k].lower():\n",
    "            df.at[i, \"Neckline\"] = df[\"Details\"][i][k]\n",
    "            "
   ]
  },
  {
   "cell_type": "code",
   "execution_count": 21,
   "id": "a2453b63",
   "metadata": {},
   "outputs": [],
   "source": [
    "#Clean up the typos and redundant naming in the Neckline Feature \n",
    "for i in range(df.shape[0]):\n",
    "    if \"v\" in str(df[\"Neckline\"][i]):\n",
    "        df.at[i, \"Neckline\"] = \"v_neckline\"\n",
    "    elif \"mock\" in str(df[\"Neckline\"][i]):\n",
    "        df.at[i, \"Neckline\"] = \"mock_neckline\"\n",
    "    elif \"halter\" in str(df[\"Neckline\"][i]) or \"hater\" in str(df[\"Neckline\"][i]):\n",
    "        df.at[i, \"Neckline\"] = \"halter\"\n",
    "    elif \"high\" in str(df[\"Neckline\"][i]):\n",
    "        df.at[i, \"Neckline\"] = \"high_neckline\"\n",
    "    elif \"shoulder\" in str(df[\"Neckline\"][i]) or \"shoudler\" in str(df[\"Neckline\"][i]):\n",
    "        df.at[i, \"Neckline\"] = \"off_shoulder\"\n",
    "    elif \"shirt\" in str(df[\"Neckline\"][i]) or \"collar\" in str(df[\"Neckline\"][i]):\n",
    "        df.at[i, \"Neckline\"] = \"shirt_collar_neckline\"    \n",
    "    elif \"crew\" in str(df[\"Neckline\"][i]) :\n",
    "        df.at[i, \"Neckline\"] = \"crew_neckline\"     \n",
    "    elif \"sweetheart\" in str(df[\"Neckline\"][i]) :\n",
    "        df.at[i, \"Neckline\"] = \"sweetheart\"    \n",
    "    elif \"cowl\" in str(df[\"Neckline\"][i]) :\n",
    "        df.at[i, \"Neckline\"] = \"cowl_neckline\"    \n",
    "    elif \"back\" in str(df[\"Neckline\"][i]) :\n",
    "        df.at[i, \"Neckline\"] = \"back_necktie\" \n",
    "    elif \"square\" in str(df[\"Neckline\"][i]) :\n",
    "        df.at[i, \"Neckline\"] = \"square_neckline\" \n",
    "    elif \"scoop\" in str(df[\"Neckline\"][i]) :\n",
    "        df.at[i, \"Neckline\"] = \"scoop_neckline\" \n",
    "    elif \"tie\" in str(df[\"Neckline\"][i]) :\n",
    "        df.at[i, \"Neckline\"] = \"tie_neckline\" \n",
    "    elif \"turtle\" in str(df[\"Neckline\"][i]) :\n",
    "        df.at[i, \"Neckline\"] = \"turtleneck\"  \n",
    "    elif \"straight neckline\" in str(df[\"Neckline\"][i]) or \"strapless\" in str(df[\"Neckline\"][i]):\n",
    "        df.at[i, \"Neckline\"] = \"straight_neckline\" \n",
    "    elif \"boat\" in str(df[\"Neckline\"][i]) :\n",
    "        df.at[i, \"Neckline\"] = \"boat_neckline\" "
   ]
  },
  {
   "cell_type": "code",
   "execution_count": 22,
   "id": "22d0a10e",
   "metadata": {},
   "outputs": [],
   "source": [
    "#These are the most frequently occuring neckline types. So, keep them in the list. \n",
    "list_of_necklines = ['v_neckline',\n",
    " 'crew_neckline',\n",
    " 'square_neckline',\n",
    " 'high_neckline',\n",
    " 'off_shoulder',\n",
    " 'shirt_collar_neckline',\n",
    " 'scoop_neckline',\n",
    " 'sweetheart',\n",
    " 'boat_neckline',\n",
    " 'halter',\n",
    " 'straight_neckline',\n",
    " 'mock_neckline',\n",
    " 'cowl_neckline',\n",
    " 'turtleneck']"
   ]
  },
  {
   "cell_type": "code",
   "execution_count": 23,
   "id": "689d367a",
   "metadata": {},
   "outputs": [],
   "source": [
    "for i in range(df.shape[0]):\n",
    "    if str(df.at[i, \"Neckline\"]) not in list_of_necklines:\n",
    "        df.at[i, \"Neckline\"] = \"other\""
   ]
  },
  {
   "cell_type": "code",
   "execution_count": 24,
   "id": "5cdf0d61",
   "metadata": {},
   "outputs": [
    {
     "data": {
      "text/plain": [
       "v_neckline               54737\n",
       "crew_neckline            40606\n",
       "high_neckline            11256\n",
       "square_neckline          10035\n",
       "off_shoulder              9238\n",
       "shirt_collar_neckline     6075\n",
       "boat_neckline             5193\n",
       "scoop_neckline            5103\n",
       "sweetheart                5031\n",
       "halter                    4611\n",
       "straight_neckline         3593\n",
       "mock_neckline             2691\n",
       "other                     1347\n",
       "cowl_neckline             1017\n",
       "turtleneck                 796\n",
       "Name: Neckline, dtype: int64"
      ]
     },
     "execution_count": 24,
     "metadata": {},
     "output_type": "execute_result"
    }
   ],
   "source": [
    "#Final break down of the necklines \n",
    "df.Neckline.value_counts()"
   ]
  },
  {
   "cell_type": "code",
   "execution_count": 25,
   "id": "1bfc7986",
   "metadata": {},
   "outputs": [],
   "source": [
    "#This extracts the dress style description from the item description. \n",
    "df[\"Dress_Style\"] = 1\n",
    "df[\"Dress_Style\"] = df[\"Dress_Style\"].astype('object')\n",
    "            \n",
    "for i in range(df.shape[0]):\n",
    "    if len(df[\"Details\"][i])>0:\n",
    "        df.at[i, \"Dress_Style\"] = df[\"Details\"][i][0]"
   ]
  },
  {
   "cell_type": "code",
   "execution_count": 26,
   "id": "0e7f4ee1",
   "metadata": {},
   "outputs": [],
   "source": [
    "#Clean up the typos in the Dress Feature \n",
    "for i in range(df.shape[0]):\n",
    "    if \"hourglass\" in str(df[\"Dress_Style\"][i]) or \"hpurglass\" in str(df[\"Dress_Style\"][i]) or \"hourgless\" in str(df[\"Dress_Style\"][i]) or \"houseglass\" in str(df[\"Dress_Style\"][i]) or \"hourlgass\" in str(df[\"Dress_Style\"][i]):\n",
    "        df.at[i, \"Dress_Style\"] = \"hourglass\"\n",
    "    elif \"wrap\" in str(df[\"Dress_Style\"][i]):\n",
    "        df.at[i, \"Dress_Style\"] = \"wrap\"\n",
    "    elif \"maxi\" in str(df[\"Dress_Style\"][i]):\n",
    "        df.at[i, \"Dress_Style\"] = \"maxi\"\n",
    "    elif \"blouson\" in str(df[\"Dress_Style\"][i]) or \"blosuon\" in str(df[\"Dress_Style\"][i]):\n",
    "        df.at[i, \"Dress_Style\"] = \"blouson\"  \n",
    "    elif \"shirtdress\" in str(df[\"Dress_Style\"][i]) or \"shirt dress\" in str(df[\"Dress_Style\"][i]):\n",
    "        df.at[i, \"Dress_Style\"] = \"shirtdress\"   \n",
    "    elif \"sheath\" in str(df[\"Dress_Style\"][i]):\n",
    "        df.at[i, \"Dress_Style\"] = \"sheath\"   \n",
    "    elif \"a-line\" in str(df[\"Dress_Style\"][i]):\n",
    "        df.at[i, \"Dress_Style\"] = \"a-line\"  \n",
    "    elif \"empire\" in str(df[\"Dress_Style\"][i]):\n",
    "        df.at[i, \"Dress_Style\"] = \"empire_waist\"\n",
    "    elif \"gown\" in str(df[\"Dress_Style\"][i]):\n",
    "        df.at[i, \"Dress_Style\"] = \"gown\"    \n",
    "    elif \"shift\" in str(df[\"Dress_Style\"][i]):\n",
    "        df.at[i, \"Dress_Style\"] = \"shift\" \n",
    "    elif \"slip\" in str(df[\"Dress_Style\"][i]):\n",
    "        df.at[i, \"Dress_Style\"] = \"slip_dress\"  \n",
    "    elif \"lining: 80% nylon, 20% spandex\" in str(df[\"Dress_Style\"][i]) or \"three quarter sleeves\" in str(df[\"Dress_Style\"][i])  :\n",
    "        df.at[i, \"Dress_Style\"] = \"sheath\"\n",
    "    elif \"short sleeves with cold shoulder detail\" in str(df[\"Dress_Style\"][i]):\n",
    "        df.at[i, \"Dress_Style\"] = \"maxi\"  \n",
    "    elif \"sleeveless with shirt collar\" in str(df[\"Dress_Style\"][i]) or \"full skirt\" in str(df[\"Dress_Style\"][i]):\n",
    "        df.at[i, \"Dress_Style\"] = \"full skirt\" \n",
    "    elif \"fitted skirt\" in str(df[\"Dress_Style\"][i]):\n",
    "        df.at[i, \"Dress_Style\"] = \"fitted_skirt\"\n",
    "    elif \"mermaid\" in str(df[\"Dress_Style\"][i]):\n",
    "        df.at[i, \"Dress_Style\"] = \"mermaid\"   \n",
    "    elif \"shirt\" in str(df[\"Dress_Style\"][i]).lower():\n",
    "        df.at[i, \"Dress_Style\"] = \"shirtdress\"\n",
    "    elif \"sweater\" in str(df[\"Dress_Style\"][i]).lower():\n",
    "        df.at[i, \"Dress_Style\"] = \"sweater_dress\"\n",
    "    elif \"tunic\" in str(df[\"Dress_Style\"][i]).lower():\n",
    "        df.at[i, \"Dress_Style\"] = \"tunic_dress\"\n"
   ]
  },
  {
   "cell_type": "code",
   "execution_count": 27,
   "id": "ad23670d",
   "metadata": {},
   "outputs": [],
   "source": [
    "#These are the most frequently occuring dresstyle types. So, keep them in the list. \n",
    "list_of_dress_styles = ['hourglass',\n",
    " 'sheath',\n",
    " 'shift',\n",
    " 'gown',\n",
    " 'sleeveless',\n",
    " 'maxi',\n",
    " 'wrap',\n",
    " 'blouson',\n",
    " 'full skirt',\n",
    " 'short sleeves',\n",
    " 'a-line',\n",
    " 'long sleeves',\n",
    " 'empire_waist',\n",
    " 'cap sleeves',\n",
    " 'strapless',\n",
    " 'shirtdress']"
   ]
  },
  {
   "cell_type": "code",
   "execution_count": 28,
   "id": "a5d50c52",
   "metadata": {},
   "outputs": [],
   "source": [
    "for i in range(df.shape[0]):\n",
    "    if str(df.at[i, \"Dress_Style\"]) not in list_of_dress_styles:\n",
    "        df.at[i, \"Dress_Style\"] = \"other\""
   ]
  },
  {
   "cell_type": "code",
   "execution_count": 29,
   "id": "c59ccfb7",
   "metadata": {},
   "outputs": [
    {
     "data": {
      "text/plain": [
       "hourglass        54265\n",
       "sheath           42243\n",
       "shift            13404\n",
       "sleeveless        9998\n",
       "gown              9265\n",
       "maxi              7453\n",
       "wrap              5972\n",
       "other             3652\n",
       "blouson           2905\n",
       "full skirt        2777\n",
       "short sleeves     2452\n",
       "long sleeves      1942\n",
       "cap sleeves       1457\n",
       "empire_waist      1262\n",
       "strapless          970\n",
       "a-line             872\n",
       "shirtdress         440\n",
       "Name: Dress_Style, dtype: int64"
      ]
     },
     "execution_count": 29,
     "metadata": {},
     "output_type": "execute_result"
    }
   ],
   "source": [
    "#This is the final breakdown of dress styles\n",
    "df.Dress_Style.value_counts()"
   ]
  },
  {
   "cell_type": "code",
   "execution_count": 30,
   "id": "49e56630",
   "metadata": {},
   "outputs": [],
   "source": [
    "#Remove all the observations with unknown or seldomly occuring descriptors. \n",
    "df.drop(df[df['Dress_Style'] == \"other\"].index, inplace = True)\n",
    "df.drop(df[df['Sleeves'] == \"other\"].index, inplace = True)\n",
    "df.drop(df[df['Neckline'] == \"other\"].index, inplace = True)\n",
    "df = df.reset_index()\n",
    "df.drop(columns=\"index\",inplace=True)"
   ]
  },
  {
   "cell_type": "code",
   "execution_count": 31,
   "id": "a99899c0",
   "metadata": {},
   "outputs": [],
   "source": [
    "#Get rid of the columns that do not need.\n",
    "df.drop(columns=['Dress_Description',\"Product_details\",\"Details\"],inplace=True)"
   ]
  },
  {
   "cell_type": "code",
   "execution_count": 34,
   "id": "d1b7d852",
   "metadata": {},
   "outputs": [
    {
     "data": {
      "text/plain": [
       "(156433, 20)"
      ]
     },
     "execution_count": 34,
     "metadata": {},
     "output_type": "execute_result"
    }
   ],
   "source": [
    "df.shape"
   ]
  },
  {
   "cell_type": "code",
   "execution_count": 33,
   "id": "29cc2b88",
   "metadata": {},
   "outputs": [],
   "source": [
    "#Export as an excel file \n",
    "df.to_csv('../Data/df_clean.csv', header=True, index=False)"
   ]
  },
  {
   "cell_type": "code",
   "execution_count": null,
   "id": "b0cd5659",
   "metadata": {},
   "outputs": [],
   "source": []
  }
 ],
 "metadata": {
  "kernelspec": {
   "display_name": "Python 3 (ipykernel)",
   "language": "python",
   "name": "python3"
  },
  "language_info": {
   "codemirror_mode": {
    "name": "ipython",
    "version": 3
   },
   "file_extension": ".py",
   "mimetype": "text/x-python",
   "name": "python",
   "nbconvert_exporter": "python",
   "pygments_lexer": "ipython3",
   "version": "3.9.11"
  }
 },
 "nbformat": 4,
 "nbformat_minor": 5
}
