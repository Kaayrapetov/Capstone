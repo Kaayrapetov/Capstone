{
 "cells": [
  {
   "cell_type": "markdown",
   "id": "f74481f8",
   "metadata": {},
   "source": [
    "\n",
    "\n",
    "# Predicting Customer Satisfaction on Rent the Runway\n",
    "\n",
    "##  I. Data Cleaning for Customer Data \n",
    "### Katrin Ayrapetov\n",
    "\n",
    "\n",
    "<font style=\"font-size: 2rem; color: blue\">\n",
    "\n",
    "\n",
    " \n",
    "</font>"
   ]
  },
  {
   "cell_type": "code",
   "execution_count": 1,
   "id": "06831f85",
   "metadata": {},
   "outputs": [],
   "source": [
    "#Import the necessary libraries. \n",
    "import pandas as pd\n",
    "import matplotlib.pyplot as plt\n",
    "import numpy as np\n",
    "import re\n",
    "pd.set_option(\"display.max_columns\",None)\n",
    "pd.set_option(\"display.max_rows\",None)"
   ]
  },
  {
   "cell_type": "code",
   "execution_count": 2,
   "id": "81804f02",
   "metadata": {},
   "outputs": [],
   "source": [
    "#Import the Data Set \n",
    "\n",
    "df1 =  pd.read_csv('../Data/Raw_Data_Rent_the_Runway(1).csv')\n",
    "df2 =  pd.read_csv('../Data/Raw_Data_Rent_the_Runway(2).csv')\n",
    "df3 =  pd.read_csv('../Data/Raw_Data_Rent_the_Runway(3).csv')\n",
    "df4 =  pd.read_csv('../Data/Raw_Data_Rent_the_Runway(4).csv')\n",
    "df5 =  pd.read_csv('../Data/Raw_Data_Rent_the_Runway(5).csv')\n",
    "df6 =  pd.read_csv('../Data/Raw_Data_Rent_the_Runway(6).csv')\n",
    "df7 =  pd.read_csv('../Data/Raw_Data_Rent_the_Runway(7).csv')\n",
    "df8 =  pd.read_csv('../Data/Raw_Data_Rent_the_Runway(8).csv')\n",
    "df9 =  pd.read_csv('../Data/Raw_Data_Rent_the_Runway(9).csv')\n",
    "df10 =  pd.read_csv('../Data/Raw_Data_Rent_the_Runway(10).csv')\n",
    "df11 =  pd.read_csv('../Data/Raw_Data_Rent_the_Runway(11).csv')"
   ]
  },
  {
   "cell_type": "code",
   "execution_count": 3,
   "id": "70945775",
   "metadata": {},
   "outputs": [],
   "source": [
    "#Join all the data sets into one data set \n",
    "df = pd.concat([df1, df2,df3,df4,df5,df6,df7,df8,df9,df10,df11])\n",
    "df = df.reset_index(drop=True)"
   ]
  },
  {
   "cell_type": "code",
   "execution_count": 4,
   "id": "8267dbea",
   "metadata": {},
   "outputs": [
    {
     "data": {
      "text/plain": [
       "(208474, 24)"
      ]
     },
     "execution_count": 4,
     "metadata": {},
     "output_type": "execute_result"
    }
   ],
   "source": [
    "#The data set has 24 features and 208,474 observations. \n",
    "df.shape"
   ]
  },
  {
   "cell_type": "code",
   "execution_count": 5,
   "id": "2509f202",
   "metadata": {},
   "outputs": [
    {
     "data": {
      "text/plain": [
       "[1, 45, 200, 1100, 6565, 7500]"
      ]
     },
     "execution_count": 5,
     "metadata": {},
     "output_type": "execute_result"
    }
   ],
   "source": [
    "#Create a checklist which will be used to make sure the cleaning is fone correctly. \n",
    "check_list=[1,45,200,1100,6565,7500]\n",
    "check_list"
   ]
  },
  {
   "cell_type": "code",
   "execution_count": 6,
   "id": "f16ab31a",
   "metadata": {},
   "outputs": [],
   "source": [
    "#Rename the columns \n",
    "df.columns = [\"title_of_review\",\n",
    "              \"image\",\"Nickname\",\"Type_of_Customer\",\n",
    "              \"Size\",\"Overall_fit\",\"Rented_for\",\"Size_usually_worn\",\n",
    "              \"Height\",\"Age\",\"Label6\",\"Bust_size\",\n",
    "              \"Label8\",\"Body_type\",\"Weight\",\"Rating\",\n",
    "              \"Date\",\"Review_body\",\"Brand\",\"Dress_Description\",\n",
    "              \"Retail_price\", \"Rent_price\",\"Product_details\",\"Number_of_reviews\"]\n"
   ]
  },
  {
   "cell_type": "code",
   "execution_count": 7,
   "id": "1c04e24c",
   "metadata": {},
   "outputs": [],
   "source": [
    "#Drop columns that are not using \n",
    "df.drop(columns = [\"title_of_review\",\"image\",\"Nickname\",\"Review_body\"],inplace=True)"
   ]
  },
  {
   "cell_type": "code",
   "execution_count": 8,
   "id": "3007c6c3",
   "metadata": {},
   "outputs": [],
   "source": [
    "#Change the date when the garment was rented to just the season.\n",
    "for i in range(df.shape[0]):\n",
    "    if \"JANUARY\" in df[\"Date\"][i] or \"DECEMBER\" in df[\"Date\"][i] or \"FEBRUARY\" in df[\"Date\"][i]:\n",
    "        df.at[i, \"Date\"] = \"winter\"\n",
    "    if \"AUGUST\" in df[\"Date\"][i] or \"JUNE\" in df[\"Date\"][i] or \"JULY\" in df[\"Date\"][i]:\n",
    "        df.at[i, \"Date\"] = \"summer\"\n",
    "    if \"SEPTEMBER\" in df[\"Date\"][i] or \"NOVEMBER\" in df[\"Date\"][i] or \"OCTOBER\" in df[\"Date\"][i]:\n",
    "        df.at[i, \"Date\"] = \"fall\"\n",
    "    if \"MAY\" in df[\"Date\"][i] or \"APRIL\" in df[\"Date\"][i] or \"MARCH\" in df[\"Date\"][i]:\n",
    "        df.at[i, \"Date\"] = \"spring\""
   ]
  },
  {
   "cell_type": "code",
   "execution_count": 9,
   "id": "0503f002",
   "metadata": {},
   "outputs": [],
   "source": [
    "#Fill in the nulls in Type_of_customer feature with \"unknown\"\n",
    "df['Type_of_Customer'].fillna(\"unknown\", inplace=True)"
   ]
  },
  {
   "cell_type": "code",
   "execution_count": 10,
   "id": "b06e14b9",
   "metadata": {},
   "outputs": [
    {
     "data": {
      "text/plain": [
       "TOP CONTRIBUTOR    163504\n",
       "unknown             44970\n",
       "Name: Type_of_Customer, dtype: int64"
      ]
     },
     "execution_count": 10,
     "metadata": {},
     "output_type": "execute_result"
    }
   ],
   "source": [
    "#This is the breakdown for type_of_customer feature. \n",
    "df.Type_of_Customer.value_counts()"
   ]
  },
  {
   "cell_type": "code",
   "execution_count": 11,
   "id": "82cf1acb",
   "metadata": {},
   "outputs": [
    {
     "name": "stdout",
     "output_type": "stream",
     "text": [
      "The data frame has 208474 observations. There are 0 nulls for the Rating feature. \n",
      "(5 out of 5 stars)    125250\n",
      "(4 out of 5 stars)     47480\n",
      "(3 out of 5 stars)     20194\n",
      "(2 out of 5 stars)      8681\n",
      "(1 out of 5 stars)      6869\n",
      "Name: Rating, dtype: int64\n",
      "5    125250\n",
      "4     47480\n",
      "3     20194\n",
      "2      8681\n",
      "1      6869\n",
      "Name: Rating, dtype: int64\n"
     ]
    }
   ],
   "source": [
    "#Convert the rating that the customer left to just an integer\n",
    "print(f\"The data frame has {df.shape[0]} observations. There are {df.Rating.isna().sum()} nulls for the Rating feature. \")\n",
    "print(df.Rating.value_counts())\n",
    "#Get rid of unnecessary characters in some entries. \n",
    "df[\"Rating\"]=df[\"Rating\"].replace(\" out of 5 stars\",\"\", regex=True)\n",
    "df[\"Rating\"]=df[\"Rating\"].replace(\"\\(\",\"\", regex=True)\n",
    "df[\"Rating\"]=df[\"Rating\"].replace(\"\\)\",\"\", regex=True)\n",
    "df[\"Rating\"]=df[\"Rating\"].astype(\"int\")\n",
    "print(df.Rating.value_counts())"
   ]
  },
  {
   "cell_type": "code",
   "execution_count": 12,
   "id": "89bf3f2a",
   "metadata": {},
   "outputs": [],
   "source": [
    "#Get rid of observations where there are nulls in ALL 5 customer measurement features. \n",
    "df.dropna(how=\"all\",subset=['Age','Weight','Body_type','Bust_size','Height'], inplace=True)\n",
    "df = df.reset_index()\n",
    "df.drop(columns=[\"index\"],inplace=True)"
   ]
  },
  {
   "cell_type": "code",
   "execution_count": 13,
   "id": "92138547",
   "metadata": {},
   "outputs": [],
   "source": [
    "#Fill in the null values in columns Size Usually Worn, Age, Weight, Body_type, Bust_size and Height as \"unknown\" for now\n",
    "df['Rented_for'].fillna(\"unknown\", inplace=True)\n",
    "df['Size_usually_worn'].fillna(\"unknown\", inplace=True)\n",
    "df['Age'].fillna(\"unknown\", inplace=True)\n",
    "df['Weight'].fillna(\"unknown\", inplace=True)\n",
    "df['Body_type'].fillna(\"unknown\", inplace=True)\n",
    "df['Bust_size'].fillna(\"unknown\", inplace=True)\n",
    "df['Height'].fillna(\"unknown\", inplace=True)"
   ]
  },
  {
   "cell_type": "code",
   "execution_count": 14,
   "id": "fb3a8326",
   "metadata": {},
   "outputs": [
    {
     "name": "stdout",
     "output_type": "stream",
     "text": [
      "There are 12223 observations where the weight is entered in the Body Type column. \n",
      "Should match with this number:\n",
      "12223\n",
      "Example of one such row BEFORE the transformation:\n",
      "This is the body type entry for row 13\n",
      "155LBS\n",
      "This is the weight type entry for 13\n",
      "unknown\n",
      "Example of one such row AFTER the transformation:\n",
      "This is the body type entry for row 13\n",
      "unknown\n",
      "This is the weight type entry for 13\n",
      "155LBS\n"
     ]
    }
   ],
   "source": [
    "#Weight in Body Type fix rows \n",
    "weight_in_body_type=[]\n",
    "for i in range(df.shape[0]):\n",
    "    if \"LBS\" in df[\"Body_type\"][i]:\n",
    "        weight_in_body_type.append(i)\n",
    "print(f\"There are {len(weight_in_body_type)} observations where the weight is entered in the Body Type column. \")\n",
    "print(\"Should match with this number:\")\n",
    "print(df.Label8.value_counts()[\"Weight: \"])\n",
    "\n",
    "print(\"Example of one such row BEFORE the transformation:\")\n",
    "print(f\"This is the body type entry for row {weight_in_body_type[0]}\")\n",
    "print(df[\"Body_type\"][weight_in_body_type[0]])\n",
    "print(f\"This is the weight type entry for {weight_in_body_type[0]}\")\n",
    "print(df[\"Weight\"][weight_in_body_type[0]])\n",
    "\n",
    "#Grab all the weights accidently entered into the Body Type column:\n",
    "#(1) Enter them into the weight column\n",
    "#(2) Replace the body type observation with \"unknown\"\n",
    "for i in weight_in_body_type:\n",
    "    df.at[i, \"Weight\"] = df[\"Body_type\"][i]\n",
    "    df.at[i, \"Body_type\"] = \"unknown\"\n",
    "    \n",
    "    \n",
    "print(\"Example of one such row AFTER the transformation:\")\n",
    "print(f\"This is the body type entry for row {weight_in_body_type[0]}\")\n",
    "print(df[\"Body_type\"][weight_in_body_type[0]])\n",
    "print(f\"This is the weight type entry for {weight_in_body_type[0]}\")\n",
    "print(df[\"Weight\"][weight_in_body_type[0]])"
   ]
  },
  {
   "cell_type": "code",
   "execution_count": 15,
   "id": "8216a800",
   "metadata": {},
   "outputs": [
    {
     "name": "stdout",
     "output_type": "stream",
     "text": [
      "There are 958 observations where the weight is entered in the Bust Size column. \n",
      "Should match with this number:\n",
      "958\n",
      "Example of one such row before the transformation:\n",
      "This is the bust size  entry for row 326\n",
      "135LBS\n",
      "This is the weight type entry for 326\n",
      "unknown\n",
      "Example of one such row AFTER the transformation:\n",
      "This is the bust size  entry for row 326\n",
      "unknown\n",
      "This is the weight type entry for 326\n",
      "135LBS\n"
     ]
    }
   ],
   "source": [
    "#Weight in Bust_Size fix rows \n",
    "weight_in_bust_size=[]\n",
    "for i in range(df.shape[0]):\n",
    "    if \"LBS\" in df[\"Bust_size\"][i]:\n",
    "        weight_in_bust_size.append(i)\n",
    "\n",
    "print(f\"There are {len(weight_in_bust_size)} observations where the weight is entered in the Bust Size column. \")\n",
    "print(\"Should match with this number:\")\n",
    "print(df.Label6.value_counts()[\"Weight: \"])\n",
    "\n",
    "print(\"Example of one such row before the transformation:\")\n",
    "print(f\"This is the bust size  entry for row {weight_in_bust_size[0]}\")\n",
    "print(df[\"Bust_size\"][weight_in_bust_size[0]])\n",
    "print(f\"This is the weight type entry for {weight_in_bust_size[0]}\")\n",
    "print(df[\"Weight\"][weight_in_bust_size[0]])\n",
    "\n",
    "#Grab all the weights accidently entered into the Bust Size column:\n",
    "#(1) Enter them into the weight column\n",
    "#(2) Replace the Bust Size  observation with \"unknown\"\n",
    "for i in weight_in_bust_size:\n",
    "    df.at[i, \"Weight\"] = df[\"Bust_size\"][i]\n",
    "    df.at[i, \"Bust_size\"] = \"unknown\"\n",
    "print(\"Example of one such row AFTER the transformation:\")\n",
    "print(f\"This is the bust size  entry for row {weight_in_bust_size[0]}\")\n",
    "print(df[\"Bust_size\"][weight_in_bust_size[0]])\n",
    "print(f\"This is the weight type entry for {weight_in_bust_size[0]}\")\n",
    "print(df[\"Weight\"][weight_in_bust_size[0]])"
   ]
  },
  {
   "cell_type": "code",
   "execution_count": 16,
   "id": "f8d37b07",
   "metadata": {},
   "outputs": [
    {
     "name": "stdout",
     "output_type": "stream",
     "text": [
      "There are 63 observations where the weight is entered in the age column. \n",
      "Example of one such row BEFORE the transformation:\n",
      "This is the age  entry for row 6339\n",
      "155LBS\n",
      "This is the weight entry for 6339\n",
      "unknown\n",
      "Example of one such row AFTER the transformation:\n",
      "This is the age  entry for row 6339\n",
      "unknown\n",
      "This is the weight entry for 6339\n",
      "155LBS\n"
     ]
    }
   ],
   "source": [
    "#Weight in Age fix rows \n",
    "weight_in_age=[]\n",
    "for i in range(df.shape[0]):\n",
    "    if \"LBS\" in df[\"Age\"][i]:\n",
    "        weight_in_age.append(i)\n",
    "\n",
    "print(f\"There are {len(weight_in_age)} observations where the weight is entered in the age column. \")\n",
    "\n",
    "print(\"Example of one such row BEFORE the transformation:\")\n",
    "print(f\"This is the age  entry for row {weight_in_age[0]}\")\n",
    "print(df[\"Age\"][weight_in_age[0]])\n",
    "print(f\"This is the weight entry for {weight_in_age[0]}\")\n",
    "print(df[\"Weight\"][weight_in_age[0]])\n",
    "\n",
    "#Grab all the weights accidently entered into the Age column:\n",
    "#(1) Enter them into the weight column\n",
    "#(2) Replace the Age  observation with \"unknown\"\n",
    "for i in weight_in_age:\n",
    "    df.at[i, \"Weight\"] = df[\"Age\"][i]\n",
    "    df.at[i, \"Age\"] = \"unknown\"\n",
    "print(\"Example of one such row AFTER the transformation:\")\n",
    "print(f\"This is the age  entry for row {weight_in_age[0]}\")\n",
    "print(df[\"Age\"][weight_in_age[0]])\n",
    "print(f\"This is the weight entry for {weight_in_age[0]}\")\n",
    "print(df[\"Weight\"][weight_in_age[0]])"
   ]
  },
  {
   "cell_type": "code",
   "execution_count": 17,
   "id": "51b0f336",
   "metadata": {},
   "outputs": [
    {
     "name": "stdout",
     "output_type": "stream",
     "text": [
      "There are 7 observations where the weight is entered in the height column. \n",
      "There are 7 observations where the weight is entered in the height column. \n",
      "Example of one such row BEFORE the transformation:\n",
      "This is height entry for row 31076\n",
      "130LBS\n",
      "This is the weight entry for 31076\n",
      "unknown\n",
      "Example of one such row before the transformation:\n",
      "This is height entry for row 31076\n",
      "unknown\n",
      "This is the weight entry for 31076\n",
      "130LBS\n"
     ]
    }
   ],
   "source": [
    "#Weight in Height fix rows \n",
    "weight_in_height=[]\n",
    "for i in range(df.shape[0]):\n",
    "    if \"LBS\" in df[\"Height\"][i]:\n",
    "        weight_in_height.append(i)\n",
    "print(f\"There are {len(weight_in_height)} observations where the weight is entered in the height column. \")\n",
    "if len(weight_in_height)>0:\n",
    "    print(f\"There are {len(weight_in_height)} observations where the weight is entered in the height column. \")\n",
    "    print(\"Example of one such row BEFORE the transformation:\")\n",
    "    print(f\"This is height entry for row {weight_in_height[0]}\")\n",
    "    print(df[\"Height\"][weight_in_height[0]])\n",
    "    print(f\"This is the weight entry for {weight_in_height[0]}\")\n",
    "    print(df[\"Weight\"][weight_in_height[0]])\n",
    "\n",
    "#Grab all the weights accidently entered into the Height column:\n",
    "#(1) Enter them into the weight column\n",
    "#(2) Replace the Height  observation with \"unknown\"\n",
    "for i in weight_in_height:\n",
    "    df.at[i, \"Weight\"] = df[\"Height\"][i]\n",
    "    df.at[i, \"Height\"] = \"unknown\"\n",
    "print(\"Example of one such row before the transformation:\")\n",
    "print(f\"This is height entry for row {weight_in_height[0]}\")\n",
    "print(df[\"Height\"][weight_in_height[0]])\n",
    "print(f\"This is the weight entry for {weight_in_height[0]}\")\n",
    "print(df[\"Weight\"][weight_in_height[0]])"
   ]
  },
  {
   "cell_type": "code",
   "execution_count": 18,
   "id": "c90324f4",
   "metadata": {},
   "outputs": [
    {
     "name": "stdout",
     "output_type": "stream",
     "text": [
      "Before:\n",
      "unknown\n",
      "145LBS\n",
      "180LBS\n",
      "unknown\n",
      "125LBS\n",
      "115LBS\n",
      "After:\n",
      "unknown\n",
      "145\n",
      "180\n",
      "unknown\n",
      "125\n",
      "115\n"
     ]
    }
   ],
   "source": [
    "#Strip the weights off the \"LBS\" and clean up weights entered two or three times. \n",
    "print(\"Before:\")\n",
    "for i in check_list:\n",
    "    print(df[\"Weight\"][i])\n",
    "for i in range(df.shape[0]):\n",
    "    if df[\"Weight\"][i][0]==\"1\" or df[\"Weight\"][i][0]==\"2\":\n",
    "        df.at[i, \"Weight\"]=df[\"Weight\"][i][:3]\n",
    "    elif df[\"Weight\"][i][0]==\"9\" or df[\"Weight\"][i][0]==\"8\":\n",
    "        df.at[i, \"Weight\"]=df[\"Weight\"][i][:2]\n",
    "    elif df[\"Weight\"][i][0]==\"3\":\n",
    "        df.at[i, \"Weight\"] = \"unknown\"\n",
    "\n",
    "df[\"Weight\"]=df[\"Weight\"].replace(\"l\",\"0\", regex=True).replace(\"L\",\"0\", regex=True)\n",
    "\n",
    "for i in range(df.shape[0]):\n",
    "    if \"b\" in df[\"Weight\"][i].lower():\n",
    "        df.at[i, \"Weight\"] = \"unknown\"\n",
    "print(\"After:\")\n",
    "for i in check_list:\n",
    "    print(df[\"Weight\"][i])"
   ]
  },
  {
   "cell_type": "code",
   "execution_count": 19,
   "id": "9b7ece5c",
   "metadata": {},
   "outputs": [],
   "source": [
    "list_of_body_types = ['athletic','hourglass','pear','apple','fullbust','straightnarrow','petite','ATHLETIC',\n",
    " 'HOURGLASS',\n",
    " 'PEAR',\n",
    " 'APPLE',\n",
    " 'FULLBUST',\n",
    " 'STRAIGHTNARROW',\n",
    " 'PETITE']"
   ]
  },
  {
   "cell_type": "code",
   "execution_count": 20,
   "id": "67e2c153",
   "metadata": {},
   "outputs": [
    {
     "name": "stdout",
     "output_type": "stream",
     "text": [
      "There are 18232 observations where the body_type is entered in the Bust_size column. \n",
      "Should match with this number:\n",
      "18232\n",
      "These are one such row before transformation\n",
      "This is bust size  entry for row 29\n",
      "HOURGLASS\n",
      "This is the body type entry for 29\n",
      "unknown\n",
      "These are one such row AFTER  transformation\n",
      "This is bust size  entry for row 29\n",
      "unknown\n",
      "This is the body type entry for 29\n",
      "hourglass\n"
     ]
    }
   ],
   "source": [
    "#look at the rows where the body type has been entered into the bust_size \n",
    "body_type_in_bust_size=[]\n",
    "for i in range(df.shape[0]):\n",
    "    if df[\"Label6\"][i]==\"Body type: \":\n",
    "        body_type_in_bust_size.append(i)\n",
    "print(f\"There are {len(body_type_in_bust_size)} observations where the body_type is entered in the Bust_size column. \")\n",
    "print(\"Should match with this number:\")\n",
    "print(df.Label6.value_counts()[\"Body type: \"])\n",
    "print(\"These are one such row before transformation\")\n",
    "print(f\"This is bust size  entry for row {body_type_in_bust_size[5]}\")\n",
    "print(df[\"Bust_size\"][body_type_in_bust_size[5]])\n",
    "print(f\"This is the body type entry for {body_type_in_bust_size[5]}\")\n",
    "print(df[\"Body_type\"][body_type_in_bust_size[5]])\n",
    "\n",
    "#Grab all the body type accidently entered into the bust size  column:\n",
    "#(1) Enter them into the body type column\n",
    "#(2) Replace the bust size  observation with \"unknown\"\n",
    "for i in body_type_in_bust_size:\n",
    "    df.at[i, \"Body_type\"] = df[\"Bust_size\"][i].lower().replace(\" & \",\"\").replace(\" \",\"\")\n",
    "    df.at[i, \"Bust_size\"]=\"unknown\"\n",
    "print(\"These are one such row AFTER  transformation\")\n",
    "print(f\"This is bust size  entry for row {body_type_in_bust_size[5]}\")\n",
    "print(df[\"Bust_size\"][body_type_in_bust_size[5]])\n",
    "print(f\"This is the body type entry for {body_type_in_bust_size[5]}\")\n",
    "print(df[\"Body_type\"][body_type_in_bust_size[5]])"
   ]
  },
  {
   "cell_type": "code",
   "execution_count": 21,
   "id": "d24815c4",
   "metadata": {},
   "outputs": [],
   "source": [
    "#Get rid of the + symbol in the some of the bust sizes. \n",
    "df[\"Bust_size\"]=df[\"Bust_size\"].replace(\"\\+\",\"\", regex=True)"
   ]
  },
  {
   "cell_type": "code",
   "execution_count": 22,
   "id": "9d736b22",
   "metadata": {},
   "outputs": [
    {
     "name": "stdout",
     "output_type": "stream",
     "text": [
      "There are 184 observations where the body_type is entered in the Bust_size column. \n",
      "These are one such row before transformation\n",
      "This is Age entry for row 202175\n",
      "ATHLETIC\n",
      "This is the body type entry for 202175\n",
      "unknown\n",
      "These are one such row AFTER transformation\n",
      "This is Age entry for row 202175\n",
      "unknown\n",
      "This is the body type entry for 202175\n",
      "athletic\n"
     ]
    }
   ],
   "source": [
    "#look at the rows where the body type has been entered into the Age \n",
    "body_type_in_age=[]\n",
    "for i in range(df.shape[0]):\n",
    "    if df[\"Age\"][i].lower().replace(\" & \",\"\").replace(\" \",\"\") in list_of_body_types:\n",
    "        body_type_in_age.append(i)\n",
    "        \n",
    "print(f\"There are {len(body_type_in_age)} observations where the body_type is entered in the Bust_size column. \")\n",
    "\n",
    "print(\"These are one such row before transformation\")\n",
    "print(f\"This is Age entry for row {body_type_in_age[-1]}\")\n",
    "print(df[\"Age\"][body_type_in_age[-1]])\n",
    "print(f\"This is the body type entry for {body_type_in_age[-1]}\")\n",
    "print(df[\"Body_type\"][body_type_in_age[-1]])\n",
    "\n",
    "#Grab all the body type accidently entered into the Age  column:\n",
    "#(1) Enter them into the body type column\n",
    "#(2) Replace the Age  observation with \"unknown\"\n",
    "for i in body_type_in_age:\n",
    "    df.at[i, \"Body_type\"] = df[\"Age\"][i].lower().replace(\" & \",\"\").replace(\" \",\"\")\n",
    "    df.at[i, \"Age\"]=\"unknown\"\n",
    "    \n",
    "    \n",
    "print(\"These are one such row AFTER transformation\")\n",
    "print(f\"This is Age entry for row {body_type_in_age[-1]}\")\n",
    "print(df[\"Age\"][body_type_in_age[-1]])\n",
    "print(f\"This is the body type entry for {body_type_in_age[-1]}\")\n",
    "print(df[\"Body_type\"][body_type_in_age[-1]])"
   ]
  },
  {
   "cell_type": "code",
   "execution_count": 23,
   "id": "8846a6e4",
   "metadata": {},
   "outputs": [
    {
     "name": "stdout",
     "output_type": "stream",
     "text": [
      "There are 7 observations where the body_type is entered in the Height column. \n",
      "These are one such row before transformation\n",
      "This is height entry for row 14398\n",
      "HOURGLASS\n",
      "This is the body type entry for 14398\n",
      "unknown\n",
      "These are one such row AFTER transformation\n",
      "This is height entry for row 14398\n",
      "unknown\n",
      "This is the body type entry for 14398\n",
      "hourglass\n"
     ]
    }
   ],
   "source": [
    "#look at the rows where the body type has been entered into the Height \n",
    "body_type_in_height=[]\n",
    "for i in range(df.shape[0]):\n",
    "    if df[\"Height\"][i].lower().replace(\" & \",\"\").replace(\" \",\"\") in list_of_body_types:\n",
    "        body_type_in_height.append(i)\n",
    "print(f\"There are {len(body_type_in_height)} observations where the body_type is entered in the Height column. \")\n",
    "if len(body_type_in_height)>0:\n",
    "    print(\"These are one such row before transformation\")\n",
    "    print(f\"This is height entry for row {body_type_in_height[0]}\")\n",
    "    print(df[\"Height\"][body_type_in_height[0]])\n",
    "    print(f\"This is the body type entry for {body_type_in_height[0]}\")\n",
    "    print(df[\"Body_type\"][body_type_in_height[0]])\n",
    "    \n",
    "    #Grab all the body type accidently entered into the Height  column:\n",
    "    #(1) Enter them into the body type column\n",
    "    #(2) Replace theHeight observation with \"unknown\"\n",
    "    for i in body_type_in_height:\n",
    "        df.at[i, \"Body_type\"] = df[\"Height\"][i].lower().replace(\" & \",\"\").replace(\" \",\"\")\n",
    "        df.at[i, \"Height\"]=\"unknown\"\n",
    "\n",
    "\n",
    "    print(\"These are one such row AFTER transformation\")\n",
    "    print(f\"This is height entry for row {body_type_in_height[0]}\")\n",
    "    print(df[\"Height\"][body_type_in_height[0]])\n",
    "    print(f\"This is the body type entry for {body_type_in_height[0]}\")\n",
    "    print(df[\"Body_type\"][body_type_in_height[0]])\n"
   ]
  },
  {
   "cell_type": "code",
   "execution_count": 24,
   "id": "7e10afb0",
   "metadata": {},
   "outputs": [],
   "source": [
    "#Clean up the body types \n",
    "for i in range(df.shape[0]):\n",
    "    df.at[i, \"Body_type\"] = df[\"Body_type\"][i].lower().replace(\" & \",\"\").replace(\" \",\"\")"
   ]
  },
  {
   "cell_type": "code",
   "execution_count": 25,
   "id": "f99b2188",
   "metadata": {},
   "outputs": [
    {
     "data": {
      "text/plain": [
       "hourglass         60310\n",
       "athletic          44365\n",
       "pear              23000\n",
       "petite            20598\n",
       "unknown           16623\n",
       "fullbust          16572\n",
       "straightnarrow    13833\n",
       "apple              7082\n",
       "Name: Body_type, dtype: int64"
      ]
     },
     "execution_count": 25,
     "metadata": {},
     "output_type": "execute_result"
    }
   ],
   "source": [
    "#Final check of Body Types. Should just be body types here. \n",
    "df.Body_type.value_counts()"
   ]
  },
  {
   "cell_type": "code",
   "execution_count": 26,
   "id": "8c6269e5",
   "metadata": {},
   "outputs": [
    {
     "name": "stdout",
     "output_type": "stream",
     "text": [
      "There are 1973 observations where the bust_size is entered in the age column. \n",
      "This is one such observation BEFORE transformation:\n",
      "This is age entry for row 137\n",
      "34D\n",
      "This is the body type entry for 137\n",
      "unknown\n",
      "This is one such observation AFTER transformation:\n",
      "This is age entry for row 137\n",
      "unknown\n",
      "This is the body type entry for 137\n",
      "34D\n"
     ]
    }
   ],
   "source": [
    "#Bust_size_in_Age_Column \n",
    "bust_size_in_age=[]\n",
    "pattern = \"^.*[0-9]{2}[a-zA-Z]{1}.*$\"\n",
    "for i in range(df.shape[0]):\n",
    "    if re.match(pattern, df[\"Age\"][i]): \n",
    "        bust_size_in_age.append(i)\n",
    "    \n",
    "print(f\"There are {len(bust_size_in_age)} observations where the bust_size is entered in the age column. \")\n",
    "\n",
    "print(\"This is one such observation BEFORE transformation:\")\n",
    "print(f\"This is age entry for row {bust_size_in_age[0]}\")\n",
    "print(df[\"Age\"][bust_size_in_age[0]])\n",
    "print(f\"This is the body type entry for {bust_size_in_age[0]}\")\n",
    "print(df[\"Bust_size\"][bust_size_in_age[0]])\n",
    "\n",
    "#Grab all the bust size  accidently entered into the Age  column:\n",
    "#(1) Enter them into the bust size  column\n",
    "#(2) Replace the Age  observation with \"unknown\"\n",
    "for i in bust_size_in_age:\n",
    "    df.at[i, \"Bust_size\"] = df[\"Age\"][i]\n",
    "    df.at[i, \"Age\"] = \"unknown\"\n",
    "\n",
    "print(\"This is one such observation AFTER transformation:\")\n",
    "print(f\"This is age entry for row {bust_size_in_age[0]}\")\n",
    "print(df[\"Age\"][bust_size_in_age[0]])\n",
    "print(f\"This is the body type entry for {bust_size_in_age[0]}\")\n",
    "print(df[\"Bust_size\"][bust_size_in_age[0]])"
   ]
  },
  {
   "cell_type": "code",
   "execution_count": 27,
   "id": "6dc5373d",
   "metadata": {},
   "outputs": [
    {
     "name": "stdout",
     "output_type": "stream",
     "text": [
      "There are 62 observations where the bust_size is entered in the height column. \n",
      "This is one such observation BEFORE transformation:\n",
      "This is height entry for row 6339\n",
      "36B\n",
      "This is the bust size  entry for 6339\n",
      "unknown\n",
      "This is one such observation AFTER transformation:\n",
      "This is height entry for row 6339\n",
      "unknown\n",
      "This is the bust size  entry for 6339\n",
      "36B\n"
     ]
    }
   ],
   "source": [
    "#Bust_size_in_Height_Column \n",
    "bust_size_in_height=[]\n",
    "pattern = \"^.*[0-9]{2}[a-zA-Z]{1}.*$\"\n",
    "for i in range(df.shape[0]):\n",
    "    if re.match(pattern, df[\"Height\"][i]):\n",
    "        bust_size_in_height.append(i)\n",
    "print(f\"There are {len(bust_size_in_height)} observations where the bust_size is entered in the height column. \")\n",
    "\n",
    "print(\"This is one such observation BEFORE transformation:\")\n",
    "print(f\"This is height entry for row {bust_size_in_height[0]}\")\n",
    "print(df[\"Height\"][bust_size_in_height[0]])\n",
    "print(f\"This is the bust size  entry for {bust_size_in_height[0]}\")\n",
    "print(df[\"Bust_size\"][bust_size_in_height[0]])\n",
    "\n",
    "#Grab all the bust size  accidently entered into the Height column:\n",
    "#(1) Enter them into the bust size  column\n",
    "#(2) Replace the Height observation with \"unknown\"\n",
    "for i in bust_size_in_height:\n",
    "    df.at[i, \"Bust_size\"] = df[\"Height\"][i]\n",
    "    df.at[i, \"Height\"] = \"unknown\"\n",
    "\n",
    "print(\"This is one such observation AFTER transformation:\")\n",
    "print(f\"This is height entry for row {bust_size_in_height[0]}\")\n",
    "print(df[\"Height\"][bust_size_in_height[0]])\n",
    "print(f\"This is the bust size  entry for {bust_size_in_height[0]}\")\n",
    "print(df[\"Bust_size\"][bust_size_in_height[0]])"
   ]
  },
  {
   "cell_type": "code",
   "execution_count": 28,
   "id": "2aa60530",
   "metadata": {},
   "outputs": [
    {
     "name": "stdout",
     "output_type": "stream",
     "text": [
      "There are 4895 observations where the age is entered in the height column. \n",
      "This is one such observation BEFORE transformation:\n",
      "This is age entry for row 72\n",
      "28\n",
      "This is the height entry for 72\n",
      "unknown\n",
      "This is one such observation AFTER transformation:\n",
      "This is age entry for row 72\n",
      "unknown\n",
      "This is the height entry for 72\n",
      "28\n"
     ]
    }
   ],
   "source": [
    "#Age entered in Height Columnn\n",
    "age_in_height = []\n",
    "for i in range(df.shape[0]):\n",
    "    if str(df[\"Height\"][1][1]) not in str(df[\"Height\"][i]) and \"unknown\" not in str(df[\"Height\"][i]):\n",
    "        age_in_height.append(i)\n",
    "\n",
    "print(f\"There are {len(age_in_height)} observations where the age is entered in the height column. \")   \n",
    "\n",
    "print(\"This is one such observation BEFORE transformation:\")\n",
    "print(f\"This is age entry for row {age_in_height[0]}\")\n",
    "print(df[\"Height\"][age_in_height[0]])\n",
    "print(f\"This is the height entry for {age_in_height[0]}\")\n",
    "print(df[\"Age\"][age_in_height[0]])\n",
    "\n",
    "#Grab all the Age accidently entered into the Height column:\n",
    "#(1) Enter them into the age column\n",
    "#(2) Replace the Height observation with \"unknown\"\n",
    "for i in age_in_height:\n",
    "    df.at[i, \"Age\"] = df[\"Height\"][i]\n",
    "    df.at[i, \"Height\"] = \"unknown\"\n",
    "    \n",
    "print(\"This is one such observation AFTER transformation:\")\n",
    "print(f\"This is age entry for row {age_in_height[0]}\")\n",
    "print(df[\"Height\"][age_in_height[0]])\n",
    "print(f\"This is the height entry for {age_in_height[0]}\")\n",
    "print(df[\"Age\"][age_in_height[0]])"
   ]
  },
  {
   "cell_type": "code",
   "execution_count": 29,
   "id": "9c02b760",
   "metadata": {},
   "outputs": [
    {
     "name": "stdout",
     "output_type": "stream",
     "text": [
      "There are 355 observations where the height is entered in the Size_Usually_worn column. \n",
      "This is one such observation BEFORE transformation:\n",
      "This is Size_usually_worn entry for row 826\n",
      "5' 6\"\n",
      "This is the height entry for 826\n",
      "unknown\n",
      "This is one such observation AFTER transformation:\n",
      "This is Size_usually_worn entry for row 826\n",
      "unknown\n",
      "This is the height entry for 826\n",
      "5' 6\"\n"
     ]
    }
   ],
   "source": [
    "#Height entered in the size usually worn \n",
    "height_in_usual_size = []\n",
    "for i in range(df.shape[0]):\n",
    "    if str(df[\"Height\"][1][1]) in str(df[\"Size_usually_worn\"][i]):\n",
    "        height_in_usual_size.append(i)\n",
    "print(f\"There are {len(height_in_usual_size)} observations where the height is entered in the Size_Usually_worn column. \") \n",
    "\n",
    "print(\"This is one such observation BEFORE transformation:\")\n",
    "print(f\"This is Size_usually_worn entry for row {height_in_usual_size[0]}\")\n",
    "print(df[\"Size_usually_worn\"][height_in_usual_size[0]])\n",
    "print(f\"This is the height entry for {height_in_usual_size[0]}\")\n",
    "print(df[\"Height\"][height_in_usual_size[0]])\n",
    "\n",
    "\n",
    "#Grab all the heights accidently entered into the Size Usually Worn column:\n",
    "#(1) Enter them into the height column\n",
    "#(2) Replace the Size Usually Worn  observation with \"unknown\"\n",
    "\n",
    "for i in height_in_usual_size:\n",
    "    df.at[i, \"Height\"] = df[\"Size_usually_worn\"][i]\n",
    "    df.at[i, \"Size_usually_worn\"] = \"unknown\"\n",
    "    \n",
    "print(\"This is one such observation AFTER transformation:\")\n",
    "print(f\"This is Size_usually_worn entry for row {height_in_usual_size[0]}\")\n",
    "print(df[\"Size_usually_worn\"][height_in_usual_size[0]])\n",
    "print(f\"This is the height entry for {height_in_usual_size[0]}\")\n",
    "print(df[\"Height\"][height_in_usual_size[0]])"
   ]
  },
  {
   "cell_type": "code",
   "execution_count": 30,
   "id": "707777ea",
   "metadata": {},
   "outputs": [
    {
     "name": "stdout",
     "output_type": "stream",
     "text": [
      "There are 82651 observations where the Rented_For observation is entered in Overall_fit column. \n",
      "This is one such observation BEFORE transformation:\n",
      "This is Overall Fit  entry for row 62\n",
      "Rented for: Vacation\n",
      "This is the Rented for entry for row 62\n",
      "Usually wears: 6Height: 5' 5\"Age: 33Bust size: 34CBody type: Athletic\n",
      "This is one such observation BEFORE transformation:\n",
      "This is Overall Fit  entry for row 62\n",
      "unknown\n",
      "This is the Rented for entry for row 62\n",
      "Rented for: Vacation\n"
     ]
    }
   ],
   "source": [
    "# \"Rented for\" observations entered in \"Overall Fit\"\n",
    "rented_for_in_overall_fit = []\n",
    "for i in range(df.shape[0]):\n",
    "    if \"Rented for: \" in df[\"Overall_fit\"][i]  and \"Rented for: \" not in df[\"Rented_for\"][i]:\n",
    "        rented_for_in_overall_fit.append(i)\n",
    "print(f\"There are {len(rented_for_in_overall_fit)} observations where the Rented_For observation is entered in Overall_fit column. \") \n",
    "\n",
    "print(\"This is one such observation BEFORE transformation:\")\n",
    "print(f\"This is Overall Fit  entry for row {rented_for_in_overall_fit[0]}\")\n",
    "print(df[\"Overall_fit\"][rented_for_in_overall_fit[0]])\n",
    "print(f\"This is the Rented for entry for row {rented_for_in_overall_fit[0]}\")\n",
    "print(df[\"Rented_for\"][rented_for_in_overall_fit[0]])\n",
    "\n",
    "#Grab all the Rented For  entered into the Overall_fit column:\n",
    "#(1) Enter them into the Rented For column\n",
    "#(2) Replace the Size Usually Worn  observation with \"unknown\"\n",
    "\n",
    "for i in rented_for_in_overall_fit:\n",
    "    df.at[i, \"Rented_for\"] = df[\"Overall_fit\"][i]\n",
    "    df.at[i, \"Overall_fit\"] = \"unknown\"\n",
    "    \n",
    "print(\"This is one such observation BEFORE transformation:\")\n",
    "print(f\"This is Overall Fit  entry for row {rented_for_in_overall_fit[0]}\")\n",
    "print(df[\"Overall_fit\"][rented_for_in_overall_fit[0]])\n",
    "print(f\"This is the Rented for entry for row {rented_for_in_overall_fit[0]}\")\n",
    "print(df[\"Rented_for\"][rented_for_in_overall_fit[0]])"
   ]
  },
  {
   "cell_type": "code",
   "execution_count": 31,
   "id": "c72ad769",
   "metadata": {},
   "outputs": [],
   "source": [
    "for i in range(df.shape[0]):\n",
    "    if \"Usually wears: \" in df[\"Overall_fit\"][i]:\n",
    "        df.at[i, \"Overall_fit\"] = \"unknown\""
   ]
  },
  {
   "cell_type": "code",
   "execution_count": 32,
   "id": "155abea6",
   "metadata": {},
   "outputs": [
    {
     "data": {
      "text/plain": [
       "Overall fit: True to Size    83605\n",
       "unknown                      82927\n",
       "Overall fit: Small           20209\n",
       "Overall fit: Large           15642\n",
       "Name: Overall_fit, dtype: int64"
      ]
     },
     "execution_count": 32,
     "metadata": {},
     "output_type": "execute_result"
    }
   ],
   "source": [
    "#This should only have the overall fit. \n",
    "df.Overall_fit.value_counts()"
   ]
  },
  {
   "cell_type": "code",
   "execution_count": 33,
   "id": "7be7c5b3",
   "metadata": {},
   "outputs": [
    {
     "name": "stdout",
     "output_type": "stream",
     "text": [
      "There are 276 observations where the Rented_For observation is entered in Size  column. \n",
      "This is one such observation BEFORE transformation:\n",
      "This is the Size entry for row 36757\n",
      "Rented for: Everyday\n",
      "This is the Rented for entry for row 36757\n",
      "unknown\n",
      "This is one such observation AFTER transformation:\n",
      "This is the Size entry for row 36757\n",
      "unknown\n",
      "This is the Rented for entry for row 36757\n",
      "Rented for: Everyday\n"
     ]
    }
   ],
   "source": [
    "# \"Rented for\" observations entered in \"Size\"\n",
    "rented_for_in_size = []\n",
    "for i in range(df.shape[0]):\n",
    "    if \"Rented for: \" in df[\"Size\"][i]  and \"Rented for: \" not in df[\"Rented_for\"][i]:\n",
    "        rented_for_in_size.append(i)\n",
    "print(f\"There are {len(rented_for_in_size)} observations where the Rented_For observation is entered in Size  column. \") \n",
    "\n",
    "print(\"This is one such observation BEFORE transformation:\")\n",
    "print(f\"This is the Size entry for row {rented_for_in_size[0]}\")\n",
    "print(df[\"Size\"][rented_for_in_size[0]])\n",
    "print(f\"This is the Rented for entry for row {rented_for_in_size[0]}\")\n",
    "print(df[\"Rented_for\"][rented_for_in_size[0]])\n",
    "\n",
    "#Grab all the Rented For  entered into the size column:\n",
    "#(1) Enter them into the Rented For column\n",
    "#(2) Replace the Size  observation with \"unknown\"\n",
    "\n",
    "for i in rented_for_in_size:\n",
    "    df.at[i, \"Rented_for\"] = df[\"Size\"][i]\n",
    "    df.at[i, \"Size\"] = \"unknown\"\n",
    "\n",
    "print(\"This is one such observation AFTER transformation:\")\n",
    "\n",
    "print(f\"This is the Size entry for row {rented_for_in_size[0]}\")\n",
    "print(df[\"Size\"][rented_for_in_size[0]])\n",
    "print(f\"This is the Rented for entry for row {rented_for_in_size[0]}\")\n",
    "print(df[\"Rented_for\"][rented_for_in_size[0]]) "
   ]
  },
  {
   "cell_type": "code",
   "execution_count": 34,
   "id": "cfc7f895",
   "metadata": {},
   "outputs": [],
   "source": [
    "for i in range(df.shape[0]):\n",
    "    if \"Usually wears: \" in str(df[\"Rented_for\"][i]):\n",
    "        df.at[i, \"Rented_for\"] = \"unknown\""
   ]
  },
  {
   "cell_type": "code",
   "execution_count": 35,
   "id": "2c62a805",
   "metadata": {},
   "outputs": [],
   "source": [
    "df[\"Rented_for\"]=df[\"Rented_for\"].replace(\"Rented for: \",\"\", regex=True)"
   ]
  },
  {
   "cell_type": "code",
   "execution_count": 36,
   "id": "ee09e6f6",
   "metadata": {},
   "outputs": [],
   "source": [
    "df[\"Rented_for\"]=df[\"Rented_for\"].replace(\"Other\",\"unknown\", regex=True)"
   ]
  },
  {
   "cell_type": "code",
   "execution_count": 37,
   "id": "6c747c42",
   "metadata": {},
   "outputs": [
    {
     "data": {
      "text/plain": [
       "Work             41377\n",
       "Wedding          35523\n",
       "Everyday         30554\n",
       "Party            30544\n",
       "unknown          23917\n",
       "Formal Affair    17709\n",
       "Vacation         11497\n",
       "Date             11262\n",
       "Name: Rented_for, dtype: int64"
      ]
     },
     "execution_count": 37,
     "metadata": {},
     "output_type": "execute_result"
    }
   ],
   "source": [
    "#This should only have the rented for categories.\n",
    "df.Rented_for.value_counts()"
   ]
  },
  {
   "cell_type": "code",
   "execution_count": 38,
   "id": "74727b83",
   "metadata": {},
   "outputs": [],
   "source": [
    "#Clean up the Size data. Fix typos, European size, etc\n",
    "df[\"Size\"]=df[\"Size\"].replace(\"Size worn: \",\"\", regex=True)\n",
    "df[\"Size\"]=df[\"Size\"].replace(\"NONE\",\"unknown\", regex=True)\n",
    "df[\"Size\"]=df[\"Size\"].replace(\"None\",\"unknown\", regex=True)\n",
    "df[\"Size\"]=df[\"Size\"].replace(\"R\",\"\", regex=True)\n",
    "df[\"Size\"]=df[\"Size\"].replace(\"P-S\",\"SP\", regex=True)\n",
    "df[\"Size\"]=df[\"Size\"].replace(\"M-L\",\"L\", regex=True)\n",
    "df[\"Size\"]=df[\"Size\"].replace(\"8-10\",\"M\", regex=True)\n",
    "df[\"Size\"]=df[\"Size\"].replace(\"4-6\",\"S\", regex=True)\n",
    "df[\"Size\"]=df[\"Size\"].replace(\"0-2\",\"XS\", regex=True)\n",
    "df[\"Size\"]=df[\"Size\"].replace(\"14-16\",\"XL\", regex=True)\n",
    "df[\"Size\"]=df[\"Size\"].replace(\"XS-S\",\"S\", regex=True)\n",
    "df[\"Size\"]=df[\"Size\"].replace(\"14/16\",\"XL\", regex=True)\n",
    "df[\"Size\"]=df[\"Size\"].replace(\"18-20\",\"2XL\", regex=True)\n",
    "df[\"Size\"]=df[\"Size\"].replace(\"W\",\"\", regex=True)\n",
    "df[\"Size\"]=df[\"Size\"].replace(\"ONESIZE\",\"OneSize\", regex=True)\n",
    "df[\"Size\"]=df[\"Size\"].replace(\"12-14\",\"L\", regex=True)"
   ]
  },
  {
   "cell_type": "code",
   "execution_count": 39,
   "id": "89c61269",
   "metadata": {},
   "outputs": [],
   "source": [
    "#Fix the typo in \"Size_usually_worn column\"\n",
    "df[\"Size_usually_worn\"]=df[\"Size_usually_worn\"].replace(\"GOO4\",\"unknown\", regex=True)\n"
   ]
  },
  {
   "cell_type": "code",
   "execution_count": 40,
   "id": "7f6099e9",
   "metadata": {},
   "outputs": [],
   "source": [
    "#Write a function that converts Heights entered as Feet and inches to just inches. \n",
    "def height_to_inches_convert(col):\n",
    "    \n",
    "    '''\n",
    "    function takes in column with feet and inches height format (e.g. 5 ' 5) and returns value in inches\n",
    "    col: value with initial string format\n",
    "    '''\n",
    "    \n",
    "    # extracting all numbers from the height column so split from special characters\n",
    "    \n",
    "    extract = col.str.extractall(\"(\\d+)\").reset_index()\n",
    "    \n",
    "    # 2 values come out: one for feet and one for inches\n",
    "    # isolate both using boolean filter: match column indicates first and second value extracted where ft is index 0\n",
    "    \n",
    "    ft = extract[\"match\"] == 0\n",
    "    inches = extract[\"match\"] == 1\n",
    "    \n",
    "    # using boolean filter to get ft, inches and then convert both to numeric\n",
    "    # ft value multiplied by 12 to convert to inches\n",
    "\n",
    "    ft_conversion = extract[ft].drop([\"level_0\", \"match\"], axis=1).reset_index(drop=True).apply(pd.to_numeric) * 12\n",
    "    inch_conversion = extract[inches].drop([\"level_0\", \"match\"], axis=1).reset_index(drop=True).apply(pd.to_numeric)\n",
    "    \n",
    "    # add both numbers for total height in inches\n",
    "    \n",
    "    return ft_conversion[0] + inch_conversion[0]\n"
   ]
  },
  {
   "cell_type": "code",
   "execution_count": 41,
   "id": "f8ab7918",
   "metadata": {},
   "outputs": [],
   "source": [
    "#Get rid of observations with unknown value Height Features \n",
    "df_unknowns = df[df[\"Height\"]==\"unknown\"] \n",
    "df = df.drop(df_unknowns.index, axis=0) \n",
    "df = df.reset_index()\n"
   ]
  },
  {
   "cell_type": "code",
   "execution_count": 42,
   "id": "f240cf60",
   "metadata": {},
   "outputs": [],
   "source": [
    "# Convert the Height from feet and inches to just inches. Recast as an integer. \n",
    "df[\"Height\"] = height_to_inches_convert(col=df[\"Height\"])\n",
    "df[\"Height\"]=df[\"Height\"].astype(\"int\")"
   ]
  },
  {
   "cell_type": "code",
   "execution_count": 43,
   "id": "4e996c3a",
   "metadata": {},
   "outputs": [],
   "source": [
    "df.drop(columns=\"index\",inplace=True)\n",
    "df.drop(columns=[\"Label6\",\"Label8\"],inplace=True)"
   ]
  },
  {
   "cell_type": "code",
   "execution_count": 44,
   "id": "3adad543",
   "metadata": {},
   "outputs": [],
   "source": [
    "#Get rid of observations with unknown Ages \n",
    "df_unknowns_age = df[df[\"Age\"]==\"unknown\"] \n",
    "df = df.drop(df_unknowns_age.index, axis=0) \n",
    "df = df.reset_index()\n",
    "df.drop(columns=\"index\",inplace=True)\n",
    "df[\"Age\"]=df[\"Age\"].astype(\"int\")\n"
   ]
  },
  {
   "cell_type": "code",
   "execution_count": 45,
   "id": "ad52ea0a",
   "metadata": {},
   "outputs": [],
   "source": [
    "#Get rid of observations with unknown Weights \n",
    "df_unknowns_weight = df[df[\"Weight\"]==\"unknown\"] \n",
    "df = df.drop(df_unknowns_weight.index, axis=0) \n",
    "df = df.reset_index()\n",
    "df.drop(columns=\"index\",inplace=True)\n",
    "df[\"Weight\"]=df[\"Weight\"].astype(\"int\")"
   ]
  },
  {
   "cell_type": "code",
   "execution_count": 46,
   "id": "3013d35f",
   "metadata": {},
   "outputs": [],
   "source": [
    "#Drop the height observation where the height is more than 80 inches. \n",
    "df.drop(df[df['Height'] > 80].index, inplace = True)\n",
    "#Drop the age observation where the weight is more than 80 years olds. \n",
    "df.drop(df[df['Age'] > 80].index, inplace = True)\n",
    "df = df.reset_index()\n",
    "df.drop(columns=\"index\",inplace=True)"
   ]
  },
  {
   "cell_type": "code",
   "execution_count": 47,
   "id": "78626c23",
   "metadata": {},
   "outputs": [
    {
     "data": {
      "text/plain": [
       "(161418, 18)"
      ]
     },
     "execution_count": 47,
     "metadata": {},
     "output_type": "execute_result"
    }
   ],
   "source": [
    "df.shape"
   ]
  },
  {
   "cell_type": "code",
   "execution_count": 48,
   "id": "190b54ed",
   "metadata": {},
   "outputs": [],
   "source": [
    "#Body Mass Index, or BMI, is a measurement of body fat based on height and weight.\n",
    "#It can be calculated using pounds and inches: BMI = (weight in pounds x 703) / (height in inches x height in inches).\n",
    "df[\"BMI\"] = (df[\"Weight\"]*703)/(df[\"Height\"]*df[\"Height\"])\n"
   ]
  },
  {
   "cell_type": "code",
   "execution_count": 50,
   "id": "cb754562",
   "metadata": {},
   "outputs": [
    {
     "data": {
      "text/plain": [
       "Type_of_Customer      0\n",
       "Size                  0\n",
       "Overall_fit           0\n",
       "Rented_for            0\n",
       "Size_usually_worn     0\n",
       "Height                0\n",
       "Age                   0\n",
       "Bust_size             0\n",
       "Body_type             0\n",
       "Weight                0\n",
       "Rating                0\n",
       "Date                  0\n",
       "Brand                 0\n",
       "Dress_Description     0\n",
       "Retail_price         89\n",
       "Rent_price           89\n",
       "Product_details       0\n",
       "Number_of_reviews     0\n",
       "BMI                   0\n",
       "dtype: int64"
      ]
     },
     "execution_count": 50,
     "metadata": {},
     "output_type": "execute_result"
    }
   ],
   "source": [
    "#check that there are no nulls in customer description features. \n",
    "df.isnull().sum()"
   ]
  },
  {
   "cell_type": "code",
   "execution_count": 51,
   "id": "feb6a79a",
   "metadata": {},
   "outputs": [],
   "source": [
    "#Export as an excel file \n",
    "df.to_csv('../Data/df_customer_data_cleaned.csv', header=True, index=False)"
   ]
  },
  {
   "cell_type": "markdown",
   "id": "8030709c",
   "metadata": {},
   "source": [
    "<font style=\"font-size: 2rem; color: blue\">\n",
    "\n",
    "3. Clean Garment Description Data \n",
    "       \n",
    "</font>"
   ]
  },
  {
   "cell_type": "code",
   "execution_count": 55,
   "id": "54d44344",
   "metadata": {},
   "outputs": [],
   "source": [
    "df[\"Sleeves\"]=df[\"Sleeves\"].replace(\"elbow-length sleeve\",\"elbow-length sleeves\", regex=True)\n",
    "df[\"Sleeves\"]=df[\"Sleeves\"].replace(\"three sleeves\",\"three_quarter_sleeves\", regex=True)"
   ]
  },
  {
   "cell_type": "code",
   "execution_count": 56,
   "id": "b01db509",
   "metadata": {},
   "outputs": [],
   "source": [
    "#Condense the Sleeve Feature to a limited number of features. \n",
    "list_of_sleeves = [\"sleeveless\",\"long_sleeves\",\"short_sleeves\",\"three_quarter_sleeves\",\"cap_sleeves\",\n",
    "                    \"flutter_sleeves\",\"strapless\",\"halter\"]\n",
    "for i in range(df.shape[0]):\n",
    "    if str(df.at[i, \"Sleeves\"]) not in list_of_sleeves:\n",
    "        df.at[i, \"Sleeves\"] = \"other\""
   ]
  },
  {
   "cell_type": "code",
   "execution_count": 57,
   "id": "0c752a92",
   "metadata": {},
   "outputs": [
    {
     "data": {
      "text/plain": [
       "sleeveless               61444\n",
       "long_sleeves             36855\n",
       "short_sleeves            35701\n",
       "three_quarter_sleeves    12294\n",
       "cap_sleeves               6888\n",
       "flutter_sleeves           3760\n",
       "strapless                 3446\n",
       "other                      805\n",
       "halter                     282\n",
       "Name: Sleeves, dtype: int64"
      ]
     },
     "execution_count": 57,
     "metadata": {},
     "output_type": "execute_result"
    }
   ],
   "source": [
    "#These are the type of Sleeves\n",
    "df.Sleeves.value_counts()"
   ]
  },
  {
   "cell_type": "markdown",
   "id": "432f76c5",
   "metadata": {},
   "source": [
    "<font style=\"font-size: 2rem; color: blue\">\n",
    "\n",
    "3. Clean Garment Description Data \n",
    "<br> Neckline \n",
    "<br>– create a column for type of neckline on a garment. \n",
    "</font>"
   ]
  },
  {
   "cell_type": "code",
   "execution_count": 58,
   "id": "71dc86cc",
   "metadata": {},
   "outputs": [],
   "source": [
    "#This extracts the sleeve description from the item description. \n",
    "df[\"Neckline\"] = 1\n",
    "df[\"Neckline\"] = df[\"Neckline\"].astype('object')\n",
    "for i in range(df.shape[0]):\n",
    "    for k in reversed(range(len(df[\"Details\"][i]))):\n",
    "        if \"neck\" in df[\"Details\"][i][k].lower():\n",
    "            df.at[i, \"Neckline\"] = df[\"Details\"][i][k]\n",
    "            df[\"Details\"][i][k] = \"drop\""
   ]
  },
  {
   "cell_type": "code",
   "execution_count": 60,
   "id": "aeccb0f7",
   "metadata": {},
   "outputs": [],
   "source": [
    "#Condense the Neckline feature to a limited number of values\n",
    "list_of_necklines = [\"v_neckline\",\"crew_neckline\",\"high_neckline\",\"square_neckline\",\"off_shoulder\",\"shirt_collar_neckline\",\n",
    "                    \"sweetheart\",\"boat_neckline\",\"scoop_neckline\",\"turtleneck\",\"mock_neckline\",\"cowl_neckline\"]\n",
    "\n",
    "for i in range(df.shape[0]):\n",
    "    if str(df.at[i, \"Neckline\"]) not in list_of_necklines:\n",
    "        df.at[i, \"Neckline\"] = \"other\""
   ]
  },
  {
   "cell_type": "code",
   "execution_count": 61,
   "id": "a6a44e6e",
   "metadata": {},
   "outputs": [
    {
     "data": {
      "text/plain": [
       "v_neckline               54187\n",
       "crew_neckline            40485\n",
       "high_neckline            11327\n",
       "square_neckline          10072\n",
       "off_shoulder              8684\n",
       "other                     8130\n",
       "shirt_collar_neckline     5797\n",
       "sweetheart                5746\n",
       "boat_neckline             5197\n",
       "scoop_neckline            5082\n",
       "turtleneck                3049\n",
       "mock_neckline             2701\n",
       "cowl_neckline             1018\n",
       "Name: Neckline, dtype: int64"
      ]
     },
     "execution_count": 61,
     "metadata": {},
     "output_type": "execute_result"
    }
   ],
   "source": [
    "df.Neckline.value_counts()"
   ]
  },
  {
   "cell_type": "markdown",
   "id": "2d4cfc55",
   "metadata": {},
   "source": [
    "<font style=\"font-size: 2rem; color: blue\">\n",
    "\n",
    "3. Clean Garment Description Data \n",
    "<br> Dress Style\n",
    "<br>– create a column for type of dress of a garment. \n",
    "</font>"
   ]
  },
  {
   "cell_type": "code",
   "execution_count": 62,
   "id": "aac3ea0f",
   "metadata": {},
   "outputs": [],
   "source": [
    "for i in range(df.shape[0]):\n",
    "    clean_list=[]\n",
    "    for k in range(len(df[\"Details\"][i])):\n",
    "        if \"drop\" not in df[\"Details\"][i][k]:\n",
    "            clean_list.append(df[\"Details\"][i][k])\n",
    "    df.at[i, 'Details'] = clean_list"
   ]
  },
  {
   "cell_type": "code",
   "execution_count": 63,
   "id": "7e2e29e1",
   "metadata": {},
   "outputs": [],
   "source": [
    "#This extracts the dress style description from the item description. \n",
    "df[\"Dress_Style\"] = 1\n",
    "df[\"Dress_Style\"] = df[\"Dress_Style\"].astype('object')\n",
    "            \n",
    "for i in range(df.shape[0]):\n",
    "    if len(df[\"Details\"][i])>0:\n",
    "        df.at[i, \"Dress_Style\"] = df[\"Details\"][i][0]"
   ]
  },
  {
   "cell_type": "code",
   "execution_count": 64,
   "id": "18a75606",
   "metadata": {},
   "outputs": [],
   "source": [
    "#Clean up the typos in the Dress Feature \n",
    "for i in range(df.shape[0]):\n",
    "    if \"hourglass\" in str(df[\"Dress_Style\"][i]) or \"hpurglass\" in str(df[\"Dress_Style\"][i]) or \"hourgless\" in str(df[\"Dress_Style\"][i]) or \"houseglass\" in str(df[\"Dress_Style\"][i]):\n",
    "        df.at[i, \"Dress_Style\"] = \"hourglass\"\n",
    "    elif \"wrap\" in str(df[\"Dress_Style\"][i]):\n",
    "        df.at[i, \"Dress_Style\"] = \"wrap\"\n",
    "    elif \"maxi\" in str(df[\"Dress_Style\"][i]):\n",
    "        df.at[i, \"Dress_Style\"] = \"maxi\"\n",
    "    elif \"blouson\" in str(df[\"Dress_Style\"][i]) or \"blosuon\" in str(df[\"Dress_Style\"][i]):\n",
    "        df.at[i, \"Dress_Style\"] = \"blouson\"  \n",
    "    elif \"shirtdress\" in str(df[\"Dress_Style\"][i]) or \"shirt dress\" in str(df[\"Dress_Style\"][i]):\n",
    "        df.at[i, \"Dress_Style\"] = \"shirtdress\"   \n",
    "    elif \"sheath\" in str(df[\"Dress_Style\"][i]):\n",
    "        df.at[i, \"Dress_Style\"] = \"sheath\"   \n",
    "    elif \"a-line\" in str(df[\"Dress_Style\"][i]):\n",
    "        df.at[i, \"Dress_Style\"] = \"a-line\"  \n",
    "    elif \"empire\" in str(df[\"Dress_Style\"][i]):\n",
    "        df.at[i, \"Dress_Style\"] = \"empire_waist\"\n",
    "    elif \"gown\" in str(df[\"Dress_Style\"][i]):\n",
    "        df.at[i, \"Dress_Style\"] = \"gown\"    \n",
    "    elif \"shift\" in str(df[\"Dress_Style\"][i]):\n",
    "        df.at[i, \"Dress_Style\"] = \"shift\" \n",
    "    elif \"slip\" in str(df[\"Dress_Style\"][i]):\n",
    "        df.at[i, \"Dress_Style\"] = \"slip_dress\"  \n",
    "    elif \"lining: 80% nylon, 20% spandex\" in str(df[\"Dress_Style\"][i]) or \"three quarter sleeves\" in str(df[\"Dress_Style\"][i])  :\n",
    "        df.at[i, \"Dress_Style\"] = \"sheath\"\n",
    "    elif \"short sleeves with cold shoulder detail\" in str(df[\"Dress_Style\"][i]):\n",
    "        df.at[i, \"Dress_Style\"] = \"maxi\"  \n",
    "    elif \"sleeveless with shirt collar\" in str(df[\"Dress_Style\"][i]) or \"full skirt\" in str(df[\"Dress_Style\"][i]):\n",
    "        df.at[i, \"Dress_Style\"] = \"full skirt\" \n",
    "    elif \"fitted skirt\" in str(df[\"Dress_Style\"][i]):\n",
    "        df.at[i, \"Dress_Style\"] = \"fitted_skirt\"\n",
    "    elif \"mermaid\" in str(df[\"Dress_Style\"][i]):\n",
    "        df.at[i, \"Dress_Style\"] = \"mermaid\"   \n",
    "    "
   ]
  },
  {
   "cell_type": "code",
   "execution_count": 65,
   "id": "7377787d",
   "metadata": {},
   "outputs": [],
   "source": [
    "df[\"Dress_Style\"]=df[\"Dress_Style\"].replace(\"houseglass\",\"hourglass\", regex=True)\n"
   ]
  },
  {
   "cell_type": "code",
   "execution_count": 66,
   "id": "c247c198",
   "metadata": {},
   "outputs": [],
   "source": [
    "#Condense the Dress_Style Feature to a limited number of values \n",
    "list_of_dress_styles = [\"hourglass\",\"sheath\",\"shift\",\"gown\",\n",
    "                    \"maxi\",\"full skirt\",\"wrap\",\"blouson\",\n",
    "                    \"fitted_skirt\",\"empire_waist\",\"a-line\"]\n",
    "\n",
    "for i in range(df.shape[0]):\n",
    "    if str(df.at[i, \"Dress_Style\"]) not in list_of_dress_styles:\n",
    "        df.at[i, \"Dress_Style\"] = \"other\""
   ]
  },
  {
   "cell_type": "code",
   "execution_count": 67,
   "id": "a950b976",
   "metadata": {},
   "outputs": [
    {
     "data": {
      "text/plain": [
       "hourglass       55715\n",
       "sheath          44857\n",
       "shift           15024\n",
       "gown            10795\n",
       "maxi             7819\n",
       "full skirt       7028\n",
       "other            6970\n",
       "wrap             6132\n",
       "blouson          2994\n",
       "fitted_skirt     1839\n",
       "empire_waist     1264\n",
       "a-line           1038\n",
       "Name: Dress_Style, dtype: int64"
      ]
     },
     "execution_count": 67,
     "metadata": {},
     "output_type": "execute_result"
    }
   ],
   "source": [
    "#These are all the different dress styles \n",
    "df.Dress_Style.value_counts()"
   ]
  },
  {
   "cell_type": "code",
   "execution_count": 68,
   "id": "be967056",
   "metadata": {},
   "outputs": [],
   "source": [
    "#Drop the height observation where the height is more than 80 inches. \n",
    "df.drop(df[df['Height'] > 80].index, inplace = True)\n",
    "#Drop the age observation where the weight is more than 80 years olds. \n",
    "df.drop(df[df['Age'] > 80].index, inplace = True)\n",
    "df = df.reset_index()\n",
    "df.drop(columns=\"index\",inplace=True)"
   ]
  },
  {
   "cell_type": "code",
   "execution_count": 69,
   "id": "90ce0ee0",
   "metadata": {},
   "outputs": [],
   "source": [
    "#Body Mass Index, or BMI, is a measurement of body fat based on height and weight.\n",
    "#It can be calculated using pounds and inches: BMI = (weight in pounds x 703) / (height in inches x height in inches).\n",
    "df[\"BMI\"] = (df[\"Weight\"]*703)/(df[\"Height\"]*df[\"Height\"])\n",
    "#Export as an excel file \n",
    "df.to_csv('../Data/df_clean.csv', header=True, index=False)"
   ]
  },
  {
   "cell_type": "code",
   "execution_count": 70,
   "id": "c93aedae",
   "metadata": {},
   "outputs": [
    {
     "data": {
      "text/plain": [
       "(161329, 23)"
      ]
     },
     "execution_count": 70,
     "metadata": {},
     "output_type": "execute_result"
    }
   ],
   "source": [
    "#This is the size of the data set after all the cleaning. \n",
    "df.shape"
   ]
  },
  {
   "cell_type": "code",
   "execution_count": 71,
   "id": "c60bdfa9",
   "metadata": {},
   "outputs": [],
   "source": [
    "#df.drop(columns=[\"Details\",'Product_details'],inplace=True)"
   ]
  },
  {
   "cell_type": "code",
   "execution_count": 73,
   "id": "3733ff5a",
   "metadata": {},
   "outputs": [],
   "source": [
    "#Export as an excel file \n",
    "df.to_csv('../Data/df_clean.csv', header=True, index=False)"
   ]
  },
  {
   "cell_type": "code",
   "execution_count": null,
   "id": "21be3671",
   "metadata": {},
   "outputs": [],
   "source": []
  }
 ],
 "metadata": {
  "kernelspec": {
   "display_name": "Python 3 (ipykernel)",
   "language": "python",
   "name": "python3"
  },
  "language_info": {
   "codemirror_mode": {
    "name": "ipython",
    "version": 3
   },
   "file_extension": ".py",
   "mimetype": "text/x-python",
   "name": "python",
   "nbconvert_exporter": "python",
   "pygments_lexer": "ipython3",
   "version": "3.9.11"
  }
 },
 "nbformat": 4,
 "nbformat_minor": 5
}
