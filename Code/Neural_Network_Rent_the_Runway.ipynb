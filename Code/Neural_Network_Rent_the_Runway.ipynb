{
 "cells": [
  {
   "cell_type": "markdown",
   "id": "e0e01fd5",
   "metadata": {},
   "source": [
    "\n",
    "# Predicting Customer Satisfaction on Rent the Runway\n",
    "\n",
    "## III. Modeling (Neural Network) \n",
    "### Katrin Ayrapetov\n",
    "\n",
    "\n",
    "<font style=\"font-size: 2rem; color: blue\">\n",
    "\n",
    "\n",
    " \n",
    "</font>"
   ]
  },
  {
   "cell_type": "code",
   "execution_count": 23,
   "id": "db9f0369",
   "metadata": {},
   "outputs": [],
   "source": [
    "import pandas as pd\n",
    "import numpy as np\n",
    "import seaborn as sns\n",
    "import xgboost as xgb\n",
    "from sklearn.metrics import accuracy_score, recall_score, precision_score, roc_auc_score, balanced_accuracy_score, ConfusionMatrixDisplay\n",
    "import warnings\n",
    "warnings.filterwarnings('ignore')\n",
    "import os\n",
    "import gc\n",
    "import joblib\n",
    "import pandas as pd\n",
    "import numpy as np\n",
    "from sklearn import metrics, preprocessing\n",
    "from tensorflow.keras import layers\n",
    "from tensorflow.keras import optimizers\n",
    "from tensorflow.keras.models import Model, load_model\n",
    "from tensorflow.keras import callbacks\n",
    "from tensorflow.keras import backend as K\n",
    "from tensorflow.keras import utils\n",
    "from sklearn import model_selection"
   ]
  },
  {
   "cell_type": "code",
   "execution_count": null,
   "id": "45c4495b",
   "metadata": {},
   "outputs": [],
   "source": [
    "from numpy.random import seed\n",
    "seed(42)"
   ]
  },
  {
   "cell_type": "code",
   "execution_count": 24,
   "id": "4476bb81",
   "metadata": {},
   "outputs": [],
   "source": [
    "#Import the Data Set \n",
    "df =  pd.read_csv('../Data/df_clean.csv')"
   ]
  },
  {
   "cell_type": "code",
   "execution_count": 25,
   "id": "ec3edefb",
   "metadata": {},
   "outputs": [],
   "source": [
    "#Binarize the Predictor Variable: Satisfaction Rating \n",
    "# 1: Not Satisfied with Rental (Satisfaction Rating of 1,2,3) \n",
    "# 0: Satisfied with Rental (Satisfaction Rating 4,5)\n",
    "df['Rating'] = np.where(df['Rating'] <= 3, 1, 0)"
   ]
  },
  {
   "cell_type": "code",
   "execution_count": 26,
   "id": "b79f85cc",
   "metadata": {},
   "outputs": [
    {
     "data": {
      "text/plain": [
       "0    0.833589\n",
       "1    0.166411\n",
       "Name: Rating, dtype: float64"
      ]
     },
     "execution_count": 26,
     "metadata": {},
     "output_type": "execute_result"
    }
   ],
   "source": [
    "#We are dealing with an unbalanced class. \n",
    "df[\"Rating\"].value_counts(normalize=True)"
   ]
  },
  {
   "cell_type": "code",
   "execution_count": 27,
   "id": "6e5c4fbf",
   "metadata": {},
   "outputs": [],
   "source": [
    "#Create a target variable vector. \n",
    "y = df.Rating.values"
   ]
  },
  {
   "cell_type": "code",
   "execution_count": 28,
   "id": "cfb1a5ec",
   "metadata": {},
   "outputs": [],
   "source": [
    "#Because the target class is unbalanced, use the k-fold method to create 5 k-folds. \n",
    "\n",
    "#initiate the kfold class from model_selection module\n",
    "#The folds are made by preserving the percentage of samples for each class.\n",
    "kf = model_selection.StratifiedKFold(n_splits=5)\n",
    "\n",
    "#Create a column to hold kfold labels \n",
    "df[\"kfold\"] = -1\n",
    "\n",
    "#Reshuffle the rows. \n",
    "df = df.sample(frac=1).reset_index(drop=True)\n",
    "\n",
    "for f, (t_,v_) in enumerate(kf.split(X=df,y=y)):\n",
    "    df.loc[v_,\"kfold\"] = f"
   ]
  },
  {
   "cell_type": "code",
   "execution_count": 29,
   "id": "fa3c7104",
   "metadata": {},
   "outputs": [
    {
     "data": {
      "text/plain": [
       "0    32266\n",
       "1    32266\n",
       "2    32266\n",
       "3    32266\n",
       "4    32265\n",
       "Name: kfold, dtype: int64"
      ]
     },
     "execution_count": 29,
     "metadata": {},
     "output_type": "execute_result"
    }
   ],
   "source": [
    "#Check that the same number of observations is in each fold. \n",
    "df.kfold.value_counts()"
   ]
  },
  {
   "cell_type": "code",
   "execution_count": 30,
   "id": "2a757c41",
   "metadata": {},
   "outputs": [
    {
     "name": "stdout",
     "output_type": "stream",
     "text": [
      "fold: k = 0\n",
      "0    0.831835\n",
      "1    0.168165\n",
      "Name: Rating, dtype: float64\n",
      "fold: k = 1\n",
      "0    0.834129\n",
      "1    0.165871\n",
      "Name: Rating, dtype: float64\n",
      "fold: k = 2\n",
      "0    0.834098\n",
      "1    0.165902\n",
      "Name: Rating, dtype: float64\n",
      "fold: k = 3\n",
      "0    0.834222\n",
      "1    0.165778\n",
      "Name: Rating, dtype: float64\n",
      "fold: k = 4\n",
      "0    0.833659\n",
      "1    0.166341\n",
      "Name: Rating, dtype: float64\n"
     ]
    }
   ],
   "source": [
    "#Check that the target variable has the same distribution  the same in each fold. \n",
    "for k in range(5):\n",
    "    print(f\"fold: k = {k}\")\n",
    "    print(df[df.kfold==k].Rating.value_counts(normalize=True))"
   ]
  },
  {
   "cell_type": "code",
   "execution_count": 31,
   "id": "21415bca",
   "metadata": {},
   "outputs": [],
   "source": [
    "#Drop Unnecessary Columns \n",
    "df.drop(columns=[\"Brand\",\"Dress_Description\",\"Details\",\"Product_details\",\"Retail_price\"],inplace=True)\n",
    "df.dropna(inplace=True)"
   ]
  },
  {
   "cell_type": "code",
   "execution_count": 32,
   "id": "20214ce0",
   "metadata": {},
   "outputs": [],
   "source": [
    "#Convert the numeric columns to categories split along the 10 percentiles.\n",
    "num_columns = ['Height', 'Age','Weight','Number_of_reviews','Rent_price']\n",
    "for column in num_columns: \n",
    "    df[f\"{column}_binned\"] = pd.qcut(x = df[column], q = 10, labels=False, retbins=False, precision=3, duplicates='drop')"
   ]
  },
  {
   "cell_type": "code",
   "execution_count": 33,
   "id": "5d48549e",
   "metadata": {},
   "outputs": [
    {
     "data": {
      "text/html": [
       "<div>\n",
       "<style scoped>\n",
       "    .dataframe tbody tr th:only-of-type {\n",
       "        vertical-align: middle;\n",
       "    }\n",
       "\n",
       "    .dataframe tbody tr th {\n",
       "        vertical-align: top;\n",
       "    }\n",
       "\n",
       "    .dataframe thead th {\n",
       "        text-align: right;\n",
       "    }\n",
       "</style>\n",
       "<table border=\"1\" class=\"dataframe\">\n",
       "  <thead>\n",
       "    <tr style=\"text-align: right;\">\n",
       "      <th></th>\n",
       "      <th>Label</th>\n",
       "      <th>Size</th>\n",
       "      <th>Overall_fit</th>\n",
       "      <th>Rented_for</th>\n",
       "      <th>Size_usually_worn</th>\n",
       "      <th>Height</th>\n",
       "      <th>Age</th>\n",
       "      <th>Bust_size</th>\n",
       "      <th>Body_type</th>\n",
       "      <th>Weight</th>\n",
       "      <th>...</th>\n",
       "      <th>Sleeves</th>\n",
       "      <th>Neckline</th>\n",
       "      <th>Dress_Style</th>\n",
       "      <th>BMI</th>\n",
       "      <th>kfold</th>\n",
       "      <th>Height_binned</th>\n",
       "      <th>Age_binned</th>\n",
       "      <th>Weight_binned</th>\n",
       "      <th>Number_of_reviews_binned</th>\n",
       "      <th>Rent_price_binned</th>\n",
       "    </tr>\n",
       "  </thead>\n",
       "  <tbody>\n",
       "    <tr>\n",
       "      <th>0</th>\n",
       "      <td>TOP CONTRIBUTOR</td>\n",
       "      <td>XS</td>\n",
       "      <td>unknown</td>\n",
       "      <td>Party</td>\n",
       "      <td>0</td>\n",
       "      <td>64</td>\n",
       "      <td>31</td>\n",
       "      <td>32D</td>\n",
       "      <td>hourglass</td>\n",
       "      <td>110</td>\n",
       "      <td>...</td>\n",
       "      <td>sleeveless</td>\n",
       "      <td>other</td>\n",
       "      <td>hourglass</td>\n",
       "      <td>18.879395</td>\n",
       "      <td>0</td>\n",
       "      <td>2</td>\n",
       "      <td>2</td>\n",
       "      <td>0</td>\n",
       "      <td>5</td>\n",
       "      <td>3</td>\n",
       "    </tr>\n",
       "    <tr>\n",
       "      <th>1</th>\n",
       "      <td>unknown</td>\n",
       "      <td>L</td>\n",
       "      <td>Overall fit: Small</td>\n",
       "      <td>Party</td>\n",
       "      <td>6</td>\n",
       "      <td>64</td>\n",
       "      <td>24</td>\n",
       "      <td>36B</td>\n",
       "      <td>athletic</td>\n",
       "      <td>150</td>\n",
       "      <td>...</td>\n",
       "      <td>sleeveless</td>\n",
       "      <td>square_neckline</td>\n",
       "      <td>sheath</td>\n",
       "      <td>25.744629</td>\n",
       "      <td>0</td>\n",
       "      <td>2</td>\n",
       "      <td>0</td>\n",
       "      <td>6</td>\n",
       "      <td>0</td>\n",
       "      <td>1</td>\n",
       "    </tr>\n",
       "    <tr>\n",
       "      <th>2</th>\n",
       "      <td>TOP CONTRIBUTOR</td>\n",
       "      <td>12</td>\n",
       "      <td>Overall fit: True to Size</td>\n",
       "      <td>Wedding</td>\n",
       "      <td>14</td>\n",
       "      <td>67</td>\n",
       "      <td>59</td>\n",
       "      <td>38D</td>\n",
       "      <td>pear</td>\n",
       "      <td>185</td>\n",
       "      <td>...</td>\n",
       "      <td>short_sleeves</td>\n",
       "      <td>square_neckline</td>\n",
       "      <td>gown</td>\n",
       "      <td>28.971931</td>\n",
       "      <td>0</td>\n",
       "      <td>5</td>\n",
       "      <td>9</td>\n",
       "      <td>9</td>\n",
       "      <td>2</td>\n",
       "      <td>4</td>\n",
       "    </tr>\n",
       "    <tr>\n",
       "      <th>3</th>\n",
       "      <td>unknown</td>\n",
       "      <td>XS</td>\n",
       "      <td>unknown</td>\n",
       "      <td>Party</td>\n",
       "      <td>0</td>\n",
       "      <td>62</td>\n",
       "      <td>36</td>\n",
       "      <td>34D</td>\n",
       "      <td>athletic</td>\n",
       "      <td>120</td>\n",
       "      <td>...</td>\n",
       "      <td>long_sleeves</td>\n",
       "      <td>v_neckline</td>\n",
       "      <td>wrap</td>\n",
       "      <td>21.945890</td>\n",
       "      <td>0</td>\n",
       "      <td>0</td>\n",
       "      <td>4</td>\n",
       "      <td>1</td>\n",
       "      <td>5</td>\n",
       "      <td>0</td>\n",
       "    </tr>\n",
       "    <tr>\n",
       "      <th>4</th>\n",
       "      <td>unknown</td>\n",
       "      <td>unknown</td>\n",
       "      <td>Overall fit: Small</td>\n",
       "      <td>Party</td>\n",
       "      <td>10</td>\n",
       "      <td>61</td>\n",
       "      <td>63</td>\n",
       "      <td>36C</td>\n",
       "      <td>petite</td>\n",
       "      <td>140</td>\n",
       "      <td>...</td>\n",
       "      <td>sleeveless</td>\n",
       "      <td>other</td>\n",
       "      <td>sheath</td>\n",
       "      <td>26.449879</td>\n",
       "      <td>0</td>\n",
       "      <td>0</td>\n",
       "      <td>9</td>\n",
       "      <td>4</td>\n",
       "      <td>6</td>\n",
       "      <td>0</td>\n",
       "    </tr>\n",
       "  </tbody>\n",
       "</table>\n",
       "<p>5 rows × 24 columns</p>\n",
       "</div>"
      ],
      "text/plain": [
       "             Label     Size                Overall_fit Rented_for  \\\n",
       "0  TOP CONTRIBUTOR       XS                    unknown      Party   \n",
       "1          unknown        L         Overall fit: Small      Party   \n",
       "2  TOP CONTRIBUTOR       12  Overall fit: True to Size    Wedding   \n",
       "3          unknown       XS                    unknown      Party   \n",
       "4          unknown  unknown         Overall fit: Small      Party   \n",
       "\n",
       "  Size_usually_worn  Height  Age Bust_size  Body_type  Weight  ...  \\\n",
       "0                 0      64   31       32D  hourglass     110  ...   \n",
       "1                 6      64   24       36B   athletic     150  ...   \n",
       "2                14      67   59       38D       pear     185  ...   \n",
       "3                 0      62   36       34D   athletic     120  ...   \n",
       "4                10      61   63       36C     petite     140  ...   \n",
       "\n",
       "         Sleeves         Neckline  Dress_Style        BMI kfold Height_binned  \\\n",
       "0     sleeveless            other    hourglass  18.879395     0             2   \n",
       "1     sleeveless  square_neckline       sheath  25.744629     0             2   \n",
       "2  short_sleeves  square_neckline         gown  28.971931     0             5   \n",
       "3   long_sleeves       v_neckline         wrap  21.945890     0             0   \n",
       "4     sleeveless            other       sheath  26.449879     0             0   \n",
       "\n",
       "  Age_binned  Weight_binned  Number_of_reviews_binned  Rent_price_binned  \n",
       "0          2              0                         5                  3  \n",
       "1          0              6                         0                  1  \n",
       "2          9              9                         2                  4  \n",
       "3          4              1                         5                  0  \n",
       "4          9              4                         6                  0  \n",
       "\n",
       "[5 rows x 24 columns]"
      ]
     },
     "execution_count": 33,
     "metadata": {},
     "output_type": "execute_result"
    }
   ],
   "source": [
    "df.head()"
   ]
  },
  {
   "cell_type": "code",
   "execution_count": 34,
   "id": "cac2e955",
   "metadata": {},
   "outputs": [],
   "source": [
    "# This function creates the Neural Network model using Entity embedding. \n",
    "def create_model(data, catcols):\n",
    "    inputs = []\n",
    "    outputs = []\n",
    "    for c in catcols:\n",
    "        num_unique_values = int(data[c].nunique())\n",
    "        embed_dim = int(min(np.ceil((num_unique_values)/2), 50))\n",
    "        inp = layers.Input(shape=(1,))\n",
    "        out = layers.Embedding(num_unique_values + 1, embed_dim, name=c)(inp)\n",
    "        out = layers.SpatialDropout1D(0.3)(out)\n",
    "        out = layers.Reshape(target_shape=(embed_dim, ))(out)\n",
    "        inputs.append(inp)\n",
    "        outputs.append(out)\n",
    "    x = layers.Concatenate()(outputs)\n",
    "    x = layers.BatchNormalization()(x)\n",
    "    x = layers.Dense(45, activation=\"relu\")(x)\n",
    "    x = layers.Dropout(0.3)(x)\n",
    "    x = layers.BatchNormalization()(x)\n",
    "    x = layers.Dense(45, activation=\"relu\")(x)\n",
    "    x = layers.Dropout(0.3)(x)\n",
    "    x = layers.BatchNormalization()(x)\n",
    "    y = layers.Dense(2, activation=\"softmax\")(x)\n",
    "    model = Model(inputs=inputs, outputs=y)\n",
    "    model.compile(loss='binary_crossentropy', optimizer='adam')\n",
    "    return model"
   ]
  },
  {
   "cell_type": "code",
   "execution_count": 35,
   "id": "4badbbbe",
   "metadata": {},
   "outputs": [],
   "source": [
    "# This function label encodes categorical features. It fits the training data with a model. \n",
    "# then uses the model to make predictions on the submissions data set. \n",
    "def neural_network_model(fold):\n",
    "   \n",
    "    #list of numeric columns \n",
    "    num_cols = [\"Height\",\"Age\",\"Weight\",\"Rent_price\",\"Number_of_reviews\",\"BMI\"]\n",
    "    #List of categorical columns \n",
    "    #cat_cols = [c for c in df.columns if c not in num_cols and c not in (\"kfold\", \"Rating\")]\n",
    "    #All columns are features except the target column and the kfold column \n",
    "    features = [c for c in df.columns if c not in num_cols and c not in (\"kfold\", \"Rating\")]\n",
    "\n",
    "    \n",
    "    #convert the categorical variables to strings\n",
    "    for col in features:\n",
    "        df.loc[:,col] = df[col].astype(str)  \n",
    "    #Use label encoder on categorical features. \n",
    "    for feat in features:\n",
    "        lbl_enc = preprocessing.LabelEncoder()\n",
    "        df.loc[:,feat]=lbl_enc.fit_transform(df[feat].values)\n",
    "    \n",
    "        \n",
    "    #Hold one of the five folds as validation set and four folds as training sets \n",
    "    df_train = df[df.kfold != fold].reset_index(drop=True)\n",
    "    df_valid = df[df.kfold == fold].reset_index(drop=True)\n",
    "    \n",
    "    model = create_model(df,features)\n",
    "    \n",
    "    # Features \n",
    "    xtrain = [\n",
    "     df_train[features].values[:, k] for k in range(len(features))\n",
    "    ]\n",
    "    xvalid = [\n",
    "    df_valid[features].values[:, k] for k in range(len(features))\n",
    "    ]\n",
    "\n",
    "    # get target columns\n",
    "    ytrain = df_train.Rating.values\n",
    "    yvalid = df_valid.Rating.values\n",
    "    \n",
    "    # convert target columns to categories\n",
    "\n",
    "    ytrain_cat = utils.to_categorical(ytrain)\n",
    "    yvalid_cat = utils.to_categorical(yvalid)\n",
    "    \n",
    "    # fit the model\n",
    "    model.fit(xtrain,\n",
    "    ytrain_cat,\n",
    "    validation_data=(xvalid, yvalid_cat),\n",
    "    verbose=0,\n",
    "    batch_size=32,\n",
    "    epochs=100)\n",
    "    \n",
    "    valid_preds = model.predict(xvalid)[:, 1]\n",
    "    auc = metrics.roc_auc_score(yvalid, valid_preds)\n",
    "    \n",
    "    \n",
    "    #accuracy = metrics.accuracy_score(df_valid.Rating.values, model.predict(xvalid))\n",
    "    #precision = metrics.precision_score(df_valid.Rating.values, model.predict(xvalid))\n",
    "    #recall= metrics.recall_score(df_valid.Rating.values, model.predict(xvalid))\n",
    "    #Ouput the Result\n",
    "    print(f\"Fold = {fold}, AUC = {auc}\")\n"
   ]
  },
  {
   "cell_type": "code",
   "execution_count": 36,
   "id": "2c681ac9",
   "metadata": {},
   "outputs": [
    {
     "name": "stdout",
     "output_type": "stream",
     "text": [
      "Fold = 0, AUC = 0.8150698869163926\n"
     ]
    }
   ],
   "source": [
    "neural_network_model(0)"
   ]
  },
  {
   "cell_type": "code",
   "execution_count": 39,
   "id": "9070300e",
   "metadata": {},
   "outputs": [
    {
     "name": "stdout",
     "output_type": "stream",
     "text": [
      "Fold = 1, AUC = 0.820219173305484\n"
     ]
    }
   ],
   "source": [
    "neural_network_model(1)"
   ]
  },
  {
   "cell_type": "code",
   "execution_count": 40,
   "id": "afdc8991",
   "metadata": {},
   "outputs": [
    {
     "name": "stdout",
     "output_type": "stream",
     "text": [
      "Fold = 1, AUC = 0.8214968512894917\n"
     ]
    }
   ],
   "source": [
    "neural_network_model(1)"
   ]
  },
  {
   "cell_type": "code",
   "execution_count": 41,
   "id": "fe6c5a2e",
   "metadata": {},
   "outputs": [
    {
     "name": "stdout",
     "output_type": "stream",
     "text": [
      "Fold = 2, AUC = 0.816405189038978\n"
     ]
    }
   ],
   "source": [
    "neural_network_model(2)"
   ]
  },
  {
   "cell_type": "code",
   "execution_count": 42,
   "id": "b9ba7e02",
   "metadata": {},
   "outputs": [
    {
     "name": "stdout",
     "output_type": "stream",
     "text": [
      "Fold = 3, AUC = 0.8199337225719525\n"
     ]
    }
   ],
   "source": [
    "neural_network_model(3)"
   ]
  },
  {
   "cell_type": "code",
   "execution_count": 43,
   "id": "6c0dba1f",
   "metadata": {},
   "outputs": [
    {
     "name": "stdout",
     "output_type": "stream",
     "text": [
      "Fold = 4, AUC = 0.8163311348395874\n"
     ]
    }
   ],
   "source": [
    "neural_network_model(4)"
   ]
  },
  {
   "cell_type": "code",
   "execution_count": 44,
   "id": "193098ce",
   "metadata": {},
   "outputs": [
    {
     "ename": "ValueError",
     "evalue": "zero-size array to reduction operation maximum which has no identity",
     "output_type": "error",
     "traceback": [
      "\u001b[1;31m---------------------------------------------------------------------------\u001b[0m",
      "\u001b[1;31mValueError\u001b[0m                                Traceback (most recent call last)",
      "Input \u001b[1;32mIn [44]\u001b[0m, in \u001b[0;36m<cell line: 1>\u001b[1;34m()\u001b[0m\n\u001b[1;32m----> 1\u001b[0m \u001b[43mneural_network_model\u001b[49m\u001b[43m(\u001b[49m\u001b[38;5;241;43m5\u001b[39;49m\u001b[43m)\u001b[49m\n",
      "Input \u001b[1;32mIn [35]\u001b[0m, in \u001b[0;36mneural_network_model\u001b[1;34m(fold)\u001b[0m\n\u001b[0;32m     40\u001b[0m \u001b[38;5;66;03m# convert target columns to categories\u001b[39;00m\n\u001b[0;32m     42\u001b[0m ytrain_cat \u001b[38;5;241m=\u001b[39m utils\u001b[38;5;241m.\u001b[39mto_categorical(ytrain)\n\u001b[1;32m---> 43\u001b[0m yvalid_cat \u001b[38;5;241m=\u001b[39m \u001b[43mutils\u001b[49m\u001b[38;5;241;43m.\u001b[39;49m\u001b[43mto_categorical\u001b[49m\u001b[43m(\u001b[49m\u001b[43myvalid\u001b[49m\u001b[43m)\u001b[49m\n\u001b[0;32m     45\u001b[0m \u001b[38;5;66;03m# fit the model\u001b[39;00m\n\u001b[0;32m     46\u001b[0m model\u001b[38;5;241m.\u001b[39mfit(xtrain,\n\u001b[0;32m     47\u001b[0m ytrain_cat,\n\u001b[0;32m     48\u001b[0m validation_data\u001b[38;5;241m=\u001b[39m(xvalid, yvalid_cat),\n\u001b[0;32m     49\u001b[0m verbose\u001b[38;5;241m=\u001b[39m\u001b[38;5;241m0\u001b[39m,\n\u001b[0;32m     50\u001b[0m batch_size\u001b[38;5;241m=\u001b[39m\u001b[38;5;241m32\u001b[39m,\n\u001b[0;32m     51\u001b[0m epochs\u001b[38;5;241m=\u001b[39m\u001b[38;5;241m100\u001b[39m)\n",
      "File \u001b[1;32m~\\anaconda3\\envs\\tf-gpu\\lib\\site-packages\\tensorflow\\python\\keras\\utils\\np_utils.py:72\u001b[0m, in \u001b[0;36mto_categorical\u001b[1;34m(y, num_classes, dtype)\u001b[0m\n\u001b[0;32m     70\u001b[0m y \u001b[38;5;241m=\u001b[39m y\u001b[38;5;241m.\u001b[39mravel()\n\u001b[0;32m     71\u001b[0m \u001b[38;5;28;01mif\u001b[39;00m \u001b[38;5;129;01mnot\u001b[39;00m num_classes:\n\u001b[1;32m---> 72\u001b[0m   num_classes \u001b[38;5;241m=\u001b[39m \u001b[43mnp\u001b[49m\u001b[38;5;241;43m.\u001b[39;49m\u001b[43mmax\u001b[49m\u001b[43m(\u001b[49m\u001b[43my\u001b[49m\u001b[43m)\u001b[49m \u001b[38;5;241m+\u001b[39m \u001b[38;5;241m1\u001b[39m\n\u001b[0;32m     73\u001b[0m n \u001b[38;5;241m=\u001b[39m y\u001b[38;5;241m.\u001b[39mshape[\u001b[38;5;241m0\u001b[39m]\n\u001b[0;32m     74\u001b[0m categorical \u001b[38;5;241m=\u001b[39m np\u001b[38;5;241m.\u001b[39mzeros((n, num_classes), dtype\u001b[38;5;241m=\u001b[39mdtype)\n",
      "File \u001b[1;32m<__array_function__ internals>:180\u001b[0m, in \u001b[0;36mamax\u001b[1;34m(*args, **kwargs)\u001b[0m\n",
      "File \u001b[1;32m~\\AppData\\Roaming\\Python\\Python39\\site-packages\\numpy\\core\\fromnumeric.py:2791\u001b[0m, in \u001b[0;36mamax\u001b[1;34m(a, axis, out, keepdims, initial, where)\u001b[0m\n\u001b[0;32m   2675\u001b[0m \u001b[38;5;129m@array_function_dispatch\u001b[39m(_amax_dispatcher)\n\u001b[0;32m   2676\u001b[0m \u001b[38;5;28;01mdef\u001b[39;00m \u001b[38;5;21mamax\u001b[39m(a, axis\u001b[38;5;241m=\u001b[39m\u001b[38;5;28;01mNone\u001b[39;00m, out\u001b[38;5;241m=\u001b[39m\u001b[38;5;28;01mNone\u001b[39;00m, keepdims\u001b[38;5;241m=\u001b[39mnp\u001b[38;5;241m.\u001b[39m_NoValue, initial\u001b[38;5;241m=\u001b[39mnp\u001b[38;5;241m.\u001b[39m_NoValue,\n\u001b[0;32m   2677\u001b[0m          where\u001b[38;5;241m=\u001b[39mnp\u001b[38;5;241m.\u001b[39m_NoValue):\n\u001b[0;32m   2678\u001b[0m     \u001b[38;5;124;03m\"\"\"\u001b[39;00m\n\u001b[0;32m   2679\u001b[0m \u001b[38;5;124;03m    Return the maximum of an array or maximum along an axis.\u001b[39;00m\n\u001b[0;32m   2680\u001b[0m \n\u001b[1;32m   (...)\u001b[0m\n\u001b[0;32m   2789\u001b[0m \u001b[38;5;124;03m    5\u001b[39;00m\n\u001b[0;32m   2790\u001b[0m \u001b[38;5;124;03m    \"\"\"\u001b[39;00m\n\u001b[1;32m-> 2791\u001b[0m     \u001b[38;5;28;01mreturn\u001b[39;00m \u001b[43m_wrapreduction\u001b[49m\u001b[43m(\u001b[49m\u001b[43ma\u001b[49m\u001b[43m,\u001b[49m\u001b[43m \u001b[49m\u001b[43mnp\u001b[49m\u001b[38;5;241;43m.\u001b[39;49m\u001b[43mmaximum\u001b[49m\u001b[43m,\u001b[49m\u001b[43m \u001b[49m\u001b[38;5;124;43m'\u001b[39;49m\u001b[38;5;124;43mmax\u001b[39;49m\u001b[38;5;124;43m'\u001b[39;49m\u001b[43m,\u001b[49m\u001b[43m \u001b[49m\u001b[43maxis\u001b[49m\u001b[43m,\u001b[49m\u001b[43m \u001b[49m\u001b[38;5;28;43;01mNone\u001b[39;49;00m\u001b[43m,\u001b[49m\u001b[43m \u001b[49m\u001b[43mout\u001b[49m\u001b[43m,\u001b[49m\n\u001b[0;32m   2792\u001b[0m \u001b[43m                          \u001b[49m\u001b[43mkeepdims\u001b[49m\u001b[38;5;241;43m=\u001b[39;49m\u001b[43mkeepdims\u001b[49m\u001b[43m,\u001b[49m\u001b[43m \u001b[49m\u001b[43minitial\u001b[49m\u001b[38;5;241;43m=\u001b[39;49m\u001b[43minitial\u001b[49m\u001b[43m,\u001b[49m\u001b[43m \u001b[49m\u001b[43mwhere\u001b[49m\u001b[38;5;241;43m=\u001b[39;49m\u001b[43mwhere\u001b[49m\u001b[43m)\u001b[49m\n",
      "File \u001b[1;32m~\\AppData\\Roaming\\Python\\Python39\\site-packages\\numpy\\core\\fromnumeric.py:86\u001b[0m, in \u001b[0;36m_wrapreduction\u001b[1;34m(obj, ufunc, method, axis, dtype, out, **kwargs)\u001b[0m\n\u001b[0;32m     83\u001b[0m         \u001b[38;5;28;01melse\u001b[39;00m:\n\u001b[0;32m     84\u001b[0m             \u001b[38;5;28;01mreturn\u001b[39;00m reduction(axis\u001b[38;5;241m=\u001b[39maxis, out\u001b[38;5;241m=\u001b[39mout, \u001b[38;5;241m*\u001b[39m\u001b[38;5;241m*\u001b[39mpasskwargs)\n\u001b[1;32m---> 86\u001b[0m \u001b[38;5;28;01mreturn\u001b[39;00m ufunc\u001b[38;5;241m.\u001b[39mreduce(obj, axis, dtype, out, \u001b[38;5;241m*\u001b[39m\u001b[38;5;241m*\u001b[39mpasskwargs)\n",
      "\u001b[1;31mValueError\u001b[0m: zero-size array to reduction operation maximum which has no identity"
     ]
    }
   ],
   "source": [
    "neural_network_model(5)"
   ]
  },
  {
   "cell_type": "code",
   "execution_count": null,
   "id": "58feedd7",
   "metadata": {},
   "outputs": [],
   "source": [
    "        for n in numcols:\n",
    "        inp = layers.Input(shape=(1,))\n",
    "        out = layers.Input(shape=(1,))\n",
    "        inputs.append(inp)\n",
    "        outputs.append(out)\n",
    "        "
   ]
  },
  {
   "cell_type": "code",
   "execution_count": null,
   "id": "7dbfaaf7",
   "metadata": {},
   "outputs": [],
   "source": []
  }
 ],
 "metadata": {
  "kernelspec": {
   "display_name": "Python 3 (ipykernel)",
   "language": "python",
   "name": "python3"
  },
  "language_info": {
   "codemirror_mode": {
    "name": "ipython",
    "version": 3
   },
   "file_extension": ".py",
   "mimetype": "text/x-python",
   "name": "python",
   "nbconvert_exporter": "python",
   "pygments_lexer": "ipython3",
   "version": "3.9.11"
  }
 },
 "nbformat": 4,
 "nbformat_minor": 5
}
