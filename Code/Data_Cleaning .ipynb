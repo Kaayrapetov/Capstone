{
 "cells": [
  {
   "cell_type": "markdown",
   "id": "f74481f8",
   "metadata": {},
   "source": []
  },
  {
   "cell_type": "markdown",
   "id": "192b6723",
   "metadata": {},
   "source": [
    "\n",
    "\n",
    "<font style=\"font-size: 2rem; color: blue\">\n",
    "\n",
    "1.\tImport Libraries and the Data \n",
    "2.  Clean Customer Features \n",
    "3.  Clean Garment Description Data\n",
    "       \n",
    "</font>\n",
    "\n"
   ]
  },
  {
   "cell_type": "code",
   "execution_count": 1,
   "id": "06831f85",
   "metadata": {},
   "outputs": [],
   "source": [
    "#Import the necessary libraries. \n",
    "import pandas as pd\n",
    "import matplotlib.pyplot as plt\n",
    "import numpy as np\n",
    "import re\n",
    "pd.set_option(\"display.max_columns\",None)\n",
    "pd.set_option(\"display.max_rows\",None)"
   ]
  },
  {
   "cell_type": "code",
   "execution_count": 2,
   "id": "81804f02",
   "metadata": {},
   "outputs": [],
   "source": [
    "#Import the Data Set \n",
    "df1 =  pd.read_csv('Raw_Data_Rent_the_Runway(1).csv')\n",
    "df2 =  pd.read_csv('Raw_Data_Rent_the_Runway(2).csv')\n",
    "df3 =  pd.read_csv('Raw_Data_Rent_the_Runway(3).csv')\n",
    "df4 =  pd.read_csv('Raw_Data_Rent_the_Runway(4).csv')\n",
    "df5 =  pd.read_csv('Raw_Data_Rent_the_Runway(5).csv')\n",
    "df6 =  pd.read_csv('Raw_Data_Rent_the_Runway(6).csv')\n",
    "df7 =  pd.read_csv('Raw_Data_Rent_the_Runway(7).csv')\n",
    "df8 =  pd.read_csv('Raw_Data_Rent_the_Runway(8).csv')\n",
    "df9 =  pd.read_csv('Raw_Data_Rent_the_Runway(9).csv')\n",
    "df10 =  pd.read_csv('Raw_Data_Rent_the_Runway(10).csv')\n",
    "df11 =  pd.read_csv('Raw_Data_Rent_the_Runway(11).csv')"
   ]
  },
  {
   "cell_type": "code",
   "execution_count": 3,
   "id": "70945775",
   "metadata": {},
   "outputs": [],
   "source": [
    "#Join all the data sets into one data set \n",
    "df = pd.concat([df1, df2,df3,df4,df5,df6,df7,df8,df9,df10,df11])\n",
    "df = df.reset_index(drop=True)"
   ]
  },
  {
   "cell_type": "code",
   "execution_count": 4,
   "id": "8267dbea",
   "metadata": {},
   "outputs": [
    {
     "data": {
      "text/plain": [
       "(208474, 24)"
      ]
     },
     "execution_count": 4,
     "metadata": {},
     "output_type": "execute_result"
    }
   ],
   "source": [
    "#The data set has 24 features and 208,474 observations. \n",
    "df.shape"
   ]
  },
  {
   "cell_type": "code",
   "execution_count": 5,
   "id": "2509f202",
   "metadata": {},
   "outputs": [
    {
     "data": {
      "text/plain": [
       "[1, 45, 200, 1100, 6565, 7500]"
      ]
     },
     "execution_count": 5,
     "metadata": {},
     "output_type": "execute_result"
    }
   ],
   "source": [
    "#Create a checklist which will be used to make sure the cleaning is fone correctly. \n",
    "check_list=[1,45,200,1100,6565,7500]\n",
    "check_list"
   ]
  },
  {
   "cell_type": "code",
   "execution_count": 6,
   "id": "f16ab31a",
   "metadata": {},
   "outputs": [],
   "source": [
    "#Rename the columns \n",
    "df.columns = [\"title_of_review\",\"image\",\"Nickname\",\"Label\",\n",
    "              \"Size\",\"Overall_fit\",\"Rented_for\",\"Size_usually_worn\",\n",
    "              \"Height\",\"Age\",\"Label6\",\"Bust_size\",\"Label8\",\"Body_type\",\n",
    "              \"Weight\",\"Rating\",\"Date\",\"Review_body\",\"Brand\",\"Dress_Description\",\"Retail_price\",\n",
    "              \"Rent_price\",\"Product_details\",\"Number_of_reviews\"]\n",
    "#Drop columns that are not using \n",
    "df.drop(columns = [\"title_of_review\",\"image\",\"Nickname\",\"Date\",\"Review_body\",\"Label\"],inplace=True)"
   ]
  },
  {
   "cell_type": "markdown",
   "id": "34a290d2",
   "metadata": {},
   "source": [
    "\n",
    "<font style=\"font-size: 2rem; color: blue\">\n",
    "\n",
    "2. Clean Features: \n",
    "<br>\n",
    "<br>Number of Reviews, Ratings, Retail Price, Rent Price \n",
    "<br>– get rid of unnecessary characters and recast as an integer. \n",
    "       \n",
    "</font>\n",
    "\n"
   ]
  },
  {
   "cell_type": "code",
   "execution_count": 8,
   "id": "8249fce9",
   "metadata": {},
   "outputs": [
    {
     "name": "stdout",
     "output_type": "stream",
     "text": [
      "The data frame has 208474 observations. There are 0 nulls for the Number_of_reviews feature. \n",
      "33 reviews\n",
      "97 reviews\n",
      "140 reviews\n",
      "21 reviews\n",
      "59 reviews\n",
      "109 reviews\n",
      "33\n",
      "97\n",
      "140\n",
      "21\n",
      "59\n",
      "109\n"
     ]
    }
   ],
   "source": [
    "#Checkout the Number of Reviews Column to make sure that there \n",
    "print(f\"The data frame has {df.shape[0]} observations. There are {df.Number_of_reviews.isna().sum()} nulls for the Number_of_reviews feature. \")\n",
    "for i in check_list:\n",
    "    print(df[\"Number_of_reviews\"][i])\n",
    "#Get rid of unnecessary characters in some entries. \n",
    "df[\"Number_of_reviews\"]=df[\"Number_of_reviews\"].replace(\" reviews\",\"\", regex=True).replace(\" review\",\"\", regex=True)\n",
    "\n",
    "for i in check_list:\n",
    "    print(df[\"Number_of_reviews\"][i])\n",
    "\n",
    "df[\"Number_of_reviews\"]=df[\"Number_of_reviews\"].astype(\"int\")\n"
   ]
  },
  {
   "cell_type": "code",
   "execution_count": 9,
   "id": "82cf1acb",
   "metadata": {},
   "outputs": [
    {
     "name": "stdout",
     "output_type": "stream",
     "text": [
      "The data frame has 208474 observations. There are 0 nulls for the Rating feature. \n",
      "(5 out of 5 stars)    125250\n",
      "(4 out of 5 stars)     47480\n",
      "(3 out of 5 stars)     20194\n",
      "(2 out of 5 stars)      8681\n",
      "(1 out of 5 stars)      6869\n",
      "Name: Rating, dtype: int64\n",
      "5    125250\n",
      "4     47480\n",
      "3     20194\n",
      "2      8681\n",
      "1      6869\n",
      "Name: Rating, dtype: int64\n"
     ]
    }
   ],
   "source": [
    "#Checkout the Rating Column to make sure that there \n",
    "print(f\"The data frame has {df.shape[0]} observations. There are {df.Rating.isna().sum()} nulls for the Rating feature. \")\n",
    "print(df.Rating.value_counts())\n",
    "#Get rid of unnecessary characters in some entries. \n",
    "df[\"Rating\"]=df[\"Rating\"].replace(\" out of 5 stars\",\"\", regex=True)\n",
    "df[\"Rating\"]=df[\"Rating\"].replace(\"\\(\",\"\", regex=True)\n",
    "df[\"Rating\"]=df[\"Rating\"].replace(\"\\)\",\"\", regex=True)\n",
    "df[\"Rating\"]=df[\"Rating\"].astype(\"int\")\n",
    "print(df.Rating.value_counts())"
   ]
  },
  {
   "cell_type": "code",
   "execution_count": 10,
   "id": "17a78b10",
   "metadata": {},
   "outputs": [],
   "source": [
    "#Drop the nulls in the Retail Price area. \n",
    "df.dropna(subset=['Retail_price'],inplace=True)"
   ]
  },
  {
   "cell_type": "code",
   "execution_count": 11,
   "id": "ead96c79",
   "metadata": {},
   "outputs": [],
   "source": [
    "df = df.reset_index()"
   ]
  },
  {
   "cell_type": "code",
   "execution_count": 12,
   "id": "3cebbd35",
   "metadata": {},
   "outputs": [],
   "source": [
    "df.drop(columns=[\"index\"],inplace=True)"
   ]
  },
  {
   "cell_type": "code",
   "execution_count": 13,
   "id": "73abc229",
   "metadata": {},
   "outputs": [
    {
     "name": "stdout",
     "output_type": "stream",
     "text": [
      "The data frame has 208362 observations. There are 0 nulls for the Retail_price feature. \n",
      "$478 original retail\n",
      "$495 original retail\n",
      "$595 original retail\n",
      "$218 original retail\n",
      "$368 original retail\n",
      "$498 original retail\n",
      "478\n",
      "495\n",
      "595\n",
      "218\n",
      "368\n",
      "498\n"
     ]
    }
   ],
   "source": [
    "#Checkout the Retail Price  Column to make sure that there \n",
    "print(f\"The data frame has {df.shape[0]} observations. There are {df.Retail_price.isna().sum()} nulls for the Retail_price feature. \")\n",
    "df.Retail_price.value_counts();\n",
    "df[\"Retail_price\"]=df[\"Retail_price\"].replace(\",\",\"\", regex=True)\n",
    "#This is a test to make sure that the dollar amounts were converted correctly. \n",
    "for i in check_list:\n",
    "    print(df[\"Retail_price\"][i])\n",
    "df[\"Retail_price\"] = df[\"Retail_price\"].str.extract(r\"(\\d+)\",expand=True)\n",
    "for i in check_list:\n",
    "    print(df[\"Retail_price\"][i])\n",
    "\n",
    "df[\"Retail_price\"]=df[\"Retail_price\"].astype(\"int\")"
   ]
  },
  {
   "cell_type": "code",
   "execution_count": 14,
   "id": "25c4c23d",
   "metadata": {},
   "outputs": [
    {
     "name": "stdout",
     "output_type": "stream",
     "text": [
      "The data frame has 208362 observations. There are 0 nulls for the Rent_price feature. \n",
      "$70\n",
      "$68 – $78\n",
      "$100\n",
      "$35\n",
      "$60\n",
      "$80\n",
      "70\n",
      "68\n",
      "100\n",
      "35\n",
      "60\n",
      "80\n"
     ]
    }
   ],
   "source": [
    "#Checkout the Rent Price Column to make sure that there \n",
    "print(f\"The data frame has {df.shape[0]} observations. There are {df.Rent_price.isna().sum()} nulls for the Rent_price feature. \")\n",
    "df[\"Rent_price\"]=df[\"Rent_price\"].replace(\",\",\"\", regex=True)\n",
    "#This is a test to make sure that the dollar amounts were converted correctly. \n",
    "for i in check_list:\n",
    "    print(df[\"Rent_price\"][i])\n",
    "df[\"Rent_price\"] = df[\"Rent_price\"].str.extract(r\"(\\d+)\",expand=True)\n",
    "for i in check_list:\n",
    "    print(df[\"Rent_price\"][i])\n",
    "df[\"Rent_price\"]=df[\"Rent_price\"].astype(\"int\")"
   ]
  },
  {
   "cell_type": "code",
   "execution_count": 15,
   "id": "89bf3f2a",
   "metadata": {},
   "outputs": [],
   "source": [
    "#Get rid of observations where there are nulls in all 5 customer measurement features. \n",
    "df.dropna(how=\"all\",subset=['Age','Weight','Body_type','Bust_size','Height'], inplace=True)"
   ]
  },
  {
   "cell_type": "code",
   "execution_count": 16,
   "id": "424c2f31",
   "metadata": {},
   "outputs": [],
   "source": [
    "df = df.reset_index()"
   ]
  },
  {
   "cell_type": "code",
   "execution_count": 17,
   "id": "1931b2d7",
   "metadata": {},
   "outputs": [],
   "source": [
    "df.drop(columns=[\"index\"],inplace=True)"
   ]
  },
  {
   "cell_type": "code",
   "execution_count": 18,
   "id": "92138547",
   "metadata": {},
   "outputs": [],
   "source": [
    "#Fill in the null values in columns Size Usually Worn, Age, Weight, Body_type, Bust_size and Height as \"unknown\" for now\n",
    "df['Rented_for'].fillna(\"unknown\", inplace=True)\n",
    "df['Size_usually_worn'].fillna(\"unknown\", inplace=True)\n",
    "df['Age'].fillna(\"unknown\", inplace=True)\n",
    "df['Weight'].fillna(\"unknown\", inplace=True)\n",
    "df['Body_type'].fillna(\"unknown\", inplace=True)\n",
    "df['Bust_size'].fillna(\"unknown\", inplace=True)\n",
    "df['Height'].fillna(\"unknown\", inplace=True)"
   ]
  },
  {
   "cell_type": "markdown",
   "id": "beff47ea",
   "metadata": {},
   "source": [
    "<font style=\"font-size: 2rem; color: blue\">\n",
    "\n",
    "2. Clean Misplaced Features: \n",
    "<br>\n",
    "<br>Weight \n",
    "<br>– find the weights which were entered in other columns. \n",
    "       \n",
    "</font>\n",
    "\n"
   ]
  },
  {
   "cell_type": "code",
   "execution_count": 19,
   "id": "fb3a8326",
   "metadata": {},
   "outputs": [
    {
     "name": "stdout",
     "output_type": "stream",
     "text": [
      "There are 12220 observations where the weight is entered in the Body Type column. \n",
      "Should match with this number:\n",
      "12220\n",
      "Example of one such row BEFORE the transformation:\n",
      "This is the body type entry for row 13\n",
      "155LBS\n",
      "This is the weight type entry for 13\n",
      "unknown\n",
      "Example of one such row AFTER the transformation:\n",
      "This is the body type entry for row 13\n",
      "unknown\n",
      "This is the weight type entry for 13\n",
      "155LBS\n"
     ]
    }
   ],
   "source": [
    "#Weight in Body Type fix rows \n",
    "weight_in_body_type=[]\n",
    "for i in range(df.shape[0]):\n",
    "    if \"LBS\" in df[\"Body_type\"][i]:\n",
    "        weight_in_body_type.append(i)\n",
    "print(f\"There are {len(weight_in_body_type)} observations where the weight is entered in the Body Type column. \")\n",
    "print(\"Should match with this number:\")\n",
    "print(df.Label8.value_counts()[\"Weight: \"])\n",
    "\n",
    "print(\"Example of one such row BEFORE the transformation:\")\n",
    "print(f\"This is the body type entry for row {weight_in_body_type[0]}\")\n",
    "print(df[\"Body_type\"][weight_in_body_type[0]])\n",
    "print(f\"This is the weight type entry for {weight_in_body_type[0]}\")\n",
    "print(df[\"Weight\"][weight_in_body_type[0]])\n",
    "\n",
    "#Grab all the weights accidently entered into the Body Type column:\n",
    "#(1) Enter them into the weight column\n",
    "#(2) Replace the body type observation with \"unknown\"\n",
    "for i in weight_in_body_type:\n",
    "    df.at[i, \"Weight\"] = df[\"Body_type\"][i]\n",
    "    df.at[i, \"Body_type\"] = \"unknown\"\n",
    "    \n",
    "    \n",
    "print(\"Example of one such row AFTER the transformation:\")\n",
    "print(f\"This is the body type entry for row {weight_in_body_type[0]}\")\n",
    "print(df[\"Body_type\"][weight_in_body_type[0]])\n",
    "print(f\"This is the weight type entry for {weight_in_body_type[0]}\")\n",
    "print(df[\"Weight\"][weight_in_body_type[0]])"
   ]
  },
  {
   "cell_type": "code",
   "execution_count": 21,
   "id": "8216a800",
   "metadata": {},
   "outputs": [
    {
     "name": "stdout",
     "output_type": "stream",
     "text": [
      "There are 957 observations where the weight is entered in the Bust Size column. \n",
      "Should match with this number:\n",
      "957\n",
      "Example of one such row before the transformation:\n",
      "This is the bust size  entry for row 326\n",
      "135LBS\n",
      "This is the weight type entry for 326\n",
      "unknown\n",
      "Example of one such row AFTER the transformation:\n",
      "This is the bust size  entry for row 326\n",
      "unknown\n",
      "This is the weight type entry for 326\n",
      "135LBS\n"
     ]
    }
   ],
   "source": [
    "#Weight in Bust_Size fix rows \n",
    "weight_in_bust_size=[]\n",
    "for i in range(df.shape[0]):\n",
    "    if \"LBS\" in df[\"Bust_size\"][i]:\n",
    "        weight_in_bust_size.append(i)\n",
    "\n",
    "print(f\"There are {len(weight_in_bust_size)} observations where the weight is entered in the Bust Size column. \")\n",
    "print(\"Should match with this number:\")\n",
    "print(df.Label6.value_counts()[\"Weight: \"])\n",
    "\n",
    "print(\"Example of one such row before the transformation:\")\n",
    "print(f\"This is the bust size  entry for row {weight_in_bust_size[0]}\")\n",
    "print(df[\"Bust_size\"][weight_in_bust_size[0]])\n",
    "print(f\"This is the weight type entry for {weight_in_bust_size[0]}\")\n",
    "print(df[\"Weight\"][weight_in_bust_size[0]])\n",
    "\n",
    "#Grab all the weights accidently entered into the Bust Size column:\n",
    "#(1) Enter them into the weight column\n",
    "#(2) Replace the Bust Size  observation with \"unknown\"\n",
    "for i in weight_in_bust_size:\n",
    "    df.at[i, \"Weight\"] = df[\"Bust_size\"][i]\n",
    "    df.at[i, \"Bust_size\"] = \"unknown\"\n",
    "print(\"Example of one such row AFTER the transformation:\")\n",
    "print(f\"This is the bust size  entry for row {weight_in_bust_size[0]}\")\n",
    "print(df[\"Bust_size\"][weight_in_bust_size[0]])\n",
    "print(f\"This is the weight type entry for {weight_in_bust_size[0]}\")\n",
    "print(df[\"Weight\"][weight_in_bust_size[0]])"
   ]
  },
  {
   "cell_type": "code",
   "execution_count": 22,
   "id": "f8d37b07",
   "metadata": {},
   "outputs": [
    {
     "name": "stdout",
     "output_type": "stream",
     "text": [
      "There are 63 observations where the weight is entered in the age column. \n",
      "Example of one such row BEFORE the transformation:\n",
      "This is the age  entry for row 6299\n",
      "155LBS\n",
      "This is the weight entry for 6299\n",
      "unknown\n",
      "Example of one such row AFTER the transformation:\n",
      "This is the age  entry for row 6299\n",
      "unknown\n",
      "This is the weight entry for 6299\n",
      "155LBS\n"
     ]
    }
   ],
   "source": [
    "#Weight in Age fix rows \n",
    "weight_in_age=[]\n",
    "for i in range(df.shape[0]):\n",
    "    if \"LBS\" in df[\"Age\"][i]:\n",
    "        weight_in_age.append(i)\n",
    "\n",
    "print(f\"There are {len(weight_in_age)} observations where the weight is entered in the age column. \")\n",
    "\n",
    "print(\"Example of one such row BEFORE the transformation:\")\n",
    "print(f\"This is the age  entry for row {weight_in_age[0]}\")\n",
    "print(df[\"Age\"][weight_in_age[0]])\n",
    "print(f\"This is the weight entry for {weight_in_age[0]}\")\n",
    "print(df[\"Weight\"][weight_in_age[0]])\n",
    "\n",
    "#Grab all the weights accidently entered into the Age column:\n",
    "#(1) Enter them into the weight column\n",
    "#(2) Replace the Age  observation with \"unknown\"\n",
    "for i in weight_in_age:\n",
    "    df.at[i, \"Weight\"] = df[\"Age\"][i]\n",
    "    df.at[i, \"Age\"] = \"unknown\"\n",
    "print(\"Example of one such row AFTER the transformation:\")\n",
    "print(f\"This is the age  entry for row {weight_in_age[0]}\")\n",
    "print(df[\"Age\"][weight_in_age[0]])\n",
    "print(f\"This is the weight entry for {weight_in_age[0]}\")\n",
    "print(df[\"Weight\"][weight_in_age[0]])"
   ]
  },
  {
   "cell_type": "code",
   "execution_count": 23,
   "id": "51b0f336",
   "metadata": {},
   "outputs": [
    {
     "name": "stdout",
     "output_type": "stream",
     "text": [
      "There are 7 observations where the weight is entered in the height column. \n",
      "There are 7 observations where the weight is entered in the height column. \n",
      "Example of one such row BEFORE the transformation:\n",
      "This is height entry for row 30999\n",
      "130LBS\n",
      "This is the weight entry for 30999\n",
      "unknown\n"
     ]
    }
   ],
   "source": [
    "#Weight in Height fix rows \n",
    "weight_in_height=[]\n",
    "for i in range(df.shape[0]):\n",
    "    if \"LBS\" in df[\"Height\"][i]:\n",
    "        weight_in_height.append(i)\n",
    "print(f\"There are {len(weight_in_height)} observations where the weight is entered in the height column. \")\n",
    "if len(weight_in_height)>0:\n",
    "    print(f\"There are {len(weight_in_height)} observations where the weight is entered in the height column. \")\n",
    "    print(\"Example of one such row BEFORE the transformation:\")\n",
    "    print(f\"This is height entry for row {weight_in_height[0]}\")\n",
    "    print(df[\"Height\"][weight_in_height[0]])\n",
    "    print(f\"This is the weight entry for {weight_in_height[0]}\")\n",
    "    print(df[\"Weight\"][weight_in_height[0]])\n",
    "\n",
    "#Grab all the weights accidently entered into the Height column:\n",
    "#(1) Enter them into the weight column\n",
    "#(2) Replace the Height  observation with \"unknown\"\n",
    "for i in weight_in_height:\n",
    "    df.at[i, \"Weight\"] = df[\"Height\"][i]\n",
    "    df.at[i, \"Height\"] = \"unknown\"\n",
    "print(\"Example of one such row before the transformation:\")\n",
    "print(f\"This is height entry for row {weight_in_height[0]}\")\n",
    "print(df[\"Height\"][weight_in_height[0]])\n",
    "print(f\"This is the weight entry for {weight_in_height[0]}\")\n",
    "print(df[\"Weight\"][weight_in_height[0]])"
   ]
  },
  {
   "cell_type": "code",
   "execution_count": 27,
   "id": "c90324f4",
   "metadata": {},
   "outputs": [
    {
     "name": "stdout",
     "output_type": "stream",
     "text": [
      "Before:\n",
      "unknown\n",
      "145LBS\n",
      "180LBS\n",
      "unknown\n",
      "185LBS\n",
      "150LBS\n",
      "After:\n",
      "unknown\n",
      "145\n",
      "180\n",
      "unknown\n",
      "185\n",
      "150\n"
     ]
    }
   ],
   "source": [
    "#Strip the weights off the \"LBS\" and clean up weights entered two or three times. \n",
    "print(\"Before:\")\n",
    "for i in check_list:\n",
    "    print(df[\"Weight\"][i])\n",
    "for i in range(df.shape[0]):\n",
    "    if df[\"Weight\"][i][0]==\"1\" or df[\"Weight\"][i][0]==\"2\":\n",
    "        df.at[i, \"Weight\"]=df[\"Weight\"][i][:3]\n",
    "    elif df[\"Weight\"][i][0]==\"9\" or df[\"Weight\"][i][0]==\"8\":\n",
    "        df.at[i, \"Weight\"]=df[\"Weight\"][i][:2]\n",
    "    elif df[\"Weight\"][i][0]==\"3\":\n",
    "        df.at[i, \"Weight\"] = \"unknown\"\n",
    "\n",
    "df[\"Weight\"]=df[\"Weight\"].replace(\"l\",\"0\", regex=True).replace(\"L\",\"0\", regex=True)\n",
    "\n",
    "for i in range(df.shape[0]):\n",
    "    if \"b\" in df[\"Weight\"][i].lower():\n",
    "        df.at[i, \"Weight\"] = \"unknown\"\n",
    "print(\"After:\")\n",
    "for i in check_list:\n",
    "    print(df[\"Weight\"][i])"
   ]
  },
  {
   "cell_type": "markdown",
   "id": "6260d920",
   "metadata": {},
   "source": [
    "<font style=\"font-size: 2rem; color: blue\">\n",
    "\n",
    "2. Clean Misplaced Features : \n",
    "<br>\n",
    "<br>Body Types \n",
    "<br>– find the weights which were entered in other columns. \n",
    "       \n",
    "</font>\n"
   ]
  },
  {
   "cell_type": "code",
   "execution_count": 29,
   "id": "9b7ece5c",
   "metadata": {},
   "outputs": [],
   "source": [
    "list_of_body_types = ['athletic','hourglass','pear','apple','fullbust','straightnarrow','petite','ATHLETIC',\n",
    " 'HOURGLASS',\n",
    " 'PEAR',\n",
    " 'APPLE',\n",
    " 'FULLBUST',\n",
    " 'STRAIGHTNARROW',\n",
    " 'PETITE']"
   ]
  },
  {
   "cell_type": "code",
   "execution_count": 30,
   "id": "67e2c153",
   "metadata": {},
   "outputs": [
    {
     "name": "stdout",
     "output_type": "stream",
     "text": [
      "There are 18225 observations where the body_type is entered in the Bust_size column. \n",
      "Should match with this number:\n",
      "18225\n",
      "These are one such row before transformation\n",
      "This is bust size  entry for row 29\n",
      "HOURGLASS\n",
      "This is the body type entry for 29\n",
      "unknown\n",
      "These are one such row AFTER  transformation\n",
      "This is bust size  entry for row 29\n",
      "unknown\n",
      "This is the body type entry for 29\n",
      "hourglass\n"
     ]
    }
   ],
   "source": [
    "#look at the rows where the body type has been entered into the bust_size \n",
    "body_type_in_bust_size=[]\n",
    "for i in range(df.shape[0]):\n",
    "    if df[\"Label6\"][i]==\"Body type: \":\n",
    "        body_type_in_bust_size.append(i)\n",
    "print(f\"There are {len(body_type_in_bust_size)} observations where the body_type is entered in the Bust_size column. \")\n",
    "print(\"Should match with this number:\")\n",
    "print(df.Label6.value_counts()[\"Body type: \"])\n",
    "print(\"These are one such row before transformation\")\n",
    "print(f\"This is bust size  entry for row {body_type_in_bust_size[5]}\")\n",
    "print(df[\"Bust_size\"][body_type_in_bust_size[5]])\n",
    "print(f\"This is the body type entry for {body_type_in_bust_size[5]}\")\n",
    "print(df[\"Body_type\"][body_type_in_bust_size[5]])\n",
    "\n",
    "#Grab all the body type accidently entered into the bust size  column:\n",
    "#(1) Enter them into the body type column\n",
    "#(2) Replace the bust size  observation with \"unknown\"\n",
    "for i in body_type_in_bust_size:\n",
    "    df.at[i, \"Body_type\"] = df[\"Bust_size\"][i].lower().replace(\" & \",\"\").replace(\" \",\"\")\n",
    "    df.at[i, \"Bust_size\"]=\"unknown\"\n",
    "print(\"These are one such row AFTER  transformation\")\n",
    "print(f\"This is bust size  entry for row {body_type_in_bust_size[5]}\")\n",
    "print(df[\"Bust_size\"][body_type_in_bust_size[5]])\n",
    "print(f\"This is the body type entry for {body_type_in_bust_size[5]}\")\n",
    "print(df[\"Body_type\"][body_type_in_bust_size[5]])"
   ]
  },
  {
   "cell_type": "code",
   "execution_count": 31,
   "id": "d24815c4",
   "metadata": {},
   "outputs": [],
   "source": [
    "#Get rid of the + symbol in the some of the bust sizes. \n",
    "df[\"Bust_size\"]=df[\"Bust_size\"].replace(\"\\+\",\"\", regex=True)"
   ]
  },
  {
   "cell_type": "code",
   "execution_count": 32,
   "id": "9d736b22",
   "metadata": {},
   "outputs": [
    {
     "name": "stdout",
     "output_type": "stream",
     "text": [
      "There are 184 observations where the body_type is entered in the Bust_size column. \n",
      "These are one such row before transformation\n",
      "This is Age entry for row 202066\n",
      "ATHLETIC\n",
      "This is the body type entry for 202066\n",
      "unknown\n",
      "These are one such row AFTER transformation\n",
      "This is Age entry for row 202066\n",
      "unknown\n",
      "This is the body type entry for 202066\n",
      "athletic\n"
     ]
    }
   ],
   "source": [
    "#look at the rows where the body type has been entered into the Age \n",
    "body_type_in_age=[]\n",
    "for i in range(df.shape[0]):\n",
    "    if df[\"Age\"][i].lower().replace(\" & \",\"\").replace(\" \",\"\") in list_of_body_types:\n",
    "        body_type_in_age.append(i)\n",
    "        \n",
    "print(f\"There are {len(body_type_in_age)} observations where the body_type is entered in the Bust_size column. \")\n",
    "\n",
    "print(\"These are one such row before transformation\")\n",
    "print(f\"This is Age entry for row {body_type_in_age[-1]}\")\n",
    "print(df[\"Age\"][body_type_in_age[-1]])\n",
    "print(f\"This is the body type entry for {body_type_in_age[-1]}\")\n",
    "print(df[\"Body_type\"][body_type_in_age[-1]])\n",
    "\n",
    "#Grab all the body type accidently entered into the Age  column:\n",
    "#(1) Enter them into the body type column\n",
    "#(2) Replace the Age  observation with \"unknown\"\n",
    "for i in body_type_in_age:\n",
    "    df.at[i, \"Body_type\"] = df[\"Age\"][i].lower().replace(\" & \",\"\").replace(\" \",\"\")\n",
    "    df.at[i, \"Age\"]=\"unknown\"\n",
    "    \n",
    "    \n",
    "print(\"These are one such row AFTER transformation\")\n",
    "print(f\"This is Age entry for row {body_type_in_age[-1]}\")\n",
    "print(df[\"Age\"][body_type_in_age[-1]])\n",
    "print(f\"This is the body type entry for {body_type_in_age[-1]}\")\n",
    "print(df[\"Body_type\"][body_type_in_age[-1]])"
   ]
  },
  {
   "cell_type": "code",
   "execution_count": 33,
   "id": "8846a6e4",
   "metadata": {},
   "outputs": [
    {
     "name": "stdout",
     "output_type": "stream",
     "text": [
      "There are 7 observations where the body_type is entered in the Height column. \n",
      "These are one such row before transformation\n",
      "This is height entry for row 14358\n",
      "HOURGLASS\n",
      "This is the body type entry for 14358\n",
      "unknown\n",
      "These are one such row AFTER transformation\n",
      "This is height entry for row 14358\n",
      "unknown\n",
      "This is the body type entry for 14358\n",
      "hourglass\n"
     ]
    }
   ],
   "source": [
    "#look at the rows where the body type has been entered into the Height \n",
    "body_type_in_height=[]\n",
    "for i in range(df.shape[0]):\n",
    "    if df[\"Height\"][i].lower().replace(\" & \",\"\").replace(\" \",\"\") in list_of_body_types:\n",
    "        body_type_in_height.append(i)\n",
    "print(f\"There are {len(body_type_in_height)} observations where the body_type is entered in the Height column. \")\n",
    "if len(body_type_in_height)>0:\n",
    "    print(\"These are one such row before transformation\")\n",
    "    print(f\"This is height entry for row {body_type_in_height[0]}\")\n",
    "    print(df[\"Height\"][body_type_in_height[0]])\n",
    "    print(f\"This is the body type entry for {body_type_in_height[0]}\")\n",
    "    print(df[\"Body_type\"][body_type_in_height[0]])\n",
    "    \n",
    "    #Grab all the body type accidently entered into the Height  column:\n",
    "    #(1) Enter them into the body type column\n",
    "    #(2) Replace theHeight observation with \"unknown\"\n",
    "    for i in body_type_in_height:\n",
    "        df.at[i, \"Body_type\"] = df[\"Height\"][i].lower().replace(\" & \",\"\").replace(\" \",\"\")\n",
    "        df.at[i, \"Height\"]=\"unknown\"\n",
    "\n",
    "\n",
    "    print(\"These are one such row AFTER transformation\")\n",
    "    print(f\"This is height entry for row {body_type_in_height[0]}\")\n",
    "    print(df[\"Height\"][body_type_in_height[0]])\n",
    "    print(f\"This is the body type entry for {body_type_in_height[0]}\")\n",
    "    print(df[\"Body_type\"][body_type_in_height[0]])\n"
   ]
  },
  {
   "cell_type": "code",
   "execution_count": 35,
   "id": "7e10afb0",
   "metadata": {},
   "outputs": [],
   "source": [
    "#Clean up the body types \n",
    "for i in range(df.shape[0]):\n",
    "    df.at[i, \"Body_type\"] = df[\"Body_type\"][i].lower().replace(\" & \",\"\").replace(\" \",\"\")"
   ]
  },
  {
   "cell_type": "code",
   "execution_count": 36,
   "id": "f99b2188",
   "metadata": {},
   "outputs": [
    {
     "data": {
      "text/plain": [
       "hourglass         60275\n",
       "athletic          44339\n",
       "pear              22990\n",
       "petite            20585\n",
       "unknown           16613\n",
       "fullbust          16566\n",
       "straightnarrow    13827\n",
       "apple              7079\n",
       "Name: Body_type, dtype: int64"
      ]
     },
     "execution_count": 36,
     "metadata": {},
     "output_type": "execute_result"
    }
   ],
   "source": [
    "#Final check of Body Types. Should just be body types here. \n",
    "df.Body_type.value_counts()"
   ]
  },
  {
   "cell_type": "markdown",
   "id": "a6d7cd4b",
   "metadata": {},
   "source": [
    "<font style=\"font-size: 2rem; color: blue\">\n",
    "\n",
    "2. Clean Features: \n",
    "<br>\n",
    "<br>Bust Sizes \n",
    "<br>– find the weights which were entered in other columns. \n",
    "       \n",
    "</font>"
   ]
  },
  {
   "cell_type": "code",
   "execution_count": 37,
   "id": "8c6269e5",
   "metadata": {},
   "outputs": [
    {
     "name": "stdout",
     "output_type": "stream",
     "text": [
      "There are 1972 observations where the bust_size is entered in the age column. \n",
      "This is one such observation BEFORE transformation:\n",
      "This is age entry for row 137\n",
      "34D\n",
      "This is the body type entry for 137\n",
      "unknown\n",
      "This is one such observation AFTER transformation:\n",
      "This is age entry for row 137\n",
      "unknown\n",
      "This is the body type entry for 137\n",
      "34D\n"
     ]
    }
   ],
   "source": [
    "#Bust_size_in_Age_Column \n",
    "bust_size_in_age=[]\n",
    "pattern = \"^.*[0-9]{2}[a-zA-Z]{1}.*$\"\n",
    "for i in range(df.shape[0]):\n",
    "    if re.match(pattern, df[\"Age\"][i]): \n",
    "        bust_size_in_age.append(i)\n",
    "    \n",
    "print(f\"There are {len(bust_size_in_age)} observations where the bust_size is entered in the age column. \")\n",
    "\n",
    "print(\"This is one such observation BEFORE transformation:\")\n",
    "print(f\"This is age entry for row {bust_size_in_age[0]}\")\n",
    "print(df[\"Age\"][bust_size_in_age[0]])\n",
    "print(f\"This is the body type entry for {bust_size_in_age[0]}\")\n",
    "print(df[\"Bust_size\"][bust_size_in_age[0]])\n",
    "\n",
    "#Grab all the bust size  accidently entered into the Age  column:\n",
    "#(1) Enter them into the bust size  column\n",
    "#(2) Replace the Age  observation with \"unknown\"\n",
    "for i in bust_size_in_age:\n",
    "    df.at[i, \"Bust_size\"] = df[\"Age\"][i]\n",
    "    df.at[i, \"Age\"] = \"unknown\"\n",
    "\n",
    "print(\"This is one such observation AFTER transformation:\")\n",
    "print(f\"This is age entry for row {bust_size_in_age[0]}\")\n",
    "print(df[\"Age\"][bust_size_in_age[0]])\n",
    "print(f\"This is the body type entry for {bust_size_in_age[0]}\")\n",
    "print(df[\"Bust_size\"][bust_size_in_age[0]])"
   ]
  },
  {
   "cell_type": "code",
   "execution_count": 38,
   "id": "6dc5373d",
   "metadata": {},
   "outputs": [
    {
     "name": "stdout",
     "output_type": "stream",
     "text": [
      "There are 62 observations where the bust_size is entered in the height column. \n",
      "This is one such observation BEFORE transformation:\n",
      "This is height entry for row 6299\n",
      "36B\n",
      "This is the bust size  entry for 6299\n",
      "unknown\n",
      "This is one such observation AFTER transformation:\n",
      "This is height entry for row 6299\n",
      "unknown\n",
      "This is the bust size  entry for 6299\n",
      "36B\n"
     ]
    }
   ],
   "source": [
    "#Bust_size_in_Height_Column \n",
    "bust_size_in_height=[]\n",
    "pattern = \"^.*[0-9]{2}[a-zA-Z]{1}.*$\"\n",
    "for i in range(df.shape[0]):\n",
    "    if re.match(pattern, df[\"Height\"][i]):\n",
    "        bust_size_in_height.append(i)\n",
    "print(f\"There are {len(bust_size_in_height)} observations where the bust_size is entered in the height column. \")\n",
    "\n",
    "print(\"This is one such observation BEFORE transformation:\")\n",
    "print(f\"This is height entry for row {bust_size_in_height[0]}\")\n",
    "print(df[\"Height\"][bust_size_in_height[0]])\n",
    "print(f\"This is the bust size  entry for {bust_size_in_height[0]}\")\n",
    "print(df[\"Bust_size\"][bust_size_in_height[0]])\n",
    "\n",
    "#Grab all the bust size  accidently entered into the Height column:\n",
    "#(1) Enter them into the bust size  column\n",
    "#(2) Replace the Height observation with \"unknown\"\n",
    "for i in bust_size_in_height:\n",
    "    df.at[i, \"Bust_size\"] = df[\"Height\"][i]\n",
    "    df.at[i, \"Height\"] = \"unknown\"\n",
    "\n",
    "print(\"This is one such observation AFTER transformation:\")\n",
    "print(f\"This is height entry for row {bust_size_in_height[0]}\")\n",
    "print(df[\"Height\"][bust_size_in_height[0]])\n",
    "print(f\"This is the bust size  entry for {bust_size_in_height[0]}\")\n",
    "print(df[\"Bust_size\"][bust_size_in_height[0]])"
   ]
  },
  {
   "cell_type": "markdown",
   "id": "6e72615c",
   "metadata": {},
   "source": [
    "<font style=\"font-size: 2rem; color: blue\">\n",
    "\n",
    "2. Clean Misplaced Features : \n",
    "<br>\n",
    "<br>Age \n",
    "<br>– find the weights which were entered in other columns. \n",
    "       \n",
    "</font>"
   ]
  },
  {
   "cell_type": "code",
   "execution_count": 39,
   "id": "2aa60530",
   "metadata": {},
   "outputs": [
    {
     "name": "stdout",
     "output_type": "stream",
     "text": [
      "There are 4893 observations where the age is entered in the height column. \n",
      "This is one such observation BEFORE transformation:\n",
      "This is age entry for row 72\n",
      "28\n",
      "This is the height entry for 72\n",
      "unknown\n",
      "This is one such observation AFTER transformation:\n",
      "This is age entry for row 72\n",
      "unknown\n",
      "This is the height entry for 72\n",
      "28\n"
     ]
    }
   ],
   "source": [
    "#Age entered in Height Columnn\n",
    "age_in_height = []\n",
    "for i in range(df.shape[0]):\n",
    "    if str(df[\"Height\"][1][1]) not in str(df[\"Height\"][i]) and \"unknown\" not in str(df[\"Height\"][i]):\n",
    "        age_in_height.append(i)\n",
    "\n",
    "print(f\"There are {len(age_in_height)} observations where the age is entered in the height column. \")   \n",
    "\n",
    "print(\"This is one such observation BEFORE transformation:\")\n",
    "print(f\"This is age entry for row {age_in_height[0]}\")\n",
    "print(df[\"Height\"][age_in_height[0]])\n",
    "print(f\"This is the height entry for {age_in_height[0]}\")\n",
    "print(df[\"Age\"][age_in_height[0]])\n",
    "\n",
    "#Grab all the Age accidently entered into the Height column:\n",
    "#(1) Enter them into the age column\n",
    "#(2) Replace the Height observation with \"unknown\"\n",
    "for i in age_in_height:\n",
    "    df.at[i, \"Age\"] = df[\"Height\"][i]\n",
    "    df.at[i, \"Height\"] = \"unknown\"\n",
    "    \n",
    "print(\"This is one such observation AFTER transformation:\")\n",
    "print(f\"This is age entry for row {age_in_height[0]}\")\n",
    "print(df[\"Height\"][age_in_height[0]])\n",
    "print(f\"This is the height entry for {age_in_height[0]}\")\n",
    "print(df[\"Age\"][age_in_height[0]])"
   ]
  },
  {
   "cell_type": "markdown",
   "id": "c01978c2",
   "metadata": {},
   "source": [
    "<font style=\"font-size: 2rem; color: blue\">\n",
    "\n",
    "2. Clean Misplaced Features : \n",
    "<br>\n",
    "<br>Height \n",
    "<br>– find the weights which were entered in other columns. \n",
    "       \n",
    "</font>"
   ]
  },
  {
   "cell_type": "code",
   "execution_count": 40,
   "id": "9c02b760",
   "metadata": {},
   "outputs": [
    {
     "name": "stdout",
     "output_type": "stream",
     "text": [
      "There are 354 observations where the height is entered in the Size_Usually_worn column. \n",
      "This is one such observation BEFORE transformation:\n",
      "This is Size_usually_worn entry for row 826\n",
      "5' 6\"\n",
      "This is the height entry for 826\n",
      "unknown\n",
      "This is one such observation AFTER transformation:\n",
      "This is Size_usually_worn entry for row 826\n",
      "unknown\n",
      "This is the height entry for 826\n",
      "5' 6\"\n"
     ]
    }
   ],
   "source": [
    "#Height entered in the size usually worn \n",
    "height_in_usual_size = []\n",
    "for i in range(df.shape[0]):\n",
    "    if str(df[\"Height\"][1][1]) in str(df[\"Size_usually_worn\"][i]):\n",
    "        height_in_usual_size.append(i)\n",
    "print(f\"There are {len(height_in_usual_size)} observations where the height is entered in the Size_Usually_worn column. \") \n",
    "\n",
    "print(\"This is one such observation BEFORE transformation:\")\n",
    "print(f\"This is Size_usually_worn entry for row {height_in_usual_size[0]}\")\n",
    "print(df[\"Size_usually_worn\"][height_in_usual_size[0]])\n",
    "print(f\"This is the height entry for {height_in_usual_size[0]}\")\n",
    "print(df[\"Height\"][height_in_usual_size[0]])\n",
    "\n",
    "\n",
    "#Grab all the heights accidently entered into the Size Usually Worn column:\n",
    "#(1) Enter them into the height column\n",
    "#(2) Replace the Size Usually Worn  observation with \"unknown\"\n",
    "\n",
    "for i in height_in_usual_size:\n",
    "    df.at[i, \"Height\"] = df[\"Size_usually_worn\"][i]\n",
    "    df.at[i, \"Size_usually_worn\"] = \"unknown\"\n",
    "    \n",
    "print(\"This is one such observation AFTER transformation:\")\n",
    "print(f\"This is Size_usually_worn entry for row {height_in_usual_size[0]}\")\n",
    "print(df[\"Size_usually_worn\"][height_in_usual_size[0]])\n",
    "print(f\"This is the height entry for {height_in_usual_size[0]}\")\n",
    "print(df[\"Height\"][height_in_usual_size[0]])"
   ]
  },
  {
   "cell_type": "markdown",
   "id": "073c5efb",
   "metadata": {},
   "source": [
    "<font style=\"font-size: 2rem; color: blue\">\n",
    "\n",
    "2. Clean Misplaced Features : \n",
    "<br>\n",
    "<br>Rented for reasons\n",
    "<br>– find the weights which were entered in other columns. \n",
    "       \n",
    "</font>"
   ]
  },
  {
   "cell_type": "code",
   "execution_count": 43,
   "id": "707777ea",
   "metadata": {},
   "outputs": [
    {
     "name": "stdout",
     "output_type": "stream",
     "text": [
      "There are 82627 observations where the Rented_For observation is entered in Overall_fit column. \n",
      "This is one such observation BEFORE transformation:\n",
      "This is Overall Fit  entry for row 62\n",
      "Rented for: Vacation\n",
      "This is the Rented for entry for row 62\n",
      "Usually wears: 6Height: 5' 5\"Age: 33Bust size: 34CBody type: Athletic\n",
      "This is one such observation BEFORE transformation:\n",
      "This is Overall Fit  entry for row 62\n",
      "unknown\n",
      "This is the Rented for entry for row 62\n",
      "Rented for: Vacation\n"
     ]
    }
   ],
   "source": [
    "# \"Rented for\" observations entered in \"Overall Fit\"\n",
    "rented_for_in_overall_fit = []\n",
    "for i in range(df.shape[0]):\n",
    "    if \"Rented for: \" in df[\"Overall_fit\"][i]  and \"Rented for: \" not in df[\"Rented_for\"][i]:\n",
    "        rented_for_in_overall_fit.append(i)\n",
    "print(f\"There are {len(rented_for_in_overall_fit)} observations where the Rented_For observation is entered in Overall_fit column. \") \n",
    "\n",
    "print(\"This is one such observation BEFORE transformation:\")\n",
    "print(f\"This is Overall Fit  entry for row {rented_for_in_overall_fit[0]}\")\n",
    "print(df[\"Overall_fit\"][rented_for_in_overall_fit[0]])\n",
    "print(f\"This is the Rented for entry for row {rented_for_in_overall_fit[0]}\")\n",
    "print(df[\"Rented_for\"][rented_for_in_overall_fit[0]])\n",
    "\n",
    "#Grab all the Rented For  entered into the Overall_fit column:\n",
    "#(1) Enter them into the Rented For column\n",
    "#(2) Replace the Size Usually Worn  observation with \"unknown\"\n",
    "\n",
    "for i in rented_for_in_overall_fit:\n",
    "    df.at[i, \"Rented_for\"] = df[\"Overall_fit\"][i]\n",
    "    df.at[i, \"Overall_fit\"] = \"unknown\"\n",
    "    \n",
    "print(\"This is one such observation BEFORE transformation:\")\n",
    "print(f\"This is Overall Fit  entry for row {rented_for_in_overall_fit[0]}\")\n",
    "print(df[\"Overall_fit\"][rented_for_in_overall_fit[0]])\n",
    "print(f\"This is the Rented for entry for row {rented_for_in_overall_fit[0]}\")\n",
    "print(df[\"Rented_for\"][rented_for_in_overall_fit[0]])"
   ]
  },
  {
   "cell_type": "code",
   "execution_count": 44,
   "id": "c72ad769",
   "metadata": {},
   "outputs": [],
   "source": [
    "for i in range(df.shape[0]):\n",
    "    if \"Usually wears: \" in df[\"Overall_fit\"][i]:\n",
    "        df.at[i, \"Overall_fit\"] = \"unknown\""
   ]
  },
  {
   "cell_type": "code",
   "execution_count": 45,
   "id": "155abea6",
   "metadata": {},
   "outputs": [
    {
     "data": {
      "text/plain": [
       "Overall fit: True to Size    83537\n",
       "unknown                      82903\n",
       "Overall fit: Small           20201\n",
       "Overall fit: Large           15633\n",
       "Name: Overall_fit, dtype: int64"
      ]
     },
     "execution_count": 45,
     "metadata": {},
     "output_type": "execute_result"
    }
   ],
   "source": [
    "#This should only have the overall fit. \n",
    "df.Overall_fit.value_counts()"
   ]
  },
  {
   "cell_type": "code",
   "execution_count": 46,
   "id": "7be7c5b3",
   "metadata": {},
   "outputs": [
    {
     "name": "stdout",
     "output_type": "stream",
     "text": [
      "There are 276 observations where the Rented_For observation is entered in Size  column. \n",
      "This is one such observation BEFORE transformation:\n",
      "This is the Size entry for row 36648\n",
      "Rented for: Everyday\n",
      "This is the Rented for entry for row 36648\n",
      "unknown\n",
      "This is one such observation AFTER transformation:\n",
      "This is the Size entry for row 36648\n",
      "unknown\n",
      "This is the Rented for entry for row 36648\n",
      "Rented for: Everyday\n"
     ]
    }
   ],
   "source": [
    "# \"Rented for\" observations entered in \"Size\"\n",
    "rented_for_in_size = []\n",
    "for i in range(df.shape[0]):\n",
    "    if \"Rented for: \" in df[\"Size\"][i]  and \"Rented for: \" not in df[\"Rented_for\"][i]:\n",
    "        rented_for_in_size.append(i)\n",
    "print(f\"There are {len(rented_for_in_size)} observations where the Rented_For observation is entered in Size  column. \") \n",
    "\n",
    "print(\"This is one such observation BEFORE transformation:\")\n",
    "print(f\"This is the Size entry for row {rented_for_in_size[0]}\")\n",
    "print(df[\"Size\"][rented_for_in_size[0]])\n",
    "print(f\"This is the Rented for entry for row {rented_for_in_size[0]}\")\n",
    "print(df[\"Rented_for\"][rented_for_in_size[0]])\n",
    "\n",
    "#Grab all the Rented For  entered into the size column:\n",
    "#(1) Enter them into the Rented For column\n",
    "#(2) Replace the Size  observation with \"unknown\"\n",
    "\n",
    "for i in rented_for_in_size:\n",
    "    df.at[i, \"Rented_for\"] = df[\"Size\"][i]\n",
    "    df.at[i, \"Size\"] = \"unknown\"\n",
    "\n",
    "print(\"This is one such observation AFTER transformation:\")\n",
    "\n",
    "print(f\"This is the Size entry for row {rented_for_in_size[0]}\")\n",
    "print(df[\"Size\"][rented_for_in_size[0]])\n",
    "print(f\"This is the Rented for entry for row {rented_for_in_size[0]}\")\n",
    "print(df[\"Rented_for\"][rented_for_in_size[0]]) "
   ]
  },
  {
   "cell_type": "code",
   "execution_count": 47,
   "id": "cfc7f895",
   "metadata": {},
   "outputs": [],
   "source": [
    "for i in range(df.shape[0]):\n",
    "    if \"Usually wears: \" in str(df[\"Rented_for\"][i]):\n",
    "        df.at[i, \"Rented_for\"] = \"unknown\""
   ]
  },
  {
   "cell_type": "code",
   "execution_count": 48,
   "id": "2c62a805",
   "metadata": {},
   "outputs": [],
   "source": [
    "df[\"Rented_for\"]=df[\"Rented_for\"].replace(\"Rented for: \",\"\", regex=True)"
   ]
  },
  {
   "cell_type": "code",
   "execution_count": 49,
   "id": "ee09e6f6",
   "metadata": {},
   "outputs": [],
   "source": [
    "df[\"Rented_for\"]=df[\"Rented_for\"].replace(\"Other\",\"unknown\", regex=True)"
   ]
  },
  {
   "cell_type": "code",
   "execution_count": 50,
   "id": "6c747c42",
   "metadata": {},
   "outputs": [
    {
     "data": {
      "text/plain": [
       "Work             41341\n",
       "Wedding          35503\n",
       "Everyday         30540\n",
       "Party            30536\n",
       "unknown          23902\n",
       "Formal Affair    17708\n",
       "Vacation         11489\n",
       "Date             11255\n",
       "Name: Rented_for, dtype: int64"
      ]
     },
     "execution_count": 50,
     "metadata": {},
     "output_type": "execute_result"
    }
   ],
   "source": [
    "#This should only have the rented for categories.\n",
    "df.Rented_for.value_counts()"
   ]
  },
  {
   "cell_type": "code",
   "execution_count": 53,
   "id": "74727b83",
   "metadata": {},
   "outputs": [],
   "source": [
    "df[\"Size\"]=df[\"Size\"].replace(\"Size worn: \",\"\", regex=True)\n",
    "df[\"Size\"]=df[\"Size\"].replace(\"NONE\",\"unknown\", regex=True)\n",
    "df[\"Size\"]=df[\"Size\"].replace(\"None\",\"unknown\", regex=True)"
   ]
  },
  {
   "cell_type": "code",
   "execution_count": 54,
   "id": "89c61269",
   "metadata": {},
   "outputs": [],
   "source": [
    "df[\"Size_usually_worn\"]=df[\"Size_usually_worn\"].replace(\"GOO4\",\"unknown\", regex=True)\n"
   ]
  },
  {
   "cell_type": "code",
   "execution_count": 55,
   "id": "7f6099e9",
   "metadata": {},
   "outputs": [],
   "source": [
    "#Convert height in feet and inches to just inches \n",
    "def height_to_inches_convert(col):\n",
    "    \n",
    "    '''\n",
    "    function takes in column with feet and inches height format (e.g. 5 ' 5) and returns value in inches\n",
    "    col: value with initial string format\n",
    "    '''\n",
    "    \n",
    "    # extracting all numbers from the height column so split from special characters\n",
    "    \n",
    "    extract = col.str.extractall(\"(\\d+)\").reset_index()\n",
    "    \n",
    "    # 2 values come out: one for feet and one for inches\n",
    "    # isolate both using boolean filter: match column indicates first and second value extracted where ft is index 0\n",
    "    \n",
    "    ft = extract[\"match\"] == 0\n",
    "    inches = extract[\"match\"] == 1\n",
    "    \n",
    "    # using boolean filter to get ft, inches and then convert both to numeric\n",
    "    # ft value multiplied by 12 to convert to inches\n",
    "\n",
    "    ft_conversion = extract[ft].drop([\"level_0\", \"match\"], axis=1).reset_index(drop=True).apply(pd.to_numeric) * 12\n",
    "    inch_conversion = extract[inches].drop([\"level_0\", \"match\"], axis=1).reset_index(drop=True).apply(pd.to_numeric)\n",
    "    \n",
    "    # add both numbers for total height in inches\n",
    "    \n",
    "    return ft_conversion[0] + inch_conversion[0]\n"
   ]
  },
  {
   "cell_type": "code",
   "execution_count": 56,
   "id": "f8ab7918",
   "metadata": {},
   "outputs": [],
   "source": [
    "#Get rid of observations with unknown Heights\n",
    "df_unknowns = df[df[\"Height\"]==\"unknown\"] \n",
    "df = df.drop(df_unknowns.index, axis=0) \n",
    "df = df.reset_index()\n"
   ]
  },
  {
   "cell_type": "code",
   "execution_count": 57,
   "id": "f240cf60",
   "metadata": {},
   "outputs": [],
   "source": [
    "df[\"Height\"] = height_to_inches_convert(col=df[\"Height\"])"
   ]
  },
  {
   "cell_type": "code",
   "execution_count": 58,
   "id": "da007ae0",
   "metadata": {},
   "outputs": [],
   "source": [
    "df[\"Height\"]=df[\"Height\"].astype(\"int\")"
   ]
  },
  {
   "cell_type": "code",
   "execution_count": 59,
   "id": "4e996c3a",
   "metadata": {},
   "outputs": [],
   "source": [
    "df.drop(columns=\"index\",inplace=True)\n",
    "df.drop(columns=[\"Label6\",\"Label8\"],inplace=True)"
   ]
  },
  {
   "cell_type": "code",
   "execution_count": 60,
   "id": "3adad543",
   "metadata": {},
   "outputs": [],
   "source": [
    "#Get rid of observations with unknown Ages \n",
    "df_unknowns_age = df[df[\"Age\"]==\"unknown\"] \n",
    "df = df.drop(df_unknowns_age.index, axis=0) \n",
    "df = df.reset_index()\n",
    "df.drop(columns=\"index\",inplace=True)\n",
    "df[\"Age\"]=df[\"Age\"].astype(\"int\")\n"
   ]
  },
  {
   "cell_type": "code",
   "execution_count": 61,
   "id": "ad52ea0a",
   "metadata": {},
   "outputs": [],
   "source": [
    "#Get rid of observations with unknown Weights \n",
    "df_unknowns_weight = df[df[\"Weight\"]==\"unknown\"] \n",
    "df = df.drop(df_unknowns_weight.index, axis=0) \n",
    "df = df.reset_index()\n",
    "df.drop(columns=\"index\",inplace=True)\n",
    "df[\"Weight\"]=df[\"Weight\"].astype(\"int\")"
   ]
  },
  {
   "cell_type": "markdown",
   "id": "8030709c",
   "metadata": {},
   "source": [
    "<font style=\"font-size: 2rem; color: blue\">\n",
    "\n",
    "3. Clean Garment Description Data \n",
    "       \n",
    "</font>"
   ]
  },
  {
   "cell_type": "code",
   "execution_count": 63,
   "id": "eae5015d",
   "metadata": {},
   "outputs": [],
   "source": [
    "#Removes the fabric content description in the Product Details. Removes everything up to the first parentheses.\n",
    "df[\"Product_details\"]=df[\"Product_details\"].replace(\"Lining (100% Cotton) \",\"\", regex=True)\n",
    "df[\"Product_details\"]=df[\"Product_details\"].replace(\"sleeve slit\",\"\", regex=True)\n",
    "df[\"Product_details\"]=df[\"Product_details\"].replace(\"sleees\",\"sleeves\", regex=True)\n",
    "df[\"Product_details\"]=df[\"Product_details\"].replace(\"sleves\",\"sleeves\", regex=True)\n",
    "\n",
    "\n",
    "parentheses = df[\"Product_details\"][0][54]\n",
    "for i in range(df.shape[0]):\n",
    "    df.at[i, \"Product_details\"] = df[\"Product_details\"][i][df[\"Product_details\"][i].find(parentheses):]\n",
    "    df.at[i, \"Product_details\"]= df[\"Product_details\"][i].lower()\n",
    "df[\"Product_details\"]=df[\"Product_details\"].replace(\"\\). \",\"\", regex=True)\n",
    "df[\"Product_details\"]=df[\"Product_details\"].replace(\"\\) . \",\"\", regex=True)\n",
    "df[\"Product_details\"]=df[\"Product_details\"].replace(\"\\) \",\"\", regex=True)\n"
   ]
  },
  {
   "cell_type": "code",
   "execution_count": 64,
   "id": "1c2776d5",
   "metadata": {},
   "outputs": [],
   "source": [
    "#Break up the garment description into a list and call it \"Details\". \n",
    "#df[\"Details\"][i][0] = style of garment \n",
    "#df[\"Details\"][i][2] = style of sleeves\n",
    "#df[\"Details\"][i][3] = neckline \n",
    "#df[\"Details\"][i][4] = length \n",
    "#df[\"Details\"][i][5] = Imported or domestic\n",
    "df[\"Details\"] = 1 \n",
    "df[\"Details\"] = df[\"Details\"].astype('object')\n",
    "for i in range(df.shape[0]):\n",
    "    x = df[\"Product_details\"][i].split(\". \")\n",
    "    df.at[i, 'Details'] = x"
   ]
  },
  {
   "cell_type": "code",
   "execution_count": 65,
   "id": "03e7a508",
   "metadata": {},
   "outputs": [],
   "source": [
    "# If the following words are present in a description, remove them. \n",
    "list_of_removal_words = [\"from\",\"embroidery\",\"imported.\",\"lined\",\"hemline\",\"contrast\",\"\\\"\",\"zipper\",\"made in the usa.\"]\n",
    "for k in range(df.shape[0]):\n",
    "    for word in list_of_removal_words:\n",
    "        for i in range(len(df[\"Details\"][k])):\n",
    "            if word in df[\"Details\"][k][i]:\n",
    "                df[\"Details\"][k][i] = \"drop\"\n",
    "for i in range(df.shape[0]):\n",
    "    clean_list=[]\n",
    "    for k in range(len(df[\"Details\"][i])):\n",
    "        if \"drop\" not in df[\"Details\"][i][k]:\n",
    "            clean_list.append(df[\"Details\"][i][k])\n",
    "    df.at[i, 'Details'] = clean_list\n"
   ]
  },
  {
   "cell_type": "markdown",
   "id": "d4e206e7",
   "metadata": {},
   "source": [
    "<font style=\"font-size: 2rem; color: blue\">\n",
    "\n",
    "3. Clean Garment Description Data \n",
    "<br> Sleeves \n",
    "<br>– create a column for type of sleeve on a garment. \n",
    "</font>"
   ]
  },
  {
   "cell_type": "code",
   "execution_count": 66,
   "id": "4bf8f749",
   "metadata": {},
   "outputs": [],
   "source": [
    "#This extracts the sleeve description from the item description. \n",
    "df[\"Sleeves\"] = 1\n",
    "df[\"Sleeves\"] = df[\"Sleeves\"].astype('object')\n",
    "for i in range(df.shape[0]):\n",
    "    for k in reversed(range(len(df[\"Details\"][i]))):\n",
    "        if \"sleev\" in df[\"Details\"][i][k].lower() or \"strapless\" in df[\"Details\"][i][k].lower() or \"halter\" in df[\"Details\"][i][k].lower():\n",
    "            df.at[i, \"Sleeves\"] = df[\"Details\"][i][k].lower()\n",
    "            df[\"Details\"][i][k] = \"drop\""
   ]
  },
  {
   "cell_type": "code",
   "execution_count": 67,
   "id": "d0bf6870",
   "metadata": {},
   "outputs": [],
   "source": [
    "for i in range(df.shape[0]):\n",
    "    if \"sleeveless\" in str(df[\"Sleeves\"][i]) or \"sleevleess\" in str(df[\"Sleeves\"][i]) or \"sleevess\" in str(df[\"Sleeves\"][i]) or \"sleevelss\" in str(df[\"Sleeves\"][i]) or \"sleevless\" in str(df[\"Sleeves\"][i]):\n",
    "        df.at[i, \"Sleeves\"] = \"sleeveless\"\n",
    "    elif \"quarter\" in str(df[\"Sleeves\"][i]) or \"3/4\" in str(df[\"Sleeves\"][i]) or \"¾\" in str(df[\"Sleeves\"][i]):\n",
    "        df.at[i, \"Sleeves\"] = \"three_quarter_sleeves\"\n",
    "    elif \"short\" in str(df[\"Sleeves\"][i]):\n",
    "        df.at[i, \"Sleeves\"] = \"short_sleeves\"\n",
    "    elif \"long\" in str(df[\"Sleeves\"][i]):\n",
    "        df.at[i, \"Sleeves\"] = \"long_sleeves\"    \n",
    "    elif \"cap\" in str(df[\"Sleeves\"][i]):\n",
    "        df.at[i, \"Sleeves\"] = \"cap_sleeves\"   \n",
    "    elif \"flutter\" in str(df[\"Sleeves\"][i]):\n",
    "        df.at[i, \"Sleeves\"] = \"flutter_sleeves\"    \n",
    "    elif \"strapless\" in str(df[\"Sleeves\"][i]):\n",
    "        df.at[i, \"Sleeves\"] = \"strapless\"\n",
    "    elif \"halter\" in str(df[\"Sleeves\"][i]):\n",
    "        df.at[i, \"Sleeves\"] = \"halter\"\n",
    "    elif \"off the shoulder neckline with ruffle detailing on sleeves\" in str(df[\"Sleeves\"][i]):\n",
    "        df.at[i, \"Sleeves\"] = \"short_sleeves\"   \n",
    "    "
   ]
  },
  {
   "cell_type": "code",
   "execution_count": 69,
   "id": "0c752a92",
   "metadata": {},
   "outputs": [
    {
     "data": {
      "text/plain": [
       "sleeveless               61444\n",
       "long_sleeves             36855\n",
       "short_sleeves            35701\n",
       "three_quarter_sleeves    12262\n",
       "cap_sleeves               6888\n",
       "flutter_sleeves           3760\n",
       "strapless                 3446\n",
       "1                          689\n",
       "halter                     282\n",
       "convertible sleeve          45\n",
       "elbow-length sleeve         33\n",
       "three sleeves               32\n",
       "one shoulder sleeves        27\n",
       "elbow-length sleeves        11\n",
       "Name: Sleeves, dtype: int64"
      ]
     },
     "execution_count": 69,
     "metadata": {},
     "output_type": "execute_result"
    }
   ],
   "source": [
    "#These are the type of Sleeves\n",
    "df.Sleeves.value_counts()"
   ]
  },
  {
   "cell_type": "markdown",
   "id": "46fb8aaf",
   "metadata": {},
   "source": [
    "<font style=\"font-size: 2rem; color: blue\">\n",
    "\n",
    "3. Clean Garment Description Data \n",
    "<br> Neckline \n",
    "<br>– create a column for type of neckline on a garment. \n",
    "</font>"
   ]
  },
  {
   "cell_type": "code",
   "execution_count": 70,
   "id": "71dc86cc",
   "metadata": {},
   "outputs": [],
   "source": [
    "#This extracts the sleeve description from the item description. \n",
    "df[\"Neckline\"] = 1\n",
    "df[\"Neckline\"] = df[\"Neckline\"].astype('object')\n",
    "for i in range(df.shape[0]):\n",
    "    for k in reversed(range(len(df[\"Details\"][i]))):\n",
    "        if \"neck\" in df[\"Details\"][i][k].lower():\n",
    "            df.at[i, \"Neckline\"] = df[\"Details\"][i][k]\n",
    "            df[\"Details\"][i][k] = \"drop\""
   ]
  },
  {
   "cell_type": "code",
   "execution_count": 71,
   "id": "10ca430f",
   "metadata": {},
   "outputs": [],
   "source": [
    "for i in range(df.shape[0]):\n",
    "    if \"v\" in str(df[\"Neckline\"][i]):\n",
    "        df.at[i, \"Neckline\"] = \"v_neckline\"\n",
    "    elif \"mock\" in str(df[\"Neckline\"][i]):\n",
    "        df.at[i, \"Neckline\"] = \"mock_neckline\"\n",
    "    elif \"halter\" in str(df[\"Neckline\"][i]) or \"hater\" in str(df[\"Neckline\"][i]):\n",
    "        df.at[i, \"Neckline\"] = \"halter\"\n",
    "    elif \"high\" in str(df[\"Neckline\"][i]):\n",
    "        df.at[i, \"Neckline\"] = \"high_neckline\"\n",
    "    elif \"shoulder\" in str(df[\"Neckline\"][i]) or \"shoudler\" in str(df[\"Neckline\"][i]):\n",
    "        df.at[i, \"Neckline\"] = \"off_shoulder\"\n",
    "    elif \"shirt\" in str(df[\"Neckline\"][i]) or \"collar\" in str(df[\"Neckline\"][i]):\n",
    "        df.at[i, \"Neckline\"] = \"shirt_collar_neckline\"    \n",
    "    elif \"crew\" in str(df[\"Neckline\"][i]) :\n",
    "        df.at[i, \"Neckline\"] = \"crew_neckline\"     \n",
    "    elif \"sweetheart\" in str(df[\"Neckline\"][i]) :\n",
    "        df.at[i, \"Neckline\"] = \"sweetheart\"    \n",
    "    elif \"cowl\" in str(df[\"Neckline\"][i]) :\n",
    "        df.at[i, \"Neckline\"] = \"cowl_neckline\"    \n",
    "    elif \"back\" in str(df[\"Neckline\"][i]) :\n",
    "        df.at[i, \"Neckline\"] = \"back_necktie\" \n",
    "    elif \"square\" in str(df[\"Neckline\"][i]) :\n",
    "        df.at[i, \"Neckline\"] = \"square_neckline\" \n",
    "    elif \"scoop\" in str(df[\"Neckline\"][i]) :\n",
    "        df.at[i, \"Neckline\"] = \"scoop_neckline\" \n",
    "    elif \"tie\" in str(df[\"Neckline\"][i]) :\n",
    "        df.at[i, \"Neckline\"] = \"tie_neckline\" \n",
    "    elif \"turtle\" in str(df[\"Neckline\"][i]) :\n",
    "        df.at[i, \"Neckline\"] = \"turtleneck\"  \n",
    "    elif \"straight neckline\" in str(df[\"Neckline\"][i]) :\n",
    "        df.at[i, \"Neckline\"] = \"turtleneck\" \n",
    "    elif \"boat\" in str(df[\"Neckline\"][i]) :\n",
    "        df.at[i, \"Neckline\"] = \"boat_neckline\" \n"
   ]
  },
  {
   "cell_type": "code",
   "execution_count": 72,
   "id": "547c372d",
   "metadata": {},
   "outputs": [
    {
     "data": {
      "text/plain": [
       "v_neckline                      54187\n",
       "crew_neckline                   40485\n",
       "high_neckline                   11327\n",
       "square_neckline                 10072\n",
       "off_shoulder                     8684\n",
       "1                                7565\n",
       "shirt_collar_neckline            5797\n",
       "sweetheart                       5746\n",
       "boat_neckline                    5197\n",
       "scoop_neckline                   5082\n",
       "turtleneck                       3049\n",
       "mock_neckline                    2701\n",
       "cowl_neckline                    1018\n",
       "tie_neckline                      159\n",
       "back_necktie                      136\n",
       "asymmetric neckline                69\n",
       "plunge neckline                    61\n",
       "surplice neckline                  29\n",
       "plunge neck                        27\n",
       "split neck                         24\n",
       "hook-and-eye closure at neck       23\n",
       "halter                             17\n",
       "n-neckline                         15\n",
       "split neckline                      5\n",
       "Name: Neckline, dtype: int64"
      ]
     },
     "execution_count": 72,
     "metadata": {},
     "output_type": "execute_result"
    }
   ],
   "source": [
    "#These are the total neckline types. \n",
    "df.Neckline.value_counts()"
   ]
  },
  {
   "cell_type": "markdown",
   "id": "d3916af5",
   "metadata": {},
   "source": [
    "<font style=\"font-size: 2rem; color: blue\">\n",
    "\n",
    "3. Clean Garment Description Data \n",
    "<br> Dress Style\n",
    "<br>– create a column for type of dress of a garment. \n",
    "</font>"
   ]
  },
  {
   "cell_type": "code",
   "execution_count": 73,
   "id": "a5141db7",
   "metadata": {},
   "outputs": [],
   "source": [
    "for i in range(df.shape[0]):\n",
    "    clean_list=[]\n",
    "    for k in range(len(df[\"Details\"][i])):\n",
    "        if \"drop\" not in df[\"Details\"][i][k]:\n",
    "            clean_list.append(df[\"Details\"][i][k])\n",
    "    df.at[i, 'Details'] = clean_list"
   ]
  },
  {
   "cell_type": "code",
   "execution_count": 74,
   "id": "7e2e29e1",
   "metadata": {},
   "outputs": [],
   "source": [
    "#This extracts the dress style description from the item description. \n",
    "df[\"Dress_Style\"] = 1\n",
    "df[\"Dress_Style\"] = df[\"Dress_Style\"].astype('object')\n",
    "            \n",
    "for i in range(df.shape[0]):\n",
    "    if len(df[\"Details\"][i])>0:\n",
    "        df.at[i, \"Dress_Style\"] = df[\"Details\"][i][0]"
   ]
  },
  {
   "cell_type": "code",
   "execution_count": 75,
   "id": "18a75606",
   "metadata": {},
   "outputs": [],
   "source": [
    "for i in range(df.shape[0]):\n",
    "    if \"hourglass\" in str(df[\"Dress_Style\"][i]) or \"hpurglass\" in str(df[\"Dress_Style\"][i]) or \"hourgless\" in str(df[\"Dress_Style\"][i]):\n",
    "        df.at[i, \"Dress_Style\"] = \"hourglass\"\n",
    "    elif \"wrap\" in str(df[\"Dress_Style\"][i]):\n",
    "        df.at[i, \"Dress_Style\"] = \"wrap\"\n",
    "    elif \"maxi\" in str(df[\"Dress_Style\"][i]):\n",
    "        df.at[i, \"Dress_Style\"] = \"maxi\"\n",
    "    elif \"blouson\" in str(df[\"Dress_Style\"][i]) or \"blosuon\" in str(df[\"Dress_Style\"][i]):\n",
    "        df.at[i, \"Dress_Style\"] = \"blouson\"  \n",
    "    elif \"shirtdress\" in str(df[\"Dress_Style\"][i]) or \"shirt dress\" in str(df[\"Dress_Style\"][i]):\n",
    "        df.at[i, \"Dress_Style\"] = \"shirtdress\"   \n",
    "    elif \"sheath\" in str(df[\"Dress_Style\"][i]):\n",
    "        df.at[i, \"Dress_Style\"] = \"sheath\"   \n",
    "    elif \"a-line\" in str(df[\"Dress_Style\"][i]):\n",
    "        df.at[i, \"Dress_Style\"] = \"a-line\"  \n",
    "    elif \"empire\" in str(df[\"Dress_Style\"][i]):\n",
    "        df.at[i, \"Dress_Style\"] = \"empire_waist\"\n",
    "    elif \"gown\" in str(df[\"Dress_Style\"][i]):\n",
    "        df.at[i, \"Dress_Style\"] = \"gown\"    \n",
    "    elif \"shift\" in str(df[\"Dress_Style\"][i]):\n",
    "        df.at[i, \"Dress_Style\"] = \"shift\" \n",
    "    elif \"slip\" in str(df[\"Dress_Style\"][i]):\n",
    "        df.at[i, \"Dress_Style\"] = \"slip_dress\"  \n",
    "    elif \"lining: 80% nylon, 20% spandex\" in str(df[\"Dress_Style\"][i]) or \"three quarter sleeves\" in str(df[\"Dress_Style\"][i])  :\n",
    "        df.at[i, \"Dress_Style\"] = \"sheath\"\n",
    "    elif \"short sleeves with cold shoulder detail\" in str(df[\"Dress_Style\"][i]):\n",
    "        df.at[i, \"Dress_Style\"] = \"maxi\"  \n",
    "    elif \"sleeveless with shirt collar\" in str(df[\"Dress_Style\"][i]) or \"full skirt\" in str(df[\"Dress_Style\"][i]):\n",
    "        df.at[i, \"Dress_Style\"] = \"full skirt\" "
   ]
  },
  {
   "cell_type": "code",
   "execution_count": 76,
   "id": "6ae28422",
   "metadata": {},
   "outputs": [
    {
     "data": {
      "text/plain": [
       "hourglass                                            55714\n",
       "sheath                                               44857\n",
       "shift                                                15024\n",
       "gown                                                 10795\n",
       "maxi                                                  7819\n",
       "full skirt                                            7028\n",
       "wrap                                                  6132\n",
       "blouson                                               2994\n",
       "1                                                     1548\n",
       "fitted skirt                                          1370\n",
       "empire_waist                                          1264\n",
       "a-line                                                1038\n",
       "see size and fit tab for length                        702\n",
       "shirtdress                                             443\n",
       "step in and pull up style                              283\n",
       "pencil skirt                                           265\n",
       ".                                                      224\n",
       "cocktail dresses                                       159\n",
       "slip_dress                                             152\n",
       "one shoulder                                           151\n",
       "ruched bodice                                          151\n",
       "mermaid skirt                                          148\n",
       "dress                                                  138\n",
       "fitted skirt with front slit                           122\n",
       "casual dresses                                         113\n",
       "fit and flare skirt                                     98\n",
       "ruched waist                                            89\n",
       "fitted skirt with back slit                             88\n",
       "boned bodice                                            84\n",
       "pencil skirt with ruching                               83\n",
       "shirt collar                                            75\n",
       "fitted bodice                                           71\n",
       "elastic waistband                                       66\n",
       "cowl back detail                                        58\n",
       "pencil skirt with scalloped lace hem                    57\n",
       "hidden side pockets                                     37\n",
       "fitted skirt with peplum                                36\n",
       "fitted tea length skirt                                 35\n",
       "open back                                               35\n",
       "fitted skirt with sheer waist panel                     34\n",
       "back keyhole with button closure                        34\n",
       "step in and pull up in style                            34\n",
       "side and back cut out detail                            34\n",
       "sewn on rosette details                                 34\n",
       "full pleated skirt                                      34\n",
       "straight skirt with back slit                           33\n",
       "hook-and-eye closure                                    33\n",
       "sweater                                                 33\n",
       "fitted envelope skirt                                   33\n",
       "full trumpet skirt with illusion detail                 33\n",
       "                                                        33\n",
       "open back with button closure                           32\n",
       "fitted skirt.                                           32\n",
       "full hi lo skirt                                        32\n",
       "straight skirt with mesh insert at waist                32\n",
       "full hi-low skirt                                       32\n",
       "lace detail at hem                                      31\n",
       "pencil skirt with flounce ruffled hem                   31\n",
       "see size and fit tab for full length                    31\n",
       "full tea length skirt                                   31\n",
       "low back with cowl                                      31\n",
       "exposed front button closures                           31\n",
       "column skirt with front slit and cut-out at waist       31\n",
       "elastic waistband with drawstring                       31\n",
       "v-back                                                  30\n",
       "side and back cut outs                                  30\n",
       "full floral skirt                                       30\n",
       "made in nyc.                                            30\n",
       "cutout at waist                                         29\n",
       "see size and fit tab for length.                        29\n",
       "ruching waist                                           29\n",
       "black panels at waist and back                          29\n",
       "fitted skirt with side slit                             29\n",
       "high low                                                28\n",
       "pencil skirt with ruching at waist                      28\n",
       "trumpet skirt                                           28\n",
       "side pockets                                            28\n",
       "sequin overlay                                          28\n",
       "fitted skirt with peplum detail                         28\n",
       "sheer bodice                                            28\n",
       "sequin coloration may vary                              27\n",
       "pencil skirt with ruching detail                        27\n",
       "low back                                                27\n",
       "fitted skirt with twist detail at waist                 27\n",
       "draped back                                             27\n",
       "illusion with black and white overlay lace              26\n",
       "fitted skirt with side ruching at waist                 26\n",
       "hourlgass                                               26\n",
       "lining: 100% polyester                                  26\n",
       "sweater dress                                           25\n",
       "beaded waist                                            25\n",
       "fitted skirt with mermaid hem                           25\n",
       "off the shoulder                                        25\n",
       "ruched bodice with draping detail on back               24\n",
       "column                                                  24\n",
       "straight                                                23\n",
       "back cut out                                            23\n",
       "straight skirt with side ruching and front slit         23\n",
       "tiered ruffle skirt with stripe detail                  22\n",
       "combo (100% polyestercolumn                             22\n",
       "fitted skirt with trumpet hem                           22\n",
       "\\nlace detail at hem                                    22\n",
       "midi                                                    21\n",
       "caftan                                                  19\n",
       "exposed front button down placket                       19\n",
       "tunic dress                                             19\n",
       "imported                                                 9\n",
       "fit-and-flare                                            8\n",
       "top                                                      5\n",
       "see size and fit notes for length measurements           5\n",
       "bodycon                                                  2\n",
       "mini                                                     2\n",
       "mermaid                                                  1\n",
       "blouse                                                   1\n",
       "tunic                                                    1\n",
       "pull-on                                                  1\n",
       "houseglass                                               1\n",
       "Name: Dress_Style, dtype: int64"
      ]
     },
     "execution_count": 76,
     "metadata": {},
     "output_type": "execute_result"
    }
   ],
   "source": [
    "#These are the final Dress styles of each garment. \n",
    "df.Dress_Style.value_counts()"
   ]
  },
  {
   "cell_type": "code",
   "execution_count": 77,
   "id": "97bcc73d",
   "metadata": {},
   "outputs": [
    {
     "data": {
      "text/plain": [
       "(161475, 20)"
      ]
     },
     "execution_count": 77,
     "metadata": {},
     "output_type": "execute_result"
    }
   ],
   "source": [
    "df.shape"
   ]
  },
  {
   "cell_type": "code",
   "execution_count": 78,
   "id": "65554c53",
   "metadata": {},
   "outputs": [
    {
     "data": {
      "text/plain": [
       "Index(['Size', 'Overall_fit', 'Rented_for', 'Size_usually_worn', 'Height',\n",
       "       'Age', 'Bust_size', 'Body_type', 'Weight', 'Rating', 'Brand',\n",
       "       'Dress_Description', 'Retail_price', 'Rent_price', 'Product_details',\n",
       "       'Number_of_reviews', 'Details', 'Sleeves', 'Neckline', 'Dress_Style'],\n",
       "      dtype='object')"
      ]
     },
     "execution_count": 78,
     "metadata": {},
     "output_type": "execute_result"
    }
   ],
   "source": [
    "df.columns"
   ]
  },
  {
   "cell_type": "code",
   "execution_count": 80,
   "id": "93f04455",
   "metadata": {},
   "outputs": [],
   "source": [
    "df.drop(df[df['Sleeves'] == 1].index, inplace = True)"
   ]
  },
  {
   "cell_type": "code",
   "execution_count": 82,
   "id": "3c05c752",
   "metadata": {},
   "outputs": [],
   "source": [
    "df.drop(df[df['Neckline'] == 1].index, inplace = True)"
   ]
  },
  {
   "cell_type": "code",
   "execution_count": 83,
   "id": "c1e9248b",
   "metadata": {},
   "outputs": [],
   "source": [
    "df.drop(df[df['Dress_Style'] == 1].index, inplace = True)"
   ]
  },
  {
   "cell_type": "code",
   "execution_count": 84,
   "id": "f62e69e2",
   "metadata": {},
   "outputs": [],
   "source": [
    "df.drop(df[df['Dress_Style'] == \".\"].index, inplace = True)"
   ]
  },
  {
   "cell_type": "code",
   "execution_count": 85,
   "id": "a5e0b066",
   "metadata": {},
   "outputs": [
    {
     "data": {
      "text/plain": [
       "(152018, 20)"
      ]
     },
     "execution_count": 85,
     "metadata": {},
     "output_type": "execute_result"
    }
   ],
   "source": [
    "df.shape"
   ]
  },
  {
   "cell_type": "code",
   "execution_count": 86,
   "id": "1f019b6a",
   "metadata": {},
   "outputs": [],
   "source": [
    "df.drop(columns=[\"Details\",'Product_details'],inplace=True)"
   ]
  },
  {
   "cell_type": "code",
   "execution_count": 88,
   "id": "a5f7894b",
   "metadata": {},
   "outputs": [
    {
     "data": {
      "text/plain": [
       "Index(['Size', 'Overall_fit', 'Rented_for', 'Size_usually_worn', 'Height',\n",
       "       'Age', 'Bust_size', 'Body_type', 'Weight', 'Rating', 'Brand',\n",
       "       'Dress_Description', 'Retail_price', 'Rent_price', 'Number_of_reviews',\n",
       "       'Sleeves', 'Neckline', 'Dress_Style'],\n",
       "      dtype='object')"
      ]
     },
     "execution_count": 88,
     "metadata": {},
     "output_type": "execute_result"
    }
   ],
   "source": [
    "df.columns"
   ]
  },
  {
   "cell_type": "code",
   "execution_count": 95,
   "id": "fa3d9bae",
   "metadata": {},
   "outputs": [
    {
     "data": {
      "text/plain": [
       "array([ 66,  67,  70,  64,  65,  76,  72,  68,  62,  69,  63,  61,  71,\n",
       "        60,  59,  74,  73,  55,  58,  75,  57,  56, 126,  54,  78,  53,\n",
       "        77])"
      ]
     },
     "execution_count": 95,
     "metadata": {},
     "output_type": "execute_result"
    }
   ],
   "source": [
    "df.Height.unique()"
   ]
  },
  {
   "cell_type": "code",
   "execution_count": null,
   "id": "76d2e2d3",
   "metadata": {},
   "outputs": [],
   "source": []
  }
 ],
 "metadata": {
  "kernelspec": {
   "display_name": "Python 3 (ipykernel)",
   "language": "python",
   "name": "python3"
  },
  "language_info": {
   "codemirror_mode": {
    "name": "ipython",
    "version": 3
   },
   "file_extension": ".py",
   "mimetype": "text/x-python",
   "name": "python",
   "nbconvert_exporter": "python",
   "pygments_lexer": "ipython3",
   "version": "3.9.7"
  }
 },
 "nbformat": 4,
 "nbformat_minor": 5
}
